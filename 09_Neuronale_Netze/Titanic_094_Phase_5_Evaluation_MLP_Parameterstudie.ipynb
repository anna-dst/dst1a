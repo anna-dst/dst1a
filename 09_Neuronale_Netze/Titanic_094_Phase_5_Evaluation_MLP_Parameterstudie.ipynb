{
 "cells": [
  {
   "cell_type": "markdown",
   "metadata": {},
   "source": [
    "## Phase 5 (Evaluation): Multilayer Perceptron -- Parameterstudie"
   ]
  },
  {
   "cell_type": "markdown",
   "metadata": {},
   "source": [
    "* Autorin: Anna (i3-Versicherung)\n",
    "* Webseite: [Data Science Training - Kapitel 9](https://data-science.training/kapitel-9/)\n",
    "* Datum: 23.03.2023"
   ]
  },
  {
   "cell_type": "markdown",
   "metadata": {},
   "source": [
    " Version 5 Attempt 1 bis 5"
   ]
  },
  {
   "cell_type": "code",
   "execution_count": 4,
   "metadata": {},
   "outputs": [],
   "source": [
    "# Pandas Paket (Package) importieren\n",
    "#  Datenstrukturen und Datenanalyse, I/O\n",
    "#  https://pandas.pydata.org/pandas-docs/stable/\n",
    "import pandas as pd\n",
    "# Pickle Paket (Package) importieren\n",
    "#  Objekte serialisieren\n",
    "#  https://docs.python.org/3/library/pickle.html\n",
    "import pickle as pk"
   ]
  },
  {
   "cell_type": "code",
   "execution_count": 5,
   "metadata": {},
   "outputs": [],
   "source": [
    "# Datenversion festlegen: 5\n",
    "version  = 5\n",
    "# Modell-Abkürzung festlegen: mlp = Multilayer Perceptron\n",
    "shortcut = 'mlp'\n",
    "# Parameterstudie festlegen: 1 bis 5\n",
    "attempt  = 5"
   ]
  },
  {
   "cell_type": "code",
   "execution_count": 6,
   "metadata": {},
   "outputs": [],
   "source": [
    "# Testdaten als Pandas Data Frame (df) aus Excel-Datei laden\n",
    "#  (KNIME: \"Excel Reader\")\n",
    "filename = '../../data/titanic/new/test_v' + str(version) + '.xlsx'\n",
    "df_test  = pd.read_excel(filename)"
   ]
  },
  {
   "cell_type": "code",
   "execution_count": 7,
   "metadata": {},
   "outputs": [],
   "source": [
    "# Modell laden\n",
    "#  (KNIME: \"PMML Reader\")\n",
    "filename = '../../models/titanic/new/' + shortcut + '_v' + str(version) + '_opt_' + str(attempt)\n",
    "model = pk.load(open(filename, 'rb'))"
   ]
  },
  {
   "cell_type": "code",
   "execution_count": 8,
   "metadata": {},
   "outputs": [],
   "source": [
    "# Scaler laden\n",
    "#  (KNIME: \"PMML Reader\")\n",
    "filename += '_scaler'\n",
    "scaler = pk.load(open(filename, 'rb'))"
   ]
  },
  {
   "cell_type": "code",
   "execution_count": 9,
   "metadata": {},
   "outputs": [],
   "source": [
    "# Testdaten: Daten ohne PassengerId extrahieren\n",
    "X_test = df_test.iloc[:,1:].values"
   ]
  },
  {
   "cell_type": "code",
   "execution_count": 10,
   "metadata": {},
   "outputs": [],
   "source": [
    "# Input-Werte skalieren\n",
    "#  (KNIME: \"Normalizer Apply (PMML)\")\n",
    "X_test = scaler.transform(X_test)"
   ]
  },
  {
   "cell_type": "code",
   "execution_count": 11,
   "metadata": {},
   "outputs": [],
   "source": [
    "# Prognosen und Wahrscheinlichkeiten bestimmen\n",
    "#  (KNIME: \"XYZ Predictor\")\n",
    "y_pred = model.predict(X_test)\n",
    "y_prob = model.predict_proba(X_test)"
   ]
  },
  {
   "cell_type": "code",
   "execution_count": 12,
   "metadata": {},
   "outputs": [],
   "source": [
    "# Ergebnisse in das Data Frame kopieren\n",
    "df_test['Survived'] = y_pred\n",
    "df_test['ProbN']    = y_prob[:,0]\n",
    "df_test['ProbP']    = y_prob[:,1]"
   ]
  },
  {
   "cell_type": "code",
   "execution_count": 13,
   "metadata": {},
   "outputs": [],
   "source": [
    "# Relevante Ergebnisse filtern\n",
    "#  (KNIME: \"Column Filter\")\n",
    "df_res = df_test.filter(['PassengerId', 'Survived', 'ProbN', 'ProbP'])"
   ]
  },
  {
   "cell_type": "code",
   "execution_count": 14,
   "metadata": {},
   "outputs": [],
   "source": [
    "# Ergebnisse als CSV-Datei speichern\n",
    "#  (KNIME: \"CSV Writer\")\n",
    "filename = '../../data/titanic/submission/' + shortcut + '_v' + str(version) + '_opt_' + str(attempt) + '.csv'\n",
    "df_res.to_csv(filename, index=False)"
   ]
  },
  {
   "cell_type": "code",
   "execution_count": 15,
   "metadata": {},
   "outputs": [],
   "source": [
    "# Ergebnis-Datei auf Webseite hochladen\n",
    "# https://data-science.training/upload/"
   ]
  },
  {
   "cell_type": "markdown",
   "metadata": {},
   "source": [
    "### Ergebnisse (Gütemaße)\n",
    "\n",
    "#### Version 5 (Float) Attempt 1\n",
    "\n",
    "* Genauigkeit \t(Accuracy) \t: \t75,60 \t%\n",
    "* Spezifität \t(Specificity) \t: \t81,92 \t%\n",
    "* Sensitivität \t(Sensitivity) \t: \t65,19 \t%\n",
    "* Präzision \t(Precision) \t: \t68,67 \t%\n",
    "* Recall \t(Recall) \t: \t65,19 \t%\n",
    "* F-Maß \t(F1 Score) \t: \t66,88 \t%\n",
    "* AURC \t(AURC) \t: \t80,56 \t%\n",
    "* LogLoss \t(LogLoss) \t: \t0,576\n",
    "\n",
    "#### Version 5 (Float) Attempt 2\n",
    "\n",
    "* Genauigkeit \t(Accuracy) \t: \t77,03 \t%\n",
    "* Spezifität \t(Specificity) \t: \t86,15 \t%\n",
    "* Sensitivität \t(Sensitivity) \t: \t62,03 \t%\n",
    "* Präzision \t(Precision) \t: \t73,13 \t%\n",
    "* Recall \t(Recall) \t: \t62,03 \t%\n",
    "* F-Maß \t(F1 Score) \t: \t67,12 \t%\n",
    "* AURC \t(AURC) \t: \t81,74 \t%\n",
    "* LogLoss \t(LogLoss) \t: \t0,512 \t \n",
    "\n",
    "#### Version 5 (Float) Attempt 3\n",
    "\n",
    "* Genauigkeit \t(Accuracy) \t: \t77,75 \t%\n",
    "* Spezifität \t(Specificity) \t: \t86,92 \t%\n",
    "* Sensitivität \t(Sensitivity) \t: \t62,66 \t%\n",
    "* Präzision \t(Precision) \t: \t74,44 \t%\n",
    "* Recall \t(Recall) \t: \t62,66 \t%\n",
    "* F-Maß \t(F1 Score) \t: \t68,04 \t%\n",
    "* AURC \t(AURC) \t: \t82,51 \t%\n",
    "* LogLoss \t(LogLoss) \t: \t0,488\n",
    "\n",
    "#### Version 5 (Float) Attempt 4\n",
    "\n",
    "* Genauigkeit \t(Accuracy) \t: \t77,27 \t%\n",
    "* Spezifität \t(Specificity) \t: \t85,77 \t%\n",
    "* Sensitivität \t(Sensitivity) \t: \t63,29 \t%\n",
    "* Präzision \t(Precision) \t: \t72,99 \t%\n",
    "* Recall \t(Recall) \t: \t63,29 \t%\n",
    "* F-Maß \t(F1 Score) \t: \t67,80 \t%\n",
    "* AURC \t(AURC) \t: \t82,50 \t%\n",
    "* LogLoss \t(LogLoss) \t: \t0,488\n",
    "\n",
    "#### Version 5 (Float) Attempt 5\n",
    "\n",
    "* Genauigkeit \t(Accuracy) \t: \t78,23 \t%\n",
    "* Spezifität \t(Specificity) \t: \t86,92 \t%\n",
    "* Sensitivität \t(Sensitivity) \t: \t63,92 \t%\n",
    "* Präzision \t(Precision) \t: \t74,81 \t%\n",
    "* Recall \t(Recall) \t: \t63,92 \t%\n",
    "* F-Maß \t(F1 Score) \t: \t68,94 \t%\n",
    "* AURC \t(AURC) \t: \t82,56 \t%\n",
    "* LogLoss \t(LogLoss) \t: \t0,490\n"
   ]
  }
 ],
 "metadata": {
  "kernelspec": {
   "display_name": "Python 3 (ipykernel)",
   "language": "python",
   "name": "python3"
  },
  "language_info": {
   "codemirror_mode": {
    "name": "ipython",
    "version": 3
   },
   "file_extension": ".py",
   "mimetype": "text/x-python",
   "name": "python",
   "nbconvert_exporter": "python",
   "pygments_lexer": "ipython3",
   "version": "3.12.4"
  }
 },
 "nbformat": 4,
 "nbformat_minor": 4
}
