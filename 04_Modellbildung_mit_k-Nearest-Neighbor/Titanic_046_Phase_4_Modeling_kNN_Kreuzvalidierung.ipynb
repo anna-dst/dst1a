{
 "cells": [
  {
   "cell_type": "markdown",
   "id": "da5bdbde",
   "metadata": {},
   "source": [
    "## Phase 4 (Modeling): k-Nearest Neighbor - mit Kreuzvalidierung"
   ]
  },
  {
   "cell_type": "markdown",
   "id": "6d52d777",
   "metadata": {},
   "source": [
    "* Autorin: Anna (i3-Versicherung)\n",
    "* Webseite: [Data Science Training - Kapitel 4](https://data-science.training/kapitel-4/)\n",
    "* Datum: 23.03.2023"
   ]
  },
  {
   "cell_type": "markdown",
   "id": "201c8603",
   "metadata": {},
   "source": [
    "Diesmal benutzen wir die stratifizierte k-fache Kreuzvalidierung"
   ]
  },
  {
   "cell_type": "code",
   "execution_count": 4,
   "id": "6615f550",
   "metadata": {},
   "outputs": [],
   "source": [
    "# Pandas Paket (Package) importieren\n",
    "#  Datenstrukturen und Datenanalyse, I/O\n",
    "#  https://pandas.pydata.org/pandas-docs/stable/\n",
    "import pandas as pd\n",
    "# Klassen und Funktionen der scikit-learn Module importieren\n",
    "#  Maschinelles Lernen, Algorithmen\n",
    "#  https://scikit-learn.org/stable/modules/classes.html\n",
    "from sklearn.model_selection import StratifiedKFold, cross_val_score\n",
    "from sklearn.neighbors import KNeighborsClassifier"
   ]
  },
  {
   "cell_type": "code",
   "execution_count": 5,
   "id": "0207949d",
   "metadata": {},
   "outputs": [],
   "source": [
    "# Trainingsdaten als Pandas Data Frame (df) aus Excel-Datei laden\n",
    "#  (KNIME: \"Excel Reader\")\n",
    "df_train = pd.read_excel('../../data/titanic/new/training_v2.xlsx')"
   ]
  },
  {
   "cell_type": "code",
   "execution_count": 6,
   "id": "cb263961",
   "metadata": {},
   "outputs": [],
   "source": [
    "# Beschreibende Attribute extrahieren (ohne Survived)\n",
    "X = df_train.iloc[:,1:].values\n",
    "# Klassenattribut (Survived) extrahieren\n",
    "y = df_train.iloc[:,0].values"
   ]
  },
  {
   "cell_type": "code",
   "execution_count": 7,
   "id": "e3f0500d",
   "metadata": {},
   "outputs": [],
   "source": [
    "# Stratifizierte k-fache Kreuzvalidierung (mit k = 10)\n",
    "#  (KNIME: \"X-Partitioner\", \"X-Aggregator\")\n",
    "skf = StratifiedKFold(n_splits=10, random_state=0, shuffle=True)"
   ]
  },
  {
   "cell_type": "code",
   "execution_count": 8,
   "id": "28d43cd9",
   "metadata": {},
   "outputs": [
    {
     "name": "stdout",
     "output_type": "stream",
     "text": [
      "Genauigkeit für k = 1 :  62.622971285892625\n",
      "Genauigkeit für k = 3 :  69.58426966292134\n",
      "Genauigkeit für k = 5 :  68.91011235955055\n",
      "Genauigkeit für k = 7 :  69.36204744069913\n",
      "Genauigkeit für k = 9 :  70.14731585518102\n",
      "Genauigkeit für k = 11 :  70.25717852684144\n",
      "Genauigkeit für k = 13 :  70.47940074906366\n",
      "Genauigkeit für k = 15 :  70.48439450686642\n",
      "Genauigkeit für k = 17 :  70.59550561797752\n",
      "Genauigkeit für k = 19 :  70.14481897627965\n",
      "Genauigkeit für k = 21 :  71.15355805243446\n",
      "Genauigkeit für k = 23 :  71.71535580524345\n",
      "Genauigkeit für k = 25 :  71.94007490636704\n",
      "Genauigkeit für k = 27 :  71.82646691635455\n",
      "Genauigkeit für k = 29 :  71.71535580524345\n"
     ]
    }
   ],
   "source": [
    "# Schleife über den Parameter (Anzahl der nächsten Nachbarn) \n",
    "k_best  = 0\n",
    "max_acc = 0\n",
    "for k in range(1, 30, 2): # Schleife über n von 1 bis 29 mit Schrittweite 2, also 1,3,5,...,29\n",
    "    model = KNeighborsClassifier(n_neighbors=k) # Initialisierung des Modells (kNN)\n",
    "    scores = cross_val_score(model, X, y, scoring='accuracy', cv=skf) # Berechnung der Gütemaße\n",
    "    acc = 100 * scores.mean() # Mittelwert der Genauigkeiten\n",
    "    print('Genauigkeit für k =', k, ': ', acc)\n",
    "    if acc > max_acc: # Neue beste Genauigkeit gefunden\n",
    "        max_acc = acc # Speichere diese neue beste Genauigkeit\n",
    "        k_best = k    # Merke den zugehörigen Parameter"
   ]
  },
  {
   "cell_type": "code",
   "execution_count": 9,
   "id": "a66a5242",
   "metadata": {},
   "outputs": [
    {
     "name": "stdout",
     "output_type": "stream",
     "text": [
      "Bester Parameter k = 25\n"
     ]
    }
   ],
   "source": [
    "# kNN-Methode auswählen und besten Parameter (k = Anzahl der Nachbarn) einstellen\n",
    "#  (KNIME: \"K Nearest Neighbor\")\n",
    "print('Bester Parameter k =', k_best)\n",
    "model = KNeighborsClassifier(n_neighbors=k_best)"
   ]
  },
  {
   "cell_type": "code",
   "execution_count": 10,
   "id": "f6edff9b",
   "metadata": {},
   "outputs": [
    {
     "name": "stdout",
     "output_type": "stream",
     "text": [
      "Genauigkeit:  71.94 %\n"
     ]
    }
   ],
   "source": [
    "# Genauigkeit (Accuracy) bestimmen und ausgeben\n",
    "#  (KNIME: \"Scorer\")\n",
    "scores = cross_val_score(model, X, y, scoring='accuracy', cv=skf)\n",
    "print('Genauigkeit: %6.2f %%' % (100*scores.mean()))"
   ]
  },
  {
   "cell_type": "markdown",
   "id": "6386f246",
   "metadata": {},
   "source": [
    "## Ergebnis\n",
    "\n",
    "Für k=25 bekommen wir eine Genauigkeit von 71,9 %."
   ]
  }
 ],
 "metadata": {
  "kernelspec": {
   "display_name": "Python 3 (ipykernel)",
   "language": "python",
   "name": "python3"
  },
  "language_info": {
   "codemirror_mode": {
    "name": "ipython",
    "version": 3
   },
   "file_extension": ".py",
   "mimetype": "text/x-python",
   "name": "python",
   "nbconvert_exporter": "python",
   "pygments_lexer": "ipython3",
   "version": "3.12.4"
  }
 },
 "nbformat": 4,
 "nbformat_minor": 5
}
