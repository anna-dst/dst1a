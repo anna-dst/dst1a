{
 "cells": [
  {
   "cell_type": "markdown",
   "id": "da5bdbde",
   "metadata": {},
   "source": [
    "## Phase 4 (Modeling): k-Nearest Neighbor"
   ]
  },
  {
   "cell_type": "markdown",
   "id": "7f090f17",
   "metadata": {},
   "source": [
    "* Autorin: Anna (i3-Versicherung)\n",
    "* Webseite: [Data Science Training - Kapitel 4](https://data-science.training/kapitel-4/)\n",
    "* Datum: 23.03.2023"
   ]
  },
  {
   "cell_type": "markdown",
   "id": "201c8603",
   "metadata": {},
   "source": [
    "Manuelle Parameterstudie für k.\n",
    "\n",
    "Hierzu müssen wir den Wert von k (bzw. n_neighbors) ändern und dann dieses Notebook neu ausführen. "
   ]
  },
  {
   "cell_type": "code",
   "execution_count": 4,
   "id": "6615f550",
   "metadata": {},
   "outputs": [],
   "source": [
    "# Pandas Paket (Package) importieren\n",
    "#  Datenstrukturen und Datenanalyse, I/O\n",
    "#  https://pandas.pydata.org/pandas-docs/stable/\n",
    "import pandas as pd\n",
    "# Klassen und Funktionen der scikit-learn Module importieren\n",
    "#  Maschinelles Lernen, Algorithmen\n",
    "#  https://scikit-learn.org/stable/modules/classes.html\n",
    "from sklearn.metrics import accuracy_score\n",
    "from sklearn.model_selection import train_test_split\n",
    "from sklearn.neighbors import KNeighborsClassifier"
   ]
  },
  {
   "cell_type": "code",
   "execution_count": 5,
   "id": "0207949d",
   "metadata": {},
   "outputs": [],
   "source": [
    "# Trainingsdaten als Pandas Data Frame (df) aus Excel-Datei laden\n",
    "#  (KNIME: \"Excel Reader\")\n",
    "df_train = pd.read_excel('../../data/titanic/new/training_v2.xlsx')"
   ]
  },
  {
   "cell_type": "code",
   "execution_count": 6,
   "id": "e3f0500d",
   "metadata": {},
   "outputs": [
    {
     "name": "stdout",
     "output_type": "stream",
     "text": [
      "Gesamtdaten :  891\n",
      "Training    :  801\n",
      "Validierung :  90\n"
     ]
    }
   ],
   "source": [
    "# Trainingsdaten in zwei Partitionen (Training: 90 %, Validierung 10 %) aufteilen\n",
    "#  (KNIME: \"Partitioning\")\n",
    "training, validation = train_test_split(df_train, test_size=0.1, random_state=0, stratify=df_train['Survived'])\n",
    "#\n",
    "print('Gesamtdaten : ', df_train.shape[0])\n",
    "print('Training    : ', training.shape[0])\n",
    "print('Validierung : ', validation.shape[0])"
   ]
  },
  {
   "cell_type": "code",
   "execution_count": 7,
   "id": "56eaf3f7",
   "metadata": {},
   "outputs": [],
   "source": [
    "# Beschreibende Attribute extrahieren\n",
    "X     =   training.iloc[:,1:].values\n",
    "X_val = validation.iloc[:,1:].values\n",
    "# Klassenattribut (Survived) extrahieren\n",
    "y     =   training.iloc[:,0].values\n",
    "y_val = validation.iloc[:,0].values"
   ]
  },
  {
   "cell_type": "code",
   "execution_count": 8,
   "id": "373748b6",
   "metadata": {},
   "outputs": [],
   "source": [
    "# Ein paar Ausgaben als Test\n",
    "#display(X)\n",
    "#display(X_val)\n",
    "#display(y)\n",
    "#display(y_val)"
   ]
  },
  {
   "cell_type": "code",
   "execution_count": 9,
   "id": "a66a5242",
   "metadata": {},
   "outputs": [],
   "source": [
    "# kNN-Methode auswählen und Parameter (k = Anzahl der Nachbarn) einstellen\n",
    "#  (KNIME: \"K Nearest Neighbor\")\n",
    "model = KNeighborsClassifier(n_neighbors=7)\n",
    "# Modell mit Trainingsdaten trainieren\n",
    "model.fit(X, y)\n",
    "# Prognosen für Validierungsdaten erstellen\n",
    "y_pred = model.predict(X_val)"
   ]
  },
  {
   "cell_type": "code",
   "execution_count": 10,
   "id": "f6edff9b",
   "metadata": {},
   "outputs": [
    {
     "name": "stdout",
     "output_type": "stream",
     "text": [
      "Genauigkeit:  70.00 %\n"
     ]
    }
   ],
   "source": [
    "# Genauigkeit (Accuracy) bestimmen und ausgeben\n",
    "#  (KNIME: \"Scorer\")\n",
    "acc = accuracy_score(y_val, y_pred)\n",
    "print('Genauigkeit: %6.2f %%' % (100*acc))"
   ]
  },
  {
   "cell_type": "markdown",
   "id": "75de4407",
   "metadata": {},
   "source": [
    "### Ergebnisse der Parameterstudie\n",
    "\n",
    "\n",
    "| k  | Genauigkeit |     |\n",
    "|---:|------------:|:----|\n",
    "|  1 | 66,7        |     |\n",
    "|  3 | 67,8        |     |\n",
    "|  5 | 68,9        |     |\n",
    "|  7 | 70,0        | Top |\n",
    "|  9 | 68,9        |     |\n",
    "| 11 | 68,9        |     | \n",
    "| 13 | 70,0        |     |\n",
    "| 15 | 68,9        |     |\n",
    "| 17 | 67,8        |     |\n",
    "| 19 | 66,7        |     |\n",
    "| 21 | 66,7        |     |\n",
    "| 23 | 65,6        |     |\n",
    "| 25 | 65,6        |     |\n",
    "| 27 | 65,6        |     |\n",
    "| 29 | 66,7        |     |"
   ]
  }
 ],
 "metadata": {
  "kernelspec": {
   "display_name": "Python 3 (ipykernel)",
   "language": "python",
   "name": "python3"
  },
  "language_info": {
   "codemirror_mode": {
    "name": "ipython",
    "version": 3
   },
   "file_extension": ".py",
   "mimetype": "text/x-python",
   "name": "python",
   "nbconvert_exporter": "python",
   "pygments_lexer": "ipython3",
   "version": "3.12.4"
  }
 },
 "nbformat": 4,
 "nbformat_minor": 5
}
