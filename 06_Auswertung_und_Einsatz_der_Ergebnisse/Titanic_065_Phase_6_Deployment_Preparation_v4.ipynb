{
 "cells": [
  {
   "cell_type": "markdown",
   "metadata": {},
   "source": [
    "## Phase 6 (Deployment): Preparation (v4: Int)"
   ]
  },
  {
   "cell_type": "markdown",
   "metadata": {},
   "source": [
    "* Autorin: Anna (i3-Versicherung)\n",
    "* Webseite: [Data Science Training - Kapitel 6](https://data-science.training/kapitel-6/)\n",
    "* Datum: 23.03.2023"
   ]
  },
  {
   "cell_type": "markdown",
   "metadata": {},
   "source": [
    "Auch die Anwendungsdaten, die wir in der Phase 6 (Deployment) benutzen möchten, müssen in Anlehnung an Phase 3 (Data Preparation) entsprechend vorverarbeitet werden."
   ]
  },
  {
   "cell_type": "code",
   "execution_count": 4,
   "metadata": {},
   "outputs": [],
   "source": [
    "# Pandas Paket (Package) importieren\n",
    "#  Datenstrukturen und Datenanalyse, I/O\n",
    "#  https://pandas.pydata.org/pandas-docs/stable/\n",
    "import pandas as pd"
   ]
  },
  {
   "cell_type": "code",
   "execution_count": 5,
   "metadata": {},
   "outputs": [],
   "source": [
    "# Anwendungsdaten als Pandas Data Frame (df) aus CSV-Datei laden\n",
    "#  (KNIME: \"CSV Reader\")\n",
    "df = pd.read_csv('../../data/titanic/original/application.csv')"
   ]
  },
  {
   "cell_type": "code",
   "execution_count": 6,
   "metadata": {},
   "outputs": [],
   "source": [
    "# Datentypen automatisch konvertieren\n",
    "df = df.convert_dtypes()"
   ]
  },
  {
   "cell_type": "code",
   "execution_count": 7,
   "metadata": {},
   "outputs": [
    {
     "data": {
      "text/plain": [
       "PassengerId    0\n",
       "Pclass         0\n",
       "Name           0\n",
       "Sex            0\n",
       "Age            0\n",
       "SibSp          0\n",
       "Parch          0\n",
       "Ticket         0\n",
       "Fare           0\n",
       "Cabin          0\n",
       "Embarked       0\n",
       "dtype: int64"
      ]
     },
     "execution_count": 7,
     "metadata": {},
     "output_type": "execute_result"
    }
   ],
   "source": [
    "# Fehlende Werte prüfen\n",
    "df.isnull().sum()"
   ]
  },
  {
   "cell_type": "code",
   "execution_count": 8,
   "metadata": {},
   "outputs": [],
   "source": [
    "# Neues Feature: KnownCabin\n",
    "#  (KNIME: \"Rule Engine\")\n",
    "df['KnownCabin'] = (df['Cabin'].notna()).astype('int')"
   ]
  },
  {
   "cell_type": "code",
   "execution_count": 9,
   "metadata": {},
   "outputs": [],
   "source": [
    "# Neues Feature: Child\n",
    "#  (KNIME: \"Rule Engine\")\n",
    "df['Child'] = (df['Age'] < 12).fillna(False).astype('int')"
   ]
  },
  {
   "cell_type": "code",
   "execution_count": 10,
   "metadata": {},
   "outputs": [],
   "source": [
    "# Neues Feature Title\n",
    "#  (KNIME: \"Cell Splitter\", \"Column Renamer\", \"Table Creator\", \"Cell Replacer\")\n",
    "df['Title'] = df['Name'].str.split(', ', expand=True)[1].str.split('.', expand=True)[0]\n",
    "df['Title'] = df['Title'].replace(['Ms', 'Mlle'], 'Miss')\n",
    "df['Title'] = df['Title'].replace(['Mme', 'Lady', 'the Countess', 'Dona'], 'Mrs')\n",
    "df['Title'] = df['Title'].replace(['Dr', 'Col', 'Major', 'Jonkheer', 'Capt', 'Sir', 'Don', 'Rev'], 'Rare')"
   ]
  },
  {
   "cell_type": "code",
   "execution_count": 11,
   "metadata": {},
   "outputs": [],
   "source": [
    "# Neues Feature FamilySizeBinned\n",
    "#  (KNIME: \"Math Formula\", \"Table Creator\", \"Binner (Dictionary)\")\n",
    "df['FamilySize'] = df['SibSp'] + df['Parch'] + 1\n",
    "bins   = [0, 2, 5, 99]\n",
    "labels = ['No', 'Small', 'Large']\n",
    "df['FamilySizeBinned'] = pd.cut(df['FamilySize'], bins, right=False, labels=labels)"
   ]
  },
  {
   "cell_type": "code",
   "execution_count": 12,
   "metadata": {},
   "outputs": [],
   "source": [
    "# Neues Feature FareBinned\n",
    "#  (KINME: \"Table Creator\", \"Binner (Dictionary)\")\n",
    "bins   = [-1, 8, 16, 32, 1024]\n",
    "labels = ['Low', 'Medium', 'High', 'VeryHigh']\n",
    "df['FareBinned'] = pd.cut(df['Fare'], bins, right=False, labels=labels)"
   ]
  },
  {
   "cell_type": "code",
   "execution_count": 13,
   "metadata": {},
   "outputs": [
    {
     "name": "stdout",
     "output_type": "stream",
     "text": [
      "<class 'pandas.core.frame.DataFrame'>\n",
      "RangeIndex: 23 entries, 0 to 22\n",
      "Data columns (total 17 columns):\n",
      " #   Column            Non-Null Count  Dtype   \n",
      "---  ------            --------------  -----   \n",
      " 0   PassengerId       23 non-null     Int64   \n",
      " 1   Pclass            23 non-null     Int64   \n",
      " 2   Name              23 non-null     string  \n",
      " 3   Sex               23 non-null     string  \n",
      " 4   Age               23 non-null     Int64   \n",
      " 5   SibSp             23 non-null     Int64   \n",
      " 6   Parch             23 non-null     Int64   \n",
      " 7   Ticket            23 non-null     string  \n",
      " 8   Fare              23 non-null     Float64 \n",
      " 9   Cabin             23 non-null     string  \n",
      " 10  Embarked          23 non-null     string  \n",
      " 11  KnownCabin        23 non-null     int32   \n",
      " 12  Child             23 non-null     int32   \n",
      " 13  Title             23 non-null     string  \n",
      " 14  FamilySize        23 non-null     Int64   \n",
      " 15  FamilySizeBinned  23 non-null     category\n",
      " 16  FareBinned        23 non-null     category\n",
      "dtypes: Float64(1), Int64(6), category(2), int32(2), string(6)\n",
      "memory usage: 3.2 KB\n"
     ]
    }
   ],
   "source": [
    "# Ergebnis des Feature Engineering anzeigen\n",
    "df.info()"
   ]
  },
  {
   "cell_type": "code",
   "execution_count": 14,
   "metadata": {},
   "outputs": [
    {
     "name": "stdout",
     "output_type": "stream",
     "text": [
      "<class 'pandas.core.frame.DataFrame'>\n",
      "RangeIndex: 23 entries, 0 to 22\n",
      "Data columns (total 31 columns):\n",
      " #   Column                  Non-Null Count  Dtype  \n",
      "---  ------                  --------------  -----  \n",
      " 0   PassengerId             23 non-null     Int64  \n",
      " 1   Name                    23 non-null     string \n",
      " 2   Age                     23 non-null     Int64  \n",
      " 3   SibSp                   23 non-null     Int64  \n",
      " 4   Parch                   23 non-null     Int64  \n",
      " 5   Ticket                  23 non-null     string \n",
      " 6   Fare                    23 non-null     Float64\n",
      " 7   Cabin                   23 non-null     string \n",
      " 8   KnownCabin              23 non-null     int32  \n",
      " 9   Child                   23 non-null     int32  \n",
      " 10  FamilySize              23 non-null     Int64  \n",
      " 11  Pclass_1                23 non-null     int32  \n",
      " 12  Pclass_2                23 non-null     int32  \n",
      " 13  Pclass_3                23 non-null     int32  \n",
      " 14  Sex_female              23 non-null     int32  \n",
      " 15  Sex_male                23 non-null     int32  \n",
      " 16  Embarked_C              23 non-null     int32  \n",
      " 17  Embarked_Q              23 non-null     int32  \n",
      " 18  Embarked_S              23 non-null     int32  \n",
      " 19  Title_Master            23 non-null     int32  \n",
      " 20  Title_Miss              23 non-null     int32  \n",
      " 21  Title_Mr                23 non-null     int32  \n",
      " 22  Title_Mrs               23 non-null     int32  \n",
      " 23  Title_Rare              23 non-null     int32  \n",
      " 24  FamilySizeBinned_No     23 non-null     int32  \n",
      " 25  FamilySizeBinned_Small  23 non-null     int32  \n",
      " 26  FamilySizeBinned_Large  23 non-null     int32  \n",
      " 27  FareBinned_Low          23 non-null     int32  \n",
      " 28  FareBinned_Medium       23 non-null     int32  \n",
      " 29  FareBinned_High         23 non-null     int32  \n",
      " 30  FareBinned_VeryHigh     23 non-null     int32  \n",
      "dtypes: Float64(1), Int64(5), int32(22), string(3)\n",
      "memory usage: 3.9 KB\n"
     ]
    }
   ],
   "source": [
    "# One Hot Encoding => Dummy-Variablen\n",
    "#  für Pclass, Sex, Embarked, Title, FamilySizeBinned, FareBinned\n",
    "cols  = ['Pclass', 'Sex', 'Embarked', 'Title', 'FamilySizeBinned', 'FareBinned']\n",
    "df = pd.get_dummies(df, columns=cols, dtype=int)\n",
    "# Ergebnis anzeigen\n",
    "df.info()"
   ]
  },
  {
   "cell_type": "code",
   "execution_count": 15,
   "metadata": {},
   "outputs": [
    {
     "name": "stdout",
     "output_type": "stream",
     "text": [
      "<class 'pandas.core.frame.DataFrame'>\n",
      "RangeIndex: 23 entries, 0 to 22\n",
      "Data columns (total 18 columns):\n",
      " #   Column                  Non-Null Count  Dtype\n",
      "---  ------                  --------------  -----\n",
      " 0   PassengerId             23 non-null     Int64\n",
      " 1   KnownCabin              23 non-null     int32\n",
      " 2   Child                   23 non-null     int32\n",
      " 3   Pclass_2                23 non-null     int32\n",
      " 4   Pclass_3                23 non-null     int32\n",
      " 5   Sex_male                23 non-null     int32\n",
      " 6   Embarked_Q              23 non-null     int32\n",
      " 7   Embarked_S              23 non-null     int32\n",
      " 8   Title_Master            23 non-null     int32\n",
      " 9   Title_Miss              23 non-null     int32\n",
      " 10  Title_Mrs               23 non-null     int32\n",
      " 11  Title_Rare              23 non-null     int32\n",
      " 12  FamilySizeBinned_No     23 non-null     int32\n",
      " 13  FamilySizeBinned_Large  23 non-null     int32\n",
      " 14  FareBinned_Low          23 non-null     int32\n",
      " 15  FareBinned_Medium       23 non-null     int32\n",
      " 16  FareBinned_High         23 non-null     int32\n",
      " 17  FareBinned_VeryHigh     23 non-null     int32\n",
      "dtypes: Int64(1), int32(17)\n",
      "memory usage: 1.9 KB\n"
     ]
    }
   ],
   "source": [
    "# Aufräumen: Attribute (manuell) herausfiltern\n",
    "#  (KNIME \"Column Filter\")\n",
    "# Attribute, die durch neue Features ersetzt wurden oder die irrelevant für die Analyse sind\n",
    "df = df.drop(['Name', 'Age', 'SibSp', 'Parch', 'Fare' , 'Cabin', 'FamilySize', 'Ticket'], axis=1)\n",
    "# Attribute, die wegen starker Korrelationen in den Tranings- und Testdaten herausgefiltert wurden\n",
    "df = df.drop(['Sex_female', 'Title_Mr', 'FamilySizeBinned_Small', 'Embarked_C', 'Pclass_1'], axis=1)\n",
    "# Ergebnis anzeigen\n",
    "df.info()"
   ]
  },
  {
   "cell_type": "code",
   "execution_count": 16,
   "metadata": {},
   "outputs": [
    {
     "data": {
      "text/html": [
       "<div>\n",
       "<style scoped>\n",
       "    .dataframe tbody tr th:only-of-type {\n",
       "        vertical-align: middle;\n",
       "    }\n",
       "\n",
       "    .dataframe tbody tr th {\n",
       "        vertical-align: top;\n",
       "    }\n",
       "\n",
       "    .dataframe thead th {\n",
       "        text-align: right;\n",
       "    }\n",
       "</style>\n",
       "<table border=\"1\" class=\"dataframe\">\n",
       "  <thead>\n",
       "    <tr style=\"text-align: right;\">\n",
       "      <th></th>\n",
       "      <th>PassengerId</th>\n",
       "      <th>KnownCabin</th>\n",
       "      <th>Child</th>\n",
       "      <th>Pclass_2</th>\n",
       "      <th>Pclass_3</th>\n",
       "      <th>Sex_male</th>\n",
       "      <th>Embarked_Q</th>\n",
       "      <th>Embarked_S</th>\n",
       "      <th>Title_Master</th>\n",
       "      <th>Title_Miss</th>\n",
       "      <th>Title_Mrs</th>\n",
       "      <th>Title_Rare</th>\n",
       "      <th>FamilySizeBinned_No</th>\n",
       "      <th>FamilySizeBinned_Large</th>\n",
       "      <th>FareBinned_Low</th>\n",
       "      <th>FareBinned_Medium</th>\n",
       "      <th>FareBinned_High</th>\n",
       "      <th>FareBinned_VeryHigh</th>\n",
       "    </tr>\n",
       "  </thead>\n",
       "  <tbody>\n",
       "    <tr>\n",
       "      <th>0</th>\n",
       "      <td>1310</td>\n",
       "      <td>1</td>\n",
       "      <td>0</td>\n",
       "      <td>0</td>\n",
       "      <td>0</td>\n",
       "      <td>1</td>\n",
       "      <td>0</td>\n",
       "      <td>0</td>\n",
       "      <td>0</td>\n",
       "      <td>0</td>\n",
       "      <td>0</td>\n",
       "      <td>0</td>\n",
       "      <td>1</td>\n",
       "      <td>0</td>\n",
       "      <td>1</td>\n",
       "      <td>0</td>\n",
       "      <td>0</td>\n",
       "      <td>0</td>\n",
       "    </tr>\n",
       "    <tr>\n",
       "      <th>1</th>\n",
       "      <td>1311</td>\n",
       "      <td>1</td>\n",
       "      <td>0</td>\n",
       "      <td>0</td>\n",
       "      <td>0</td>\n",
       "      <td>1</td>\n",
       "      <td>0</td>\n",
       "      <td>0</td>\n",
       "      <td>0</td>\n",
       "      <td>0</td>\n",
       "      <td>0</td>\n",
       "      <td>0</td>\n",
       "      <td>1</td>\n",
       "      <td>0</td>\n",
       "      <td>0</td>\n",
       "      <td>0</td>\n",
       "      <td>1</td>\n",
       "      <td>0</td>\n",
       "    </tr>\n",
       "    <tr>\n",
       "      <th>2</th>\n",
       "      <td>1312</td>\n",
       "      <td>1</td>\n",
       "      <td>0</td>\n",
       "      <td>1</td>\n",
       "      <td>0</td>\n",
       "      <td>1</td>\n",
       "      <td>0</td>\n",
       "      <td>1</td>\n",
       "      <td>0</td>\n",
       "      <td>0</td>\n",
       "      <td>0</td>\n",
       "      <td>0</td>\n",
       "      <td>1</td>\n",
       "      <td>0</td>\n",
       "      <td>0</td>\n",
       "      <td>0</td>\n",
       "      <td>1</td>\n",
       "      <td>0</td>\n",
       "    </tr>\n",
       "    <tr>\n",
       "      <th>3</th>\n",
       "      <td>1313</td>\n",
       "      <td>1</td>\n",
       "      <td>0</td>\n",
       "      <td>0</td>\n",
       "      <td>0</td>\n",
       "      <td>1</td>\n",
       "      <td>0</td>\n",
       "      <td>1</td>\n",
       "      <td>0</td>\n",
       "      <td>0</td>\n",
       "      <td>0</td>\n",
       "      <td>1</td>\n",
       "      <td>1</td>\n",
       "      <td>0</td>\n",
       "      <td>1</td>\n",
       "      <td>0</td>\n",
       "      <td>0</td>\n",
       "      <td>0</td>\n",
       "    </tr>\n",
       "    <tr>\n",
       "      <th>4</th>\n",
       "      <td>1314</td>\n",
       "      <td>1</td>\n",
       "      <td>0</td>\n",
       "      <td>0</td>\n",
       "      <td>0</td>\n",
       "      <td>1</td>\n",
       "      <td>0</td>\n",
       "      <td>1</td>\n",
       "      <td>0</td>\n",
       "      <td>0</td>\n",
       "      <td>0</td>\n",
       "      <td>0</td>\n",
       "      <td>0</td>\n",
       "      <td>0</td>\n",
       "      <td>1</td>\n",
       "      <td>0</td>\n",
       "      <td>0</td>\n",
       "      <td>0</td>\n",
       "    </tr>\n",
       "  </tbody>\n",
       "</table>\n",
       "</div>"
      ],
      "text/plain": [
       "   PassengerId  KnownCabin  Child  Pclass_2  Pclass_3  Sex_male  Embarked_Q  \\\n",
       "0         1310           1      0         0         0         1           0   \n",
       "1         1311           1      0         0         0         1           0   \n",
       "2         1312           1      0         1         0         1           0   \n",
       "3         1313           1      0         0         0         1           0   \n",
       "4         1314           1      0         0         0         1           0   \n",
       "\n",
       "   Embarked_S  Title_Master  Title_Miss  Title_Mrs  Title_Rare  \\\n",
       "0           0             0           0          0           0   \n",
       "1           0             0           0          0           0   \n",
       "2           1             0           0          0           0   \n",
       "3           1             0           0          0           1   \n",
       "4           1             0           0          0           0   \n",
       "\n",
       "   FamilySizeBinned_No  FamilySizeBinned_Large  FareBinned_Low  \\\n",
       "0                    1                       0               1   \n",
       "1                    1                       0               0   \n",
       "2                    1                       0               0   \n",
       "3                    1                       0               1   \n",
       "4                    0                       0               1   \n",
       "\n",
       "   FareBinned_Medium  FareBinned_High  FareBinned_VeryHigh  \n",
       "0                  0                0                    0  \n",
       "1                  0                1                    0  \n",
       "2                  0                1                    0  \n",
       "3                  0                0                    0  \n",
       "4                  0                0                    0  "
      ]
     },
     "metadata": {},
     "output_type": "display_data"
    }
   ],
   "source": [
    "display(df.head())"
   ]
  },
  {
   "cell_type": "code",
   "execution_count": 17,
   "metadata": {},
   "outputs": [],
   "source": [
    "# Daten als Excel-Dateien speichern\n",
    "#  (KNIME: \"Excel Writer\")\n",
    "df.to_excel('../../data/titanic/new/application_v4.xlsx', index=False)"
   ]
  }
 ],
 "metadata": {
  "kernelspec": {
   "display_name": "Python 3 (ipykernel)",
   "language": "python",
   "name": "python3"
  },
  "language_info": {
   "codemirror_mode": {
    "name": "ipython",
    "version": 3
   },
   "file_extension": ".py",
   "mimetype": "text/x-python",
   "name": "python",
   "nbconvert_exporter": "python",
   "pygments_lexer": "ipython3",
   "version": "3.12.4"
  }
 },
 "nbformat": 4,
 "nbformat_minor": 4
}
