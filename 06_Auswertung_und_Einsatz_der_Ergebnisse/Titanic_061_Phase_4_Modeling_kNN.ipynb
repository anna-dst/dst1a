{
 "cells": [
  {
   "cell_type": "markdown",
   "id": "e4b8d240",
   "metadata": {},
   "source": [
    "## Phase 4 (Modeling): k-Nearest Neighbor"
   ]
  },
  {
   "cell_type": "markdown",
   "id": "10f0ad83",
   "metadata": {},
   "source": [
    "* Autorin: Anna (i3-Versicherung)\n",
    "* Webseite: [Data Science Training - Kapitel 6](https://data-science.training/kapitel-6/)\n",
    "* Datum: 23.03.2023"
   ]
  },
  {
   "cell_type": "code",
   "execution_count": 3,
   "id": "3441e37b",
   "metadata": {},
   "outputs": [],
   "source": [
    "# Pandas Paket (Package) importieren\n",
    "#  Datenstrukturen und Datenanalyse, I/O\n",
    "#  https://pandas.pydata.org/pandas-docs/stable/\n",
    "import pandas as pd\n",
    "# Klassen und Funktionen der scikit-learn Module importieren\n",
    "#  Maschinelles Lernen, Algorithmen\n",
    "#  https://scikit-learn.org/stable/modules/classes.html\n",
    "from sklearn.preprocessing import MinMaxScaler\n",
    "from sklearn.model_selection import StratifiedKFold, cross_val_score\n",
    "from sklearn.neighbors import KNeighborsClassifier"
   ]
  },
  {
   "cell_type": "code",
   "execution_count": 4,
   "id": "c52889ed",
   "metadata": {},
   "outputs": [],
   "source": [
    "# Datenversion festlegen: 4, 5\n",
    "version  = 5\n",
    "# Modell-Abkürzung festlegen: knn = k Nearest Neighbor\n",
    "shortcut = 'knn'"
   ]
  },
  {
   "cell_type": "code",
   "execution_count": 5,
   "id": "f196f167",
   "metadata": {},
   "outputs": [],
   "source": [
    "# Trainingsdaten als Pandas Data Frame (df) aus Excel-Dateien laden\n",
    "#  (KNIME: \"Excel Reader\")\n",
    "filename = '../../data/titanic/new/training_v' + str(version) + '.xlsx'\n",
    "df_train = pd.read_excel(filename)"
   ]
  },
  {
   "cell_type": "code",
   "execution_count": 6,
   "id": "b8b44f60",
   "metadata": {},
   "outputs": [],
   "source": [
    "# Beschreibende Attribute extrahieren\n",
    "X = df_train.iloc[:,1:].values\n",
    "# Klassenattribut (Survived) extrahieren\n",
    "y = df_train.iloc[:,0].values"
   ]
  },
  {
   "cell_type": "code",
   "execution_count": 7,
   "id": "5e168941",
   "metadata": {},
   "outputs": [],
   "source": [
    "# Min-Max-Normierung für Version 5\n",
    "# Daten auf das Intervall [0, 1] normieren\n",
    "if version == 5:\n",
    "    scaler = MinMaxScaler()\n",
    "    X = scaler.fit_transform(X)"
   ]
  },
  {
   "cell_type": "code",
   "execution_count": 8,
   "id": "21377964",
   "metadata": {},
   "outputs": [],
   "source": [
    "# Stratifizierte k-fache Kreuzvalidierung (mit k=10)\n",
    "skf = StratifiedKFold(n_splits=10, random_state=0, shuffle=True)"
   ]
  },
  {
   "cell_type": "code",
   "execution_count": 9,
   "id": "8ab95793",
   "metadata": {},
   "outputs": [
    {
     "name": "stdout",
     "output_type": "stream",
     "text": [
      "Genauigkeit für k =   1 :  74.0774\n",
      "Genauigkeit für k =   3 :  81.0337\n",
      "Genauigkeit für k =   5 :  81.9313\n",
      "Genauigkeit für k =   7 :  81.0337\n",
      "Genauigkeit für k =   9 :  81.4831\n",
      "Genauigkeit für k =  11 :  81.1436\n",
      "Genauigkeit für k =  13 :  81.8177\n",
      "Genauigkeit für k =  15 :  81.8165\n",
      "Genauigkeit für k =  17 :  80.5855\n",
      "Genauigkeit für k =  19 :  80.9213\n",
      "Genauigkeit für k =  21 :  80.8090\n",
      "Genauigkeit für k =  23 :  81.3695\n",
      "Genauigkeit für k =  25 :  81.4831\n",
      "Genauigkeit für k =  27 :  81.7066\n",
      "Genauigkeit für k =  29 :  82.2684\n"
     ]
    }
   ],
   "source": [
    "# Schleife über den Parameter (Anzahl der nächsten Nachbarn) \n",
    "k_best  = 0\n",
    "max_acc = 0\n",
    "for k in range(1, 30, 2): # Schleife über n von 1 bis 29 mit Schrittweite 2, also 1,3,5,...,29\n",
    "    model = KNeighborsClassifier(n_neighbors=k) # Initialisierung des Modells (kNN)\n",
    "    scores = cross_val_score(model, X, y, scoring='accuracy', cv=skf) # Berechnung der Gütemaße\n",
    "    acc = 100 * scores.mean() # Mittelwert der Genauigkeiten\n",
    "    print('Genauigkeit für k = %3d : %8.4f' % (k, acc))\n",
    "    if acc > max_acc: # Neue beste Genauigkeit gefunden\n",
    "        max_acc = acc # Speichere diese neue beste Genauigkeit\n",
    "        k_best  = k   # Merke den zugehörigen Parameter"
   ]
  },
  {
   "cell_type": "code",
   "execution_count": 10,
   "id": "5b772a67",
   "metadata": {},
   "outputs": [
    {
     "name": "stdout",
     "output_type": "stream",
     "text": [
      "Bester Parameter k = 29\n",
      "{'algorithm': 'auto', 'leaf_size': 30, 'metric': 'minkowski', 'metric_params': None, 'n_jobs': None, 'n_neighbors': 29, 'p': 2, 'weights': 'uniform'}\n"
     ]
    }
   ],
   "source": [
    "# kNN-Methode auswählen und besten Parameter (k = Anzahl der Nachbarn) einstellen\n",
    "#  (KNIME: \"K Nearest Neighbor\")\n",
    "print('Bester Parameter k =', k_best)\n",
    "model = KNeighborsClassifier(n_neighbors=k_best)\n",
    "print(model.get_params())"
   ]
  },
  {
   "cell_type": "code",
   "execution_count": 11,
   "id": "55e0a1a4",
   "metadata": {},
   "outputs": [
    {
     "name": "stdout",
     "output_type": "stream",
     "text": [
      "Genauigkeit:  82.27 %\n"
     ]
    }
   ],
   "source": [
    "# Genauigkeit (Accuracy) bestimmen und ausgeben\n",
    "#  (KNIME: \"Scorer\")\n",
    "scores = cross_val_score(model, X, y, scoring='accuracy', cv=skf)\n",
    "print('Genauigkeit: %6.2f %%' % (100*scores.mean()))"
   ]
  },
  {
   "cell_type": "markdown",
   "id": "07d13c7a",
   "metadata": {},
   "source": [
    "## Ergebnis\n",
    "\n",
    "Trainingsdaten v4\n",
    "\n",
    "* k =  9, Genauigkeit: 82,94 %\n",
    "\n",
    "Trainingsdaten v5\n",
    "\n",
    "* k = 29, Genauigkeit: 82,27 %"
   ]
  }
 ],
 "metadata": {
  "kernelspec": {
   "display_name": "Python 3 (ipykernel)",
   "language": "python",
   "name": "python3"
  },
  "language_info": {
   "codemirror_mode": {
    "name": "ipython",
    "version": 3
   },
   "file_extension": ".py",
   "mimetype": "text/x-python",
   "name": "python",
   "nbconvert_exporter": "python",
   "pygments_lexer": "ipython3",
   "version": "3.12.4"
  }
 },
 "nbformat": 4,
 "nbformat_minor": 5
}
