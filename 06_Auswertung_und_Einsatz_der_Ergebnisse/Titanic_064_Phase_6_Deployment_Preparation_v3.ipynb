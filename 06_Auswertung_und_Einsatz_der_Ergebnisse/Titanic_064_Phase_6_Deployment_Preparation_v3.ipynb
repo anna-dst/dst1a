{
 "cells": [
  {
   "cell_type": "markdown",
   "metadata": {},
   "source": [
    "## Phase 6 (Deployment): Preparation (v3: string)"
   ]
  },
  {
   "cell_type": "markdown",
   "metadata": {},
   "source": [
    "* Autorin: Anna (i3-Versicherung)\n",
    "* Webseite: [Data Science Training - Kapitel 6](https://data-science.training/kapitel-6/)\n",
    "* Datum: 23.03.2023"
   ]
  },
  {
   "cell_type": "markdown",
   "metadata": {},
   "source": [
    "Auch die Anwendungsdaten, die wir in der Phase 6 (Deployment) benutzen möchten, müssen in Anlehnung an Phase 3 (Data Preparation) entsprechend vorverarbeitet werden.\n",
    "\n",
    "#### Hinweis\n",
    "\n",
    "Die Features KnownCabin und Title werden wir gar nicht erstellen, weil sie später sowieso wieder herausgefiltert werden (siehe Phase 3). "
   ]
  },
  {
   "cell_type": "code",
   "execution_count": 4,
   "metadata": {},
   "outputs": [],
   "source": [
    "# Pandas Paket (Package) importieren\n",
    "#  Datenstrukturen und Datenanalyse, I/O\n",
    "#  https://pandas.pydata.org/pandas-docs/stable/\n",
    "import pandas as pd"
   ]
  },
  {
   "cell_type": "code",
   "execution_count": 5,
   "metadata": {},
   "outputs": [],
   "source": [
    "# Anwendungsdaten als Pandas Data Frame (df) aus CSV-Datei laden\n",
    "#  (KNIME: \"CSV Reader\")\n",
    "df = pd.read_csv('../../data/titanic/original/application.csv')"
   ]
  },
  {
   "cell_type": "code",
   "execution_count": 6,
   "metadata": {},
   "outputs": [],
   "source": [
    "# Datentypen automatisch konvertieren\n",
    "df = df.convert_dtypes()"
   ]
  },
  {
   "cell_type": "code",
   "execution_count": 7,
   "metadata": {},
   "outputs": [
    {
     "data": {
      "text/plain": [
       "PassengerId    0\n",
       "Pclass         0\n",
       "Name           0\n",
       "Sex            0\n",
       "Age            0\n",
       "SibSp          0\n",
       "Parch          0\n",
       "Ticket         0\n",
       "Fare           0\n",
       "Cabin          0\n",
       "Embarked       0\n",
       "dtype: int64"
      ]
     },
     "execution_count": 7,
     "metadata": {},
     "output_type": "execute_result"
    }
   ],
   "source": [
    "# Fehlende Werte prüfen\n",
    "df.isnull().sum()"
   ]
  },
  {
   "cell_type": "code",
   "execution_count": 8,
   "metadata": {},
   "outputs": [],
   "source": [
    "# Neues Feature: Child\n",
    "#  (KNIME: \"Rule Engine\")\n",
    "df['Child'] = (df['Age'] < 12).fillna(False).astype('int')"
   ]
  },
  {
   "cell_type": "code",
   "execution_count": 9,
   "metadata": {},
   "outputs": [],
   "source": [
    "# Neues Feature FamilySizeBinned\n",
    "#  (KNIME: \"Math Formula\", \"Table Creator\", \"Binner (Dictionary)\")\n",
    "df['FamilySize'] = df['SibSp'] + df['Parch'] + 1\n",
    "bins   = [0, 2, 5, 99]\n",
    "labels = ['No', 'Small', 'Large']\n",
    "df['FamilySizeBinned'] = pd.cut(df['FamilySize'], bins, right=False, labels=labels)"
   ]
  },
  {
   "cell_type": "code",
   "execution_count": 10,
   "metadata": {},
   "outputs": [],
   "source": [
    "# Neues Feature FareBinned\n",
    "#  (KINME: \"Table Creator\", \"Binner (Dictionary)\")\n",
    "bins   = [-1, 8, 16, 32, 1024]\n",
    "labels = ['Low', 'Medium', 'High', 'VeryHigh']\n",
    "df['FareBinned'] = pd.cut(df['Fare'], bins, right=False, labels=labels)"
   ]
  },
  {
   "cell_type": "code",
   "execution_count": 11,
   "metadata": {},
   "outputs": [
    {
     "name": "stdout",
     "output_type": "stream",
     "text": [
      "<class 'pandas.core.frame.DataFrame'>\n",
      "RangeIndex: 23 entries, 0 to 22\n",
      "Data columns (total 15 columns):\n",
      " #   Column            Non-Null Count  Dtype   \n",
      "---  ------            --------------  -----   \n",
      " 0   PassengerId       23 non-null     Int64   \n",
      " 1   Pclass            23 non-null     Int64   \n",
      " 2   Name              23 non-null     string  \n",
      " 3   Sex               23 non-null     string  \n",
      " 4   Age               23 non-null     Int64   \n",
      " 5   SibSp             23 non-null     Int64   \n",
      " 6   Parch             23 non-null     Int64   \n",
      " 7   Ticket            23 non-null     string  \n",
      " 8   Fare              23 non-null     Float64 \n",
      " 9   Cabin             23 non-null     string  \n",
      " 10  Embarked          23 non-null     string  \n",
      " 11  Child             23 non-null     int32   \n",
      " 12  FamilySize        23 non-null     Int64   \n",
      " 13  FamilySizeBinned  23 non-null     category\n",
      " 14  FareBinned        23 non-null     category\n",
      "dtypes: Float64(1), Int64(6), category(2), int32(1), string(5)\n",
      "memory usage: 2.9 KB\n"
     ]
    }
   ],
   "source": [
    "# Ergebnis des Feature Engineering anzeigen\n",
    "df.info()"
   ]
  },
  {
   "cell_type": "code",
   "execution_count": 12,
   "metadata": {},
   "outputs": [
    {
     "name": "stdout",
     "output_type": "stream",
     "text": [
      "<class 'pandas.core.frame.DataFrame'>\n",
      "RangeIndex: 23 entries, 0 to 22\n",
      "Data columns (total 7 columns):\n",
      " #   Column            Non-Null Count  Dtype   \n",
      "---  ------            --------------  -----   \n",
      " 0   PassengerId       23 non-null     Int64   \n",
      " 1   Pclass            23 non-null     Int64   \n",
      " 2   Sex               23 non-null     string  \n",
      " 3   Embarked          23 non-null     string  \n",
      " 4   Child             23 non-null     int32   \n",
      " 5   FamilySizeBinned  23 non-null     category\n",
      " 6   FareBinned        23 non-null     category\n",
      "dtypes: Int64(2), category(2), int32(1), string(2)\n",
      "memory usage: 1.4 KB\n"
     ]
    }
   ],
   "source": [
    "# Aufräumen: Attribute (manuell) herausfiltern\n",
    "#  (KNIME \"Column Filter\")\n",
    "df = df.drop(['Name', 'Age', 'SibSp', 'Parch', 'Fare' , 'Cabin', 'FamilySize', 'Ticket'], axis=1)\n",
    "# Ergebnis anzeigen\n",
    "df.info()"
   ]
  },
  {
   "cell_type": "code",
   "execution_count": 13,
   "metadata": {},
   "outputs": [
    {
     "name": "stdout",
     "output_type": "stream",
     "text": [
      "<class 'pandas.core.frame.DataFrame'>\n",
      "RangeIndex: 23 entries, 0 to 22\n",
      "Data columns (total 7 columns):\n",
      " #   Column            Non-Null Count  Dtype \n",
      "---  ------            --------------  ----- \n",
      " 0   PassengerId       23 non-null     int32 \n",
      " 1   Pclass            23 non-null     string\n",
      " 2   Sex               23 non-null     string\n",
      " 3   Embarked          23 non-null     string\n",
      " 4   Child             23 non-null     string\n",
      " 5   FamilySizeBinned  23 non-null     string\n",
      " 6   FareBinned        23 non-null     string\n",
      "dtypes: int32(1), string(6)\n",
      "memory usage: 1.3 KB\n"
     ]
    }
   ],
   "source": [
    "# Version 3: Datentyp string\n",
    "df = df.astype('string')\n",
    "df['PassengerId'] = df['PassengerId'].astype('int') # Ausnahme: Primärschlüsselattribut\n",
    "# Ergebnis anzeigen\n",
    "df.info()"
   ]
  },
  {
   "cell_type": "code",
   "execution_count": 14,
   "metadata": {},
   "outputs": [
    {
     "data": {
      "text/html": [
       "<div>\n",
       "<style scoped>\n",
       "    .dataframe tbody tr th:only-of-type {\n",
       "        vertical-align: middle;\n",
       "    }\n",
       "\n",
       "    .dataframe tbody tr th {\n",
       "        vertical-align: top;\n",
       "    }\n",
       "\n",
       "    .dataframe thead th {\n",
       "        text-align: right;\n",
       "    }\n",
       "</style>\n",
       "<table border=\"1\" class=\"dataframe\">\n",
       "  <thead>\n",
       "    <tr style=\"text-align: right;\">\n",
       "      <th></th>\n",
       "      <th>PassengerId</th>\n",
       "      <th>Pclass</th>\n",
       "      <th>Sex</th>\n",
       "      <th>Embarked</th>\n",
       "      <th>Child</th>\n",
       "      <th>FamilySizeBinned</th>\n",
       "      <th>FareBinned</th>\n",
       "    </tr>\n",
       "  </thead>\n",
       "  <tbody>\n",
       "    <tr>\n",
       "      <th>0</th>\n",
       "      <td>1310</td>\n",
       "      <td>1</td>\n",
       "      <td>male</td>\n",
       "      <td>C</td>\n",
       "      <td>0</td>\n",
       "      <td>No</td>\n",
       "      <td>Low</td>\n",
       "    </tr>\n",
       "    <tr>\n",
       "      <th>1</th>\n",
       "      <td>1311</td>\n",
       "      <td>1</td>\n",
       "      <td>male</td>\n",
       "      <td>C</td>\n",
       "      <td>0</td>\n",
       "      <td>No</td>\n",
       "      <td>High</td>\n",
       "    </tr>\n",
       "    <tr>\n",
       "      <th>2</th>\n",
       "      <td>1312</td>\n",
       "      <td>2</td>\n",
       "      <td>male</td>\n",
       "      <td>S</td>\n",
       "      <td>0</td>\n",
       "      <td>No</td>\n",
       "      <td>High</td>\n",
       "    </tr>\n",
       "    <tr>\n",
       "      <th>3</th>\n",
       "      <td>1313</td>\n",
       "      <td>1</td>\n",
       "      <td>male</td>\n",
       "      <td>S</td>\n",
       "      <td>0</td>\n",
       "      <td>No</td>\n",
       "      <td>Low</td>\n",
       "    </tr>\n",
       "    <tr>\n",
       "      <th>4</th>\n",
       "      <td>1314</td>\n",
       "      <td>1</td>\n",
       "      <td>male</td>\n",
       "      <td>S</td>\n",
       "      <td>0</td>\n",
       "      <td>Small</td>\n",
       "      <td>Low</td>\n",
       "    </tr>\n",
       "  </tbody>\n",
       "</table>\n",
       "</div>"
      ],
      "text/plain": [
       "   PassengerId Pclass   Sex Embarked Child FamilySizeBinned FareBinned\n",
       "0         1310      1  male        C     0               No        Low\n",
       "1         1311      1  male        C     0               No       High\n",
       "2         1312      2  male        S     0               No       High\n",
       "3         1313      1  male        S     0               No        Low\n",
       "4         1314      1  male        S     0            Small        Low"
      ]
     },
     "metadata": {},
     "output_type": "display_data"
    }
   ],
   "source": [
    "display(df.head())"
   ]
  },
  {
   "cell_type": "code",
   "execution_count": 15,
   "metadata": {},
   "outputs": [],
   "source": [
    "# Daten als Excel-Dateien speichern\n",
    "#  (KNIME: \"Excel Writer\")\n",
    "df.to_excel('../../data/titanic/new/application_v3.xlsx', index=False)"
   ]
  }
 ],
 "metadata": {
  "kernelspec": {
   "display_name": "Python 3 (ipykernel)",
   "language": "python",
   "name": "python3"
  },
  "language_info": {
   "codemirror_mode": {
    "name": "ipython",
    "version": 3
   },
   "file_extension": ".py",
   "mimetype": "text/x-python",
   "name": "python",
   "nbconvert_exporter": "python",
   "pygments_lexer": "ipython3",
   "version": "3.12.4"
  }
 },
 "nbformat": 4,
 "nbformat_minor": 4
}
