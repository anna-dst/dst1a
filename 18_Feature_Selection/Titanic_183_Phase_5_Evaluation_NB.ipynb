{
 "cells": [
  {
   "cell_type": "markdown",
   "metadata": {},
   "source": [
    "## Phase 5 (Evaluation): Feature Selection"
   ]
  },
  {
   "cell_type": "markdown",
   "metadata": {},
   "source": [
    "* Autorin: Anna (i3-Versicherung)\n",
    "* Webseite: [Data Science Training - Kapitel 18](https://data-science.training/kapitel-18/)\n",
    "* Datum: 23.03.2023"
   ]
  },
  {
   "cell_type": "markdown",
   "metadata": {},
   "source": [
    "Daten: Versionen 7 und 8\n",
    "\n",
    "Methode: Naive Bayes\n",
    "\n",
    "Strategien: FFS, BFE"
   ]
  },
  {
   "cell_type": "code",
   "execution_count": 4,
   "metadata": {},
   "outputs": [],
   "source": [
    "# Pandas Paket (Package) importieren\n",
    "#  Datenstrukturen und Datenanalyse, I/O\n",
    "#  https://pandas.pydata.org/pandas-docs/stable/\n",
    "import pandas as pd\n",
    "# Pickle Paket (Package) importieren\n",
    "#  Objekte serialisieren\n",
    "#  https://docs.python.org/3/library/pickle.html\n",
    "import pickle as pk"
   ]
  },
  {
   "cell_type": "code",
   "execution_count": 5,
   "metadata": {},
   "outputs": [],
   "source": [
    "# Datenversion festlegen: 7, 8\n",
    "version  = 8\n",
    "# Modell-Abkürzung festlegen: nb = Naive Bayes\n",
    "shortcut = 'nb'\n",
    "# Feature Selection Strategie festlegen: ffs = Forward Feature Selection, bfe = Backward Feature Elimination\n",
    "strategy = 'bfe'"
   ]
  },
  {
   "cell_type": "code",
   "execution_count": 6,
   "metadata": {},
   "outputs": [],
   "source": [
    "# Testdaten als Pandas Data Frame (df) aus Excel-Datei laden\n",
    "#  (KNIME: \"Excel Reader\")\n",
    "filename = '../../data/titanic/new/test_v' + str(version) + '.xlsx'\n",
    "df_test  = pd.read_excel(filename)"
   ]
  },
  {
   "cell_type": "code",
   "execution_count": 7,
   "metadata": {},
   "outputs": [],
   "source": [
    "# Modell laden\n",
    "#  (KNIME: \"PMML Reader\")\n",
    "filename = '../../models/titanic/new/' + shortcut + '_v' + str(version) + '_' + str(strategy)\n",
    "model = pk.load(open(filename, 'rb'))"
   ]
  },
  {
   "cell_type": "code",
   "execution_count": 8,
   "metadata": {},
   "outputs": [],
   "source": [
    "# Features laden\n",
    "filename += '_features'\n",
    "columns = pk.load(open(filename, 'rb'))"
   ]
  },
  {
   "cell_type": "code",
   "execution_count": 9,
   "metadata": {},
   "outputs": [
    {
     "name": "stdout",
     "output_type": "stream",
     "text": [
      "['FamilySize' 'LogFare' 'Pclass_2' 'Embarked_C' 'Title_Master'\n",
      " 'Title_Miss' 'Title_Mr' 'Title_Mrs']\n"
     ]
    }
   ],
   "source": [
    "# Features anzeigen\n",
    "print(columns)"
   ]
  },
  {
   "cell_type": "code",
   "execution_count": 10,
   "metadata": {},
   "outputs": [],
   "source": [
    "# Testdaten\n",
    "X_test = df_test.filter(columns).values"
   ]
  },
  {
   "cell_type": "code",
   "execution_count": 11,
   "metadata": {},
   "outputs": [],
   "source": [
    "# Prognosen und Wahrscheinlichkeiten bestimmen\n",
    "#  (KNIME: \"XYZ Predictor\")\n",
    "y_pred = model.predict(X_test)\n",
    "y_prob = model.predict_proba(X_test)"
   ]
  },
  {
   "cell_type": "code",
   "execution_count": 12,
   "metadata": {},
   "outputs": [],
   "source": [
    "# Ergebnisse in das Data Frame kopieren\n",
    "df_test['Survived'] = y_pred\n",
    "df_test['ProbN']    = y_prob[:,0]\n",
    "df_test['ProbP']    = y_prob[:,1]"
   ]
  },
  {
   "cell_type": "code",
   "execution_count": 13,
   "metadata": {},
   "outputs": [],
   "source": [
    "# Relevante Ergebnisse filtern\n",
    "#  (KNIME: \"Column Filter\")\n",
    "df_res = df_test.filter(['PassengerId', 'Survived', 'ProbN', 'ProbP'])"
   ]
  },
  {
   "cell_type": "code",
   "execution_count": 14,
   "metadata": {},
   "outputs": [],
   "source": [
    "# Ergebnisse als CSV-Datei speichern\n",
    "#  (KNIME: \"CSV Writer\")\n",
    "filename = '../../data/titanic/submission/' + shortcut + '_v' + str(version) + '_' + str(strategy) + '.csv'\n",
    "df_res.to_csv(filename, index=False)"
   ]
  },
  {
   "cell_type": "code",
   "execution_count": 15,
   "metadata": {},
   "outputs": [],
   "source": [
    "# Ergebnis-Datei auf Webseite hochladen\n",
    "# https://data-science.training/upload/"
   ]
  },
  {
   "cell_type": "markdown",
   "metadata": {},
   "source": [
    "### Ergebnisse (Gütemaße)\n",
    "\n",
    "#### Version 7 & Naive Bayes & FFS\n",
    "\n",
    "* Genauigkeit \t(Accuracy) \t: \t77,27 \t%\n",
    "* Spezifität \t(Specificity) \t: \t81,92 \t%\n",
    "* Sensitivität \t(Sensitivity) \t: \t69,62 \t%\n",
    "* Präzision \t(Precision) \t: \t70,06 \t%\n",
    "* Recall \t(Recall) \t: \t69,62 \t%\n",
    "* F-Maß \t(F1 Score) \t: \t69,84 \t%\n",
    "* AURC \t(AURC) \t: \t75,40 \t%\n",
    "* LogLoss \t(LogLoss) \t: \t0,910\n",
    "\n",
    "#### Version 7 & Naive Bayes & BFE\n",
    "\n",
    "* Genauigkeit \t(Accuracy) \t: \t76,79 \t%\n",
    "* Spezifität \t(Specificity) \t: \t81,15 \t%\n",
    "* Sensitivität \t(Sensitivity) \t: \t69,62 \t%\n",
    "* Präzision \t(Precision) \t: \t69,18 \t%\n",
    "* Recall \t(Recall) \t: \t69,62 \t%\n",
    "* F-Maß \t(F1 Score) \t: \t69,40 \t%\n",
    "* AURC \t(AURC) \t: \t78,38 \t%\n",
    "* LogLoss \t(LogLoss) \t: \t1,099\n",
    "\n",
    "*andere Hardware*\n",
    "\n",
    "* Genauigkeit \t(Accuracy) \t: \t76,79 \t%\n",
    "* Spezifität \t(Specificity) \t: \t81,15 \t%\n",
    "* Sensitivität \t(Sensitivity) \t: \t69,62 \t%\n",
    "* Präzision \t(Precision) \t: \t69,18 \t%\n",
    "* Recall \t(Recall) \t: \t69,62 \t%\n",
    "* F-Maß \t(F1 Score) \t: \t69,40 \t%\n",
    "* AURC \t(AURC) \t: \t78,92 \t%\n",
    "* LogLoss \t(LogLoss) \t: \t1,077\n",
    "\n",
    "#### Version 8 & Naive Bayes & FFS\n",
    "\n",
    "* Genauigkeit \t(Accuracy) \t: \t77,51 \t%\n",
    "* Spezifität \t(Specificity) \t: \t81,92 \t%\n",
    "* Sensitivität \t(Sensitivity) \t: \t70,25 \t%\n",
    "* Präzision \t(Precision) \t: \t70,25 \t%\n",
    "* Recall \t(Recall) \t: \t70,25 \t%\n",
    "* F-Maß \t(F1 Score) \t: \t70,25 \t%\n",
    "* AURC \t(AURC) \t: \t77,09 \t%\n",
    "* LogLoss \t(LogLoss) \t: \t0,745\n",
    "\n",
    "#### Version 8 & Naive Bayes & BFE\n",
    "\n",
    "* Genauigkeit \t(Accuracy) \t: \t76,32 \t%\n",
    "* Spezifität \t(Specificity) \t: \t78,46 \t%\n",
    "* Sensitivität \t(Sensitivity) \t: \t72,78 \t%\n",
    "* Präzision \t(Precision) \t: \t67,25 \t%\n",
    "* Recall \t(Recall) \t: \t72,78 \t%\n",
    "* F-Maß \t(F1 Score) \t: \t69,91 \t%\n",
    "* AURC \t(AURC) \t: \t78,66 \t%\n",
    "* LogLoss \t(LogLoss) \t: \t1,044 \t \n",
    "\n",
    "*andere Hardware*\n",
    "\n",
    "* Genauigkeit \t(Accuracy) \t: \t76,32 \t%\n",
    "* Spezifität \t(Specificity) \t: \t78,46 \t%\n",
    "* Sensitivität \t(Sensitivity) \t: \t72,78 \t%\n",
    "* Präzision \t(Precision) \t: \t67,25 \t%\n",
    "* Recall \t(Recall) \t: \t72,78 \t%\n",
    "* F-Maß \t(F1 Score) \t: \t69,91 \t%\n",
    "* AURC \t(AURC) \t: \t78,51 \t%\n",
    "* LogLoss \t(LogLoss) \t: \t1,048 \t"
   ]
  }
 ],
 "metadata": {
  "kernelspec": {
   "display_name": "Python 3 (ipykernel)",
   "language": "python",
   "name": "python3"
  },
  "language_info": {
   "codemirror_mode": {
    "name": "ipython",
    "version": 3
   },
   "file_extension": ".py",
   "mimetype": "text/x-python",
   "name": "python",
   "nbconvert_exporter": "python",
   "pygments_lexer": "ipython3",
   "version": "3.12.4"
  }
 },
 "nbformat": 4,
 "nbformat_minor": 4
}
