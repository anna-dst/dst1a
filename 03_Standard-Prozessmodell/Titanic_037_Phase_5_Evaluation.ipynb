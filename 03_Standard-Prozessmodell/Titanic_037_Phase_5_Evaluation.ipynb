{
 "cells": [
  {
   "cell_type": "markdown",
   "metadata": {},
   "source": [
    "## Phase 5 (Evaluation)"
   ]
  },
  {
   "cell_type": "markdown",
   "metadata": {},
   "source": [
    "* Autorin: Anna (i3-Versicherung)\n",
    "* Webseite: [Data Science Training - Kapitel 3](https://data-science.training/kapitel-3/)\n",
    "* Datum: 23.03.2023"
   ]
  },
  {
   "cell_type": "markdown",
   "metadata": {},
   "source": [
    "Modelle 1 bis 5"
   ]
  },
  {
   "cell_type": "code",
   "execution_count": 4,
   "metadata": {},
   "outputs": [],
   "source": [
    "# Pandas Paket (Package) importieren\n",
    "#  Datenstrukturen und Datenanalyse, I/O\n",
    "#  https://pandas.pydata.org/pandas-docs/stable/\n",
    "import pandas as pd"
   ]
  },
  {
   "cell_type": "code",
   "execution_count": 5,
   "metadata": {},
   "outputs": [],
   "source": [
    "# Testdaten als Pandas Data Frame (df) aus Excel-Datei laden\n",
    "#  (KNIME: \"Excel Reader\")\n",
    "df = pd.read_excel('../../data/titanic/new/test_v1.xlsx')"
   ]
  },
  {
   "cell_type": "code",
   "execution_count": 6,
   "metadata": {},
   "outputs": [],
   "source": [
    "# Modell 1: Niemand überlebt\n",
    "#  (KNIME: \"Constant Value Column\")\n",
    "df1 = df\n",
    "df1['Survived'] = 0\n",
    "# Ergebnisse filtern\n",
    "#  (KNIME: \"Column Filter\")\n",
    "df1 = df1.filter(['PassengerId', 'Survived'])\n",
    "# Ergebnisse als CSV-Datei speichern (Kaggle Submission)\n",
    "#  (KNIME: \"CSV Writer\")\n",
    "df1.to_csv('../../data/titanic/submission/submission_1.csv', index=False)"
   ]
  },
  {
   "cell_type": "code",
   "execution_count": 7,
   "metadata": {},
   "outputs": [],
   "source": [
    "# Modell 2: Jeder Passagier der ersten Klasse überlebt, alle anderen sterben.\n",
    "#  (KNIME: \"Math Formula\")\n",
    "df2 = df\n",
    "df2['Survived'] = (df2['Pclass'] == 1).astype('int')\n",
    "# Ergebnisse filtern\n",
    "#  (KNIME: \"Column Filter\")\n",
    "df2 = df2.filter(['PassengerId', 'Survived'])\n",
    "# Ergebnisse als CSV-Datei speichern (Kaggle Submission)\n",
    "#  (KNIME: \"CSV Writer\")\n",
    "df2.to_csv('../../data/titanic/submission/submission_2.csv', index=False)"
   ]
  },
  {
   "cell_type": "code",
   "execution_count": 8,
   "metadata": {},
   "outputs": [],
   "source": [
    "# Modell 3: Jeder weibliche Passagier überlebt, alle anderen sterben.\n",
    "#  (KNIME: \"Category To Number\")\n",
    "df3 = df\n",
    "df3['Survived'] = (df3['Sex'] == 'female').astype('int')\n",
    "# Ergebnisse filtern\n",
    "#  (KNIME: \"Column Filter\")\n",
    "df3 = df3.filter(['PassengerId', 'Survived'])\n",
    "# Ergebnisse als CSV-Datei speichern (Kaggle Submission)\n",
    "#  (KNIME: \"CSV Writer\")\n",
    "df3.to_csv('../../data/titanic/submission/submission_3.csv', index=False)"
   ]
  },
  {
   "cell_type": "code",
   "execution_count": 9,
   "metadata": {},
   "outputs": [],
   "source": [
    "# Modell 4: Jedes Kind überlebt, alle anderen Passagiere sterben.\n",
    "#  (KNIME: \"Math Formula\")\n",
    "df4 = df\n",
    "df4['Survived'] = (df4['Age'] < 12).astype('int')\n",
    "# Ergebnisse filtern\n",
    "#  (KNIME: \"Column Filter\")\n",
    "df4 = df4.filter(['PassengerId', 'Survived'])\n",
    "# Ergebnisse als CSV-Datei speichern (Kaggle Submission)\n",
    "#  (KNIME: \"CSV Writer\")\n",
    "df4.to_csv('../../data/titanic/submission/submission_4.csv', index=False)"
   ]
  },
  {
   "cell_type": "code",
   "execution_count": 10,
   "metadata": {},
   "outputs": [],
   "source": [
    "# Modell 5: Frauen und Kinder überleben, alle anderen sterben. \n",
    "#  (KNIME: \"Category To Number\" und \"Math Formula\")\n",
    "df5 = df\n",
    "df5['Survived'] = ((df5['Sex'] == 'female') | (df5['Age'] < 12)).astype('int')\n",
    "# Ergebnisse filtern\n",
    "#  (KNIME: \"Column Filter\")\n",
    "df5 = df5.filter(['PassengerId', 'Survived'])\n",
    "# Ergebnisse als CSV-Datei speichern (Kaggle Submission)\n",
    "#  (KNIME: \"CSV Writer\")\n",
    "df5.to_csv('../../data/titanic/submission/submission_5.csv', index=False)"
   ]
  },
  {
   "cell_type": "markdown",
   "metadata": {},
   "source": [
    "Ergebnisse der Kaggle-Webseite zum Gütemaß Treffergenauigkeit: https://www.kaggle.com/c/titanic\n",
    "\n",
    "* Modell 1: 62,20 %\n",
    "* Modell 2: 67,22 %\n",
    "* Modell 3: 76,56 % Top\n",
    "* Modell 4: 62,44 %\n",
    "* Modell 5: 76,32 %"
   ]
  }
 ],
 "metadata": {
  "kernelspec": {
   "display_name": "Python 3 (ipykernel)",
   "language": "python",
   "name": "python3"
  },
  "language_info": {
   "codemirror_mode": {
    "name": "ipython",
    "version": 3
   },
   "file_extension": ".py",
   "mimetype": "text/x-python",
   "name": "python",
   "nbconvert_exporter": "python",
   "pygments_lexer": "ipython3",
   "version": "3.12.4"
  }
 },
 "nbformat": 4,
 "nbformat_minor": 4
}
