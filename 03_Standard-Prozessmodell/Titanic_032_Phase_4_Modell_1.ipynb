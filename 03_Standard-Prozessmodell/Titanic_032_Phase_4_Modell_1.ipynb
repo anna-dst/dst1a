{
 "cells": [
  {
   "cell_type": "markdown",
   "metadata": {},
   "source": [
    "## Phase 4 (Modeling): Modell 1"
   ]
  },
  {
   "cell_type": "markdown",
   "metadata": {},
   "source": [
    "* Autorin: Anna (i3-Versicherung)\n",
    "* Webseite: [Data Science Training - Kapitel 3](https://data-science.training/kapitel-3/)\n",
    "* Datum: 23.03.2023"
   ]
  },
  {
   "cell_type": "markdown",
   "metadata": {},
   "source": [
    "Modell 1: Niemand überlebt"
   ]
  },
  {
   "cell_type": "code",
   "execution_count": 4,
   "metadata": {},
   "outputs": [],
   "source": [
    "# Pandas Paket (Package) importieren\n",
    "#  Datenstrukturen und Datenanalyse, I/O\n",
    "#  https://pandas.pydata.org/pandas-docs/stable/\n",
    "import pandas as pd\n",
    "# Funktionen und Module des scikit-learn Pakets (Package) importieren\n",
    "#  Maschinelles Lernen, Algorithmen\n",
    "#  https://scikit-learn.org/stable/modules/classes.html\n",
    "from sklearn.metrics import accuracy_score"
   ]
  },
  {
   "cell_type": "code",
   "execution_count": 5,
   "metadata": {},
   "outputs": [],
   "source": [
    "# Trainingsdaten als Pandas Data Frame (df) aus Excel-Datei laden\n",
    "#  (KNIME: \"Excel Reader\")\n",
    "df_train = pd.read_excel('../../data/titanic/new/training_v1.xlsx')"
   ]
  },
  {
   "cell_type": "code",
   "execution_count": 6,
   "metadata": {},
   "outputs": [
    {
     "name": "stdout",
     "output_type": "stream",
     "text": [
      "P(Survived=1) =  38.38 %\n",
      "P(Survived=0) =  61.62 %\n"
     ]
    }
   ],
   "source": [
    "# Überlebenswahrscheinlichkeiten berechnen und ausgeben\n",
    "p = df_train['Survived'].mean()\n",
    "print('P(Survived=1) = %6.2f %%' % (100*p))\n",
    "print('P(Survived=0) = %6.2f %%' % (100*(1-p)))"
   ]
  },
  {
   "cell_type": "code",
   "execution_count": 7,
   "metadata": {},
   "outputs": [],
   "source": [
    "# Modell 1: Niemand überlebt\n",
    "#  (KNIME: \"Constant Value Column\")\n",
    "df_train['Prediction'] = 0\n",
    "#display(df_train)"
   ]
  },
  {
   "cell_type": "code",
   "execution_count": 8,
   "metadata": {},
   "outputs": [
    {
     "name": "stdout",
     "output_type": "stream",
     "text": [
      "Genauigkeit:  61.62 %\n"
     ]
    }
   ],
   "source": [
    "# Genauigkeit (Accuracy) bestimmen und ausgeben\n",
    "#  (KNIME: \"Scorer\")\n",
    "acc = accuracy_score(df_train['Survived'], df_train['Prediction'])\n",
    "print('Genauigkeit: %6.2f %%' % (100*acc))"
   ]
  }
 ],
 "metadata": {
  "kernelspec": {
   "display_name": "Python 3 (ipykernel)",
   "language": "python",
   "name": "python3"
  },
  "language_info": {
   "codemirror_mode": {
    "name": "ipython",
    "version": 3
   },
   "file_extension": ".py",
   "mimetype": "text/x-python",
   "name": "python",
   "nbconvert_exporter": "python",
   "pygments_lexer": "ipython3",
   "version": "3.12.4"
  }
 },
 "nbformat": 4,
 "nbformat_minor": 4
}
