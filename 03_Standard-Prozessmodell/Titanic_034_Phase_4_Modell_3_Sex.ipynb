{
 "cells": [
  {
   "cell_type": "markdown",
   "metadata": {},
   "source": [
    "## Phase 4 (Modeling): Modell 3 (Sex)"
   ]
  },
  {
   "cell_type": "markdown",
   "metadata": {},
   "source": [
    "* Autorin: Anna (i3-Versicherung)\n",
    "* Webseite: [Data Science Training - Kapitel 3](https://data-science.training/kapitel-3/)\n",
    "* Datum: 23.03.2023"
   ]
  },
  {
   "cell_type": "markdown",
   "metadata": {},
   "source": [
    "Modell 3: Jeder weibliche Passagier überlebt, alle anderen sterben."
   ]
  },
  {
   "cell_type": "code",
   "execution_count": 4,
   "metadata": {},
   "outputs": [],
   "source": [
    "# Pandas Paket (Package) importieren\n",
    "#  Datenstrukturen und Datenanalyse, I/O\n",
    "#  https://pandas.pydata.org/pandas-docs/stable/\n",
    "import pandas as pd\n",
    "# Funktionen und Module des scikit-learn Pakets (Package) importieren\n",
    "#  Maschinelles Lernen, Algorithmen\n",
    "#  https://scikit-learn.org/stable/modules/classes.html\n",
    "from sklearn.metrics import accuracy_score"
   ]
  },
  {
   "cell_type": "code",
   "execution_count": 5,
   "metadata": {},
   "outputs": [],
   "source": [
    "# Trainingsdaten als Pandas Data Frame (df) aus Excel-Datei laden\n",
    "#  (KNIME: \"Excel Reader\")\n",
    "df_train = pd.read_excel('../../data/titanic/new/training_v1.xlsx')"
   ]
  },
  {
   "cell_type": "code",
   "execution_count": 6,
   "metadata": {},
   "outputs": [],
   "source": [
    "# Daten aufteilen: Weibliche Passagiere vs. männliche Passagiere\n",
    "#  (KNIME: \"Row Splitter\")\n",
    "df1 = df_train[df_train['Sex'] == 'female']\n",
    "df2 = df_train[df_train['Sex'] != 'female']"
   ]
  },
  {
   "cell_type": "code",
   "execution_count": 7,
   "metadata": {},
   "outputs": [
    {
     "name": "stdout",
     "output_type": "stream",
     "text": [
      "P(Survived=1|Sex=\"female\") =  74.20 %\n",
      "P(Survived=1|Sex=\"male\"  ) =  18.89 %\n"
     ]
    }
   ],
   "source": [
    "# Überlebenswahrscheinlichkeiten berechnen und ausgeben\n",
    "p1 = df1['Survived'].mean()\n",
    "p2 = df2['Survived'].mean()\n",
    "print('P(Survived=1|Sex=\"female\") = %6.2f %%' % (100*p1))\n",
    "print('P(Survived=1|Sex=\"male\"  ) = %6.2f %%' % (100*p2))"
   ]
  },
  {
   "cell_type": "code",
   "execution_count": 8,
   "metadata": {},
   "outputs": [],
   "source": [
    "# Modell 3: Jeder weibliche Passagier überlebt, alle anderen sterben.\n",
    "#  (KNIME: \"Category To Number\")\n",
    "df_train['Prediction'] = (df_train['Sex'] == 'female').astype('int')\n",
    "#display(df_train)"
   ]
  },
  {
   "cell_type": "code",
   "execution_count": 9,
   "metadata": {},
   "outputs": [
    {
     "name": "stdout",
     "output_type": "stream",
     "text": [
      "Genauigkeit:  78.68 %\n"
     ]
    }
   ],
   "source": [
    "# Genauigkeit (Accuracy) bestimmen und ausgeben\n",
    "#  (KNIME: \"Scorer\")\n",
    "acc = accuracy_score(df_train['Survived'], df_train['Prediction'])\n",
    "print('Genauigkeit: %6.2f %%' % (100*acc))"
   ]
  }
 ],
 "metadata": {
  "kernelspec": {
   "display_name": "Python 3 (ipykernel)",
   "language": "python",
   "name": "python3"
  },
  "language_info": {
   "codemirror_mode": {
    "name": "ipython",
    "version": 3
   },
   "file_extension": ".py",
   "mimetype": "text/x-python",
   "name": "python",
   "nbconvert_exporter": "python",
   "pygments_lexer": "ipython3",
   "version": "3.12.4"
  }
 },
 "nbformat": 4,
 "nbformat_minor": 4
}
