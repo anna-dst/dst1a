{
 "cells": [
  {
   "cell_type": "markdown",
   "metadata": {},
   "source": [
    "## Phase 4 (Modeling): Modell 4 (Age)"
   ]
  },
  {
   "cell_type": "markdown",
   "metadata": {},
   "source": [
    "* Autorin: Anna (i3-Versicherung)\n",
    "* Webseite: [Data Science Training - Kapitel 3](https://data-science.training/kapitel-3/)\n",
    "* Datum: 23.03.2023"
   ]
  },
  {
   "cell_type": "markdown",
   "metadata": {},
   "source": [
    "Modell 4: Jedes Kind überlebt, alle anderen Passagiere sterben."
   ]
  },
  {
   "cell_type": "code",
   "execution_count": 4,
   "metadata": {},
   "outputs": [],
   "source": [
    "# Pandas Paket (Package) importieren\n",
    "#  Datenstrukturen und Datenanalyse, I/O\n",
    "#  https://pandas.pydata.org/pandas-docs/stable/\n",
    "import pandas as pd\n",
    "# Funktionen und Module des scikit-learn Pakets (Package) importieren\n",
    "#  Maschinelles Lernen, Algorithmen\n",
    "#  https://scikit-learn.org/stable/modules/classes.html\n",
    "from sklearn.metrics import accuracy_score"
   ]
  },
  {
   "cell_type": "code",
   "execution_count": 5,
   "metadata": {},
   "outputs": [],
   "source": [
    "# Trainingsdaten als Pandas Data Frame (df) aus Excel-Datei laden\n",
    "#  (KNIME: \"Excel Reader\")\n",
    "df_train = pd.read_excel('../../data/titanic/new/training_v1.xlsx')"
   ]
  },
  {
   "cell_type": "code",
   "execution_count": 6,
   "metadata": {},
   "outputs": [],
   "source": [
    "# Daten aufteilen: Kinder (Alter < 12) vs. Rest\n",
    "#  (KNIME: \"Row Splitter\")\n",
    "df1 = df_train[df_train['Age'] <  12]\n",
    "df2 = df_train[df_train['Age'] >= 12]"
   ]
  },
  {
   "cell_type": "code",
   "execution_count": 7,
   "metadata": {},
   "outputs": [
    {
     "name": "stdout",
     "output_type": "stream",
     "text": [
      "P(Survived=1|Age< 12) =  57.35 %\n",
      "P(Survived=1|Age>=12) =  36.82 %\n"
     ]
    }
   ],
   "source": [
    "# Überlebenswahrscheinlichkeiten berechnen und ausgeben\n",
    "p1 = df1['Survived'].mean()\n",
    "p2 = df2['Survived'].mean()\n",
    "print('P(Survived=1|Age< 12) = %6.2f %%' % (100*p1))\n",
    "print('P(Survived=1|Age>=12) = %6.2f %%' % (100*p2))"
   ]
  },
  {
   "cell_type": "code",
   "execution_count": 8,
   "metadata": {},
   "outputs": [],
   "source": [
    "# Modell 4: Jedes Kind überlebt, alle anderen Passagiere sterben.\n",
    "#  (KNIME: \"Math Formula\")\n",
    "df_train['Prediction'] = (df_train['Age'] < 12).astype('int')\n",
    "#display(df_train)"
   ]
  },
  {
   "cell_type": "code",
   "execution_count": 9,
   "metadata": {},
   "outputs": [
    {
     "name": "stdout",
     "output_type": "stream",
     "text": [
      "Genauigkeit:  62.74 %\n"
     ]
    }
   ],
   "source": [
    "# Genauigkeit (Accuracy) bestimmen und ausgeben\n",
    "#  (KNIME: \"Scorer\")\n",
    "acc = accuracy_score(df_train['Survived'], df_train['Prediction'])\n",
    "print('Genauigkeit: %6.2f %%' % (100*acc))"
   ]
  }
 ],
 "metadata": {
  "kernelspec": {
   "display_name": "Python 3 (ipykernel)",
   "language": "python",
   "name": "python3"
  },
  "language_info": {
   "codemirror_mode": {
    "name": "ipython",
    "version": 3
   },
   "file_extension": ".py",
   "mimetype": "text/x-python",
   "name": "python",
   "nbconvert_exporter": "python",
   "pygments_lexer": "ipython3",
   "version": "3.12.4"
  }
 },
 "nbformat": 4,
 "nbformat_minor": 4
}
