{
 "cells": [
  {
   "cell_type": "markdown",
   "metadata": {},
   "source": [
    "## Phase 5 (Evaluation): Multilayer Perceptron"
   ]
  },
  {
   "cell_type": "markdown",
   "metadata": {},
   "source": [
    "* Autorin: Anna (i3-Versicherung)\n",
    "* Webseite: [Data Science Training - Kapitel 21](https://data-science.training/kapitel-21/)\n",
    "* Datum: 23.03.2023"
   ]
  },
  {
   "cell_type": "markdown",
   "metadata": {},
   "source": [
    "Datenversion: 10\n",
    "\n",
    "Methode: Multilayer Perceptron (MLP)\n",
    "\n",
    "Optimierung: Ohne Optimierung (), Halving Random Search (HRS) \n",
    "\n",
    "Scoring: accuracy, precision, (f1, roc_auc)"
   ]
  },
  {
   "cell_type": "code",
   "execution_count": 4,
   "metadata": {},
   "outputs": [],
   "source": [
    "# Pandas Paket (Package) importieren\n",
    "#  Datenstrukturen und Datenanalyse, I/O\n",
    "#  https://pandas.pydata.org/pandas-docs/stable/\n",
    "import pandas as pd\n",
    "# Pickle Paket (Package) importieren\n",
    "#  Objekte serialisieren\n",
    "#  https://docs.python.org/3/library/pickle.html\n",
    "import pickle as pk"
   ]
  },
  {
   "cell_type": "code",
   "execution_count": 5,
   "metadata": {},
   "outputs": [],
   "source": [
    "# Datenversion festlegen: 10\n",
    "version  = 10\n",
    "# Modell-Abkürzung festlegen: mlp = Multilayer Perceptron\n",
    "shortcut = 'mlp'\n",
    "# Optimierungsart festlegen: '' = ohne, hrs = Halving Random Search\n",
    "opt      = 'hrs'\n",
    "# Scoring festlegen: accuracy, precision, (f1, roc_auc)\n",
    "scoring  = 'precision'"
   ]
  },
  {
   "cell_type": "code",
   "execution_count": 6,
   "metadata": {},
   "outputs": [],
   "source": [
    "# Testdaten als Pandas Data Frame (df) aus Excel-Datei laden\n",
    "#  (KNIME: \"Excel Reader\")\n",
    "filename = '../../data/titanic/new/test_v' + str(version) + '.xlsx'\n",
    "df_test  = pd.read_excel(filename)"
   ]
  },
  {
   "cell_type": "code",
   "execution_count": 7,
   "metadata": {},
   "outputs": [],
   "source": [
    "# Modell laden\n",
    "#  (KNIME: \"PMML Reader\")\n",
    "filename = '../../models/titanic/new/' + shortcut + '_v' + str(version) \n",
    "if opt != '':\n",
    "    filename += '_' + opt + '_' + scoring\n",
    "model = pk.load(open(filename, 'rb'))"
   ]
  },
  {
   "cell_type": "code",
   "execution_count": 8,
   "metadata": {},
   "outputs": [],
   "source": [
    "# Scaler laden\n",
    "#  (KNIME: \"PMML Reader\")\n",
    "filename += '_scaler'\n",
    "scaler = pk.load(open(filename, 'rb'))"
   ]
  },
  {
   "cell_type": "code",
   "execution_count": 9,
   "metadata": {},
   "outputs": [],
   "source": [
    "# Testdaten: Daten ohne PassengerId extrahieren\n",
    "X_test = df_test.iloc[:,1:].values"
   ]
  },
  {
   "cell_type": "code",
   "execution_count": 10,
   "metadata": {},
   "outputs": [],
   "source": [
    "# Input-Werte skalieren\n",
    "#  (KNIME: \"Normalizer Apply (PMML)\")\n",
    "X_test = scaler.transform(X_test)"
   ]
  },
  {
   "cell_type": "code",
   "execution_count": 11,
   "metadata": {},
   "outputs": [],
   "source": [
    "# Prognosen und Wahrscheinlichkeiten bestimmen\n",
    "#  (KNIME: \"XYZ Predictor\")\n",
    "y_pred = model.predict(X_test)\n",
    "y_prob = model.predict_proba(X_test)"
   ]
  },
  {
   "cell_type": "code",
   "execution_count": 12,
   "metadata": {},
   "outputs": [],
   "source": [
    "# Ergebnisse in das Data Frame kopieren\n",
    "df_test['Survived'] = y_pred\n",
    "df_test['ProbN']    = y_prob[:,0]\n",
    "df_test['ProbP']    = y_prob[:,1]"
   ]
  },
  {
   "cell_type": "code",
   "execution_count": 13,
   "metadata": {},
   "outputs": [],
   "source": [
    "# Relevante Ergebnisse filtern\n",
    "#  (KNIME: \"Column Filter\")\n",
    "df_res = df_test.filter(['PassengerId', 'Survived', 'ProbN', 'ProbP'])"
   ]
  },
  {
   "cell_type": "code",
   "execution_count": 14,
   "metadata": {},
   "outputs": [],
   "source": [
    "# Ergebnisse als CSV-Datei speichern\n",
    "#  (KNIME: \"CSV Writer\")\n",
    "filename = '../../data/titanic/submission/' + shortcut + '_v' + str(version)\n",
    "if opt != '':\n",
    "    filename += '_' + opt + '_' + scoring\n",
    "filename += '.csv'\n",
    "df_res.to_csv(filename, index=False)"
   ]
  },
  {
   "cell_type": "code",
   "execution_count": 15,
   "metadata": {},
   "outputs": [],
   "source": [
    "# Ergebnis-Datei auf Webseite hochladen\n",
    "# https://data-science.training/upload/"
   ]
  },
  {
   "cell_type": "markdown",
   "metadata": {},
   "source": [
    "### Ergebnisse (Gütemaße)\n",
    "\n",
    "#### Version 10 & MLP & Default\n",
    "\n",
    "* Genauigkeit \t(Accuracy) \t: \t77,75 \t%\n",
    "* Spezifität \t(Specificity) \t: \t81,54 \t%\n",
    "* Sensitivität \t(Sensitivity) \t: \t71,52 \t%\n",
    "* Präzision \t(Precision) \t: \t70,19 \t%\n",
    "* Recall \t(Recall) \t: \t71,52 \t%\n",
    "* F-Maß \t(F1 Score) \t: \t70,85 \t%\n",
    "* AURC \t(AURC) \t: \t82,19 \t%\n",
    "* LogLoss \t(LogLoss) \t: \t0,493\n",
    "\n",
    "#### Version 10 & MLP &  Halving Random Search & Accuracy\n",
    "\n",
    "* Genauigkeit \t(Accuracy) \t: \t77,75 \t%\n",
    "* Spezifität \t(Specificity) \t: \t84,23 \t%\n",
    "* Sensitivität \t(Sensitivity) \t: \t67,09 \t%\n",
    "* Präzision \t(Precision) \t: \t72,11 \t%\n",
    "* Recall \t(Recall) \t: \t67,09 \t%\n",
    "* F-Maß \t(F1 Score) \t: \t69,51 \t%\n",
    "* AURC \t(AURC) \t: \t82,28 \t%\n",
    "* LogLoss \t(LogLoss) \t: \t0,489\n",
    "\n",
    "#### Version 10 & MLP &  Halving Random Search & Precision\n",
    "\n",
    "* Genauigkeit \t(Accuracy) \t: \t77,99 \t%\n",
    "* Spezifität \t(Specificity) \t: \t83,08 \t%\n",
    "* Sensitivität \t(Sensitivity) \t: \t69,62 \t%\n",
    "* Präzision \t(Precision) \t: \t71,43 \t%\n",
    "* Recall \t(Recall) \t: \t69,62 \t%\n",
    "* F-Maß \t(F1 Score) \t: \t70,51 \t%\n",
    "* AURC \t(AURC) \t: \t81,82 \t%\n",
    "* LogLoss \t(LogLoss) \t: \t0,493"
   ]
  }
 ],
 "metadata": {
  "kernelspec": {
   "display_name": "Python 3 (ipykernel)",
   "language": "python",
   "name": "python3"
  },
  "language_info": {
   "codemirror_mode": {
    "name": "ipython",
    "version": 3
   },
   "file_extension": ".py",
   "mimetype": "text/x-python",
   "name": "python",
   "nbconvert_exporter": "python",
   "pygments_lexer": "ipython3",
   "version": "3.12.4"
  }
 },
 "nbformat": 4,
 "nbformat_minor": 4
}
