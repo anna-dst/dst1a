{
 "cells": [
  {
   "cell_type": "markdown",
   "metadata": {},
   "source": [
    "## Phase 5 (Evaluation): Multilayer Perceptron & Grid Search & Schwelle"
   ]
  },
  {
   "cell_type": "markdown",
   "metadata": {},
   "source": [
    "* Autorin: Anna (i3-Versicherung)\n",
    "* Webseite: [Data Science Training - Kapitel 21](https://data-science.training/kapitel-21/)\n",
    "* Datum: 23.03.2023"
   ]
  },
  {
   "cell_type": "markdown",
   "metadata": {},
   "source": [
    "Datenversion: 10\n",
    "\n",
    "Methode: Multilayer Perceptron (MLP)\n",
    "\n",
    "Optimierung: Ergebnis von Grid Search (GS)\n",
    "\n",
    "Schwellenwerte: 0.65, 0.70, 0.75, 0.80, 0.85, 0.90"
   ]
  },
  {
   "cell_type": "code",
   "execution_count": 4,
   "metadata": {},
   "outputs": [],
   "source": [
    "# Pandas Paket (Package) importieren\n",
    "#  Datenstrukturen und Datenanalyse, I/O\n",
    "#  https://pandas.pydata.org/pandas-docs/stable/\n",
    "import pandas as pd\n",
    "# NumPy Paket (Package) importieren\n",
    "#  Mehrdimensionale Datenstrukturen (Vektoren, Matrizen, Tensoren, Arrays), Lineare Algebra\n",
    "#  https://numpy.org/doc/\n",
    "import numpy as np\n",
    "# Pickle Paket (Package) importieren\n",
    "#  Objekte serialisieren\n",
    "#  https://docs.python.org/3/library/pickle.html\n",
    "import pickle as pk"
   ]
  },
  {
   "cell_type": "code",
   "execution_count": 5,
   "metadata": {},
   "outputs": [],
   "source": [
    "# Datenversion festlegen: 10\n",
    "version   = 10\n",
    "# Modell-Abkürzung festlegen: mlp = Multilayer Perceptron\n",
    "shortcut  = 'mlp'\n",
    "# Optimierungsart festlegen: gs = Grid Search\n",
    "opt       = 'gs'\n",
    "# Optimalen Schwellenwert festlegen: 0.65, 0.70, 0.75, 0.80, 0.85, 0.90\n",
    "threshold = 0.90"
   ]
  },
  {
   "cell_type": "code",
   "execution_count": 6,
   "metadata": {},
   "outputs": [],
   "source": [
    "# Testdaten als Pandas Data Frame (df) aus Excel-Datei laden\n",
    "#  (KNIME: \"Excel Reader\")\n",
    "filename = '../../data/titanic/new/test_v' + str(version) + '.xlsx'\n",
    "df_test  = pd.read_excel(filename)"
   ]
  },
  {
   "cell_type": "code",
   "execution_count": 7,
   "metadata": {},
   "outputs": [],
   "source": [
    "# Modell laden\n",
    "#  (KNIME: \"PMML Reader\")\n",
    "filename = '../../models/titanic/new/' + shortcut + '_v' + str(version) + '_' + opt + '_thr_' + str(threshold)\n",
    "model = pk.load(open(filename, 'rb'))"
   ]
  },
  {
   "cell_type": "code",
   "execution_count": 8,
   "metadata": {},
   "outputs": [],
   "source": [
    "# Scaler laden\n",
    "#  (KNIME: \"PMML Reader\")\n",
    "filename += '_scaler'\n",
    "scaler = pk.load(open(filename, 'rb'))"
   ]
  },
  {
   "cell_type": "code",
   "execution_count": 9,
   "metadata": {},
   "outputs": [],
   "source": [
    "# Testdaten: Daten ohne PassengerId extrahieren\n",
    "X_test = df_test.iloc[:,1:].values"
   ]
  },
  {
   "cell_type": "code",
   "execution_count": 10,
   "metadata": {},
   "outputs": [],
   "source": [
    "# Input-Werte skalieren\n",
    "#  (KNIME: \"Normalizer Apply (PMML)\")\n",
    "X_test = scaler.transform(X_test)"
   ]
  },
  {
   "cell_type": "code",
   "execution_count": 11,
   "metadata": {},
   "outputs": [],
   "source": [
    "# Wahrscheinlichkeiten bestimmen\n",
    "#  (KNIME: \"XYZ Predictor\")\n",
    "y_prob = model.predict_proba(X_test)"
   ]
  },
  {
   "cell_type": "code",
   "execution_count": 12,
   "metadata": {},
   "outputs": [],
   "source": [
    "# Prognosen aus den Klassen-Wahrscheinlichkeiten mittels Schwellenwert berechnen\n",
    "def dst_predictions(y_prob, threshold=0.5):\n",
    "    m = len(y_prob[:,1])\n",
    "    y_pred = np.zeros(m)\n",
    "    for k in range(0, m):\n",
    "        if y_prob[k][1] > threshold:\n",
    "            y_pred[k] = 1\n",
    "    return y_pred"
   ]
  },
  {
   "cell_type": "code",
   "execution_count": 13,
   "metadata": {},
   "outputs": [],
   "source": [
    "# Prognosen berechnen\n",
    "#  (KNIME: \"XYZ Predictor\")\n",
    "y_pred = dst_predictions(y_prob, threshold)"
   ]
  },
  {
   "cell_type": "code",
   "execution_count": 14,
   "metadata": {},
   "outputs": [],
   "source": [
    "# Ergebnisse in das Data Frame kopieren\n",
    "df_test['Survived'] = y_pred\n",
    "df_test['ProbN']    = y_prob[:,0]\n",
    "df_test['ProbP']    = y_prob[:,1]"
   ]
  },
  {
   "cell_type": "code",
   "execution_count": 15,
   "metadata": {},
   "outputs": [],
   "source": [
    "# Relevante Ergebnisse filtern\n",
    "#  (KNIME: \"Column Filter\")\n",
    "df_res = df_test.filter(['PassengerId', 'Survived', 'ProbN', 'ProbP'])"
   ]
  },
  {
   "cell_type": "code",
   "execution_count": 16,
   "metadata": {},
   "outputs": [],
   "source": [
    "# Ergebnisse als CSV-Datei speichern\n",
    "#  (KNIME: \"CSV Writer\")\n",
    "filename = '../../data/titanic/submission/' + shortcut + '_v' + str(version) + '_' + opt + '_thr_' + str(threshold) + '.csv'\n",
    "df_res.to_csv(filename, index=False)"
   ]
  },
  {
   "cell_type": "code",
   "execution_count": 17,
   "metadata": {},
   "outputs": [],
   "source": [
    "# Ergebnis-Datei auf Webseite hochladen\n",
    "# https://data-science.training/upload/"
   ]
  },
  {
   "cell_type": "markdown",
   "metadata": {},
   "source": [
    "### Ergebnisse (Gütemaße)\n",
    "\n",
    "#### Version 10 & MLP &  Grid Search & Schwelle 0,65\n",
    "\n",
    "* Genauigkeit \t(Accuracy) \t: \t78,71 \t%\n",
    "* Spezifität \t(Specificity) \t: \t96,54 \t%\n",
    "* Sensitivität \t(Sensitivity) \t: \t49,37 \t%\n",
    "* Präzision \t(Precision) \t: \t89,66 \t%\n",
    "* Recall \t(Recall) \t: \t49,37 \t%\n",
    "* F-Maß \t(F1 Score) \t: \t63,67 \t%\n",
    "* AURC \t(AURC) \t: \t80,27 \t%\n",
    "* LogLoss \t(LogLoss) \t: \t0,482\n",
    "\n",
    "#### Version 10 & MLP &  Grid Search & Schwelle 0,70\n",
    "\n",
    "* Genauigkeit \t(Accuracy) \t: \t78,71 \t%\n",
    "* Spezifität \t(Specificity) \t: \t96,54 \t%\n",
    "* Sensitivität \t(Sensitivity) \t: \t49,37 \t%\n",
    "* Präzision \t(Precision) \t: \t89,66 \t%\n",
    "* Recall \t(Recall) \t: \t49,37 \t%\n",
    "* F-Maß \t(F1 Score) \t: \t63,67 \t%\n",
    "* AURC \t(AURC) \t: \t80,27 \t%\n",
    "* LogLoss \t(LogLoss) \t: \t0,482\n",
    "\n",
    "#### Version 10 & MLP &  Grid Search & Schwelle 0,75\n",
    "\n",
    "* Genauigkeit \t(Accuracy) \t: \t78,71 \t%\n",
    "* Spezifität \t(Specificity) \t: \t96,54 \t%\n",
    "* Sensitivität \t(Sensitivity) \t: \t49,37 \t%\n",
    "* Präzision \t(Precision) \t: \t89,66 \t%\n",
    "* Recall \t(Recall) \t: \t49,37 \t%\n",
    "* F-Maß \t(F1 Score) \t: \t63,67 \t%\n",
    "* AURC \t(AURC) \t: \t80,27 \t%\n",
    "* LogLoss \t(LogLoss) \t: \t0,482\n",
    "\n",
    "#### Version 10 & MLP &  Grid Search & Schwelle 0,80\n",
    "\n",
    "* Genauigkeit \t(Accuracy) \t: \t78,23 \t%\n",
    "* Spezifität \t(Specificity) \t: \t96,92 \t%\n",
    "* Sensitivität \t(Sensitivity) \t: \t47,47 \t%\n",
    "* Präzision \t(Precision) \t: \t<span style=\"color:red\">90,36 \t%</span>\n",
    "* Recall \t(Recall) \t: \t47,47 \t%\n",
    "* F-Maß \t(F1 Score) \t: \t62,24 \t%\n",
    "* AURC \t(AURC) \t: \t80,27 \t%\n",
    "* LogLoss \t(LogLoss) \t: \t0,482\n",
    "\n",
    "#### Version 10 & MLP &  Grid Search & Schwelle 0,85\n",
    "\n",
    "* Genauigkeit \t(Accuracy) \t: \t77,03 \t%\n",
    "* Spezifität \t(Specificity) \t: \t96,92 \t%\n",
    "* Sensitivität \t(Sensitivity) \t: \t44,30 \t%\n",
    "* Präzision \t(Precision) \t: \t89,74 \t%\n",
    "* Recall \t(Recall) \t: \t44,30 \t%\n",
    "* F-Maß \t(F1 Score) \t: \t59,32 \t%\n",
    "* AURC \t(AURC) \t: \t80,27 \t%\n",
    "* LogLoss \t(LogLoss) \t: \t0,482\n",
    "\n",
    "#### Version 10 & MLP &  Grid Search & Schwelle 0,90\n",
    "\n",
    "* Genauigkeit \t(Accuracy) \t: \t72,97 \t%\n",
    "* Spezifität \t(Specificity) \t: \t97,31 \t%\n",
    "* Sensitivität \t(Sensitivity) \t: \t32,91 \t%\n",
    "* Präzision \t(Precision) \t: \t88,14 \t%\n",
    "* Recall \t(Recall) \t: \t32,91 \t%\n",
    "* F-Maß \t(F1 Score) \t: \t47,93 \t%\n",
    "* AURC \t(AURC) \t: \t80,27 \t%\n",
    "* LogLoss \t(LogLoss) \t: \t0,482\n"
   ]
  }
 ],
 "metadata": {
  "kernelspec": {
   "display_name": "Python 3 (ipykernel)",
   "language": "python",
   "name": "python3"
  },
  "language_info": {
   "codemirror_mode": {
    "name": "ipython",
    "version": 3
   },
   "file_extension": ".py",
   "mimetype": "text/x-python",
   "name": "python",
   "nbconvert_exporter": "python",
   "pygments_lexer": "ipython3",
   "version": "3.12.4"
  }
 },
 "nbformat": 4,
 "nbformat_minor": 4
}
