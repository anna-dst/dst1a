{
 "cells": [
  {
   "cell_type": "markdown",
   "metadata": {},
   "source": [
    "## Balkendiagramme"
   ]
  },
  {
   "cell_type": "markdown",
   "metadata": {},
   "source": [
    "* Autorin: Anna (i3-Versicherung)\n",
    "* Webseite: [Data Science Training - Kapitel 5](https://data-science.training/kapitel-5/)\n",
    "* Datum: 23.03.2023"
   ]
  },
  {
   "cell_type": "markdown",
   "metadata": {},
   "source": [
    "Zu neuen Features der Datenversion 3 [Seaborn]"
   ]
  },
  {
   "cell_type": "code",
   "execution_count": 4,
   "metadata": {},
   "outputs": [
    {
     "data": {
      "text/plain": [
       "'de'"
      ]
     },
     "execution_count": 4,
     "metadata": {},
     "output_type": "execute_result"
    }
   ],
   "source": [
    "# Pandas Paket (Package) importieren\n",
    "#  Datenstrukturen und Datenanalyse, I/O\n",
    "#  https://pandas.pydata.org/pandas-docs/stable/\n",
    "import pandas as pd\n",
    "# Pyplot Modul der Matplot Bibliothek (Library) importieren\n",
    "#  Mathematische grafische Daten-Visualisierungen\n",
    "#  https://matplotlib.org/contents.html\n",
    "import matplotlib.pyplot as plt\n",
    "# Seaborn importieren [sns = seaborn name space, Samuel Norman Seaborn]\n",
    "#  High-end Daten-Visualisierungen auf Basis von Matplot\n",
    "#  https://seaborn.pydata.org/\n",
    "import seaborn as sns\n",
    "# Deutsches Zahlenformat\n",
    "import locale\n",
    "locale.setlocale(locale.LC_ALL, 'de')\n",
    "# Warnungen unterdrücken\n",
    "#import warnings\n",
    "#warnings.filterwarnings('ignore')"
   ]
  },
  {
   "cell_type": "code",
   "execution_count": 5,
   "metadata": {},
   "outputs": [],
   "source": [
    "# Trainingsdaten als Pandas Data Frame (df) aus Excel-Datei laden\n",
    "#  (KNIME: \"Excel Reader\")\n",
    "df_train = pd.read_excel('../../data/titanic/new/training_v3_Bilder.xlsx')"
   ]
  },
  {
   "cell_type": "code",
   "execution_count": 6,
   "metadata": {},
   "outputs": [],
   "source": [
    "# Datentypen automatisch konvertieren\n",
    "df_train = df_train.convert_dtypes()"
   ]
  },
  {
   "cell_type": "code",
   "execution_count": 7,
   "metadata": {},
   "outputs": [],
   "source": [
    "# Seaborn: Allgemeine Einstellungen\n",
    "\n",
    "# Schriftart setzen\n",
    "sns.set(font = 'Arial')\n",
    "# Schriftgröße setzen\n",
    "sns.set(font_scale = 2.5)\n",
    "# Achsen im deutschen Zahlenformat\n",
    "plt.rcParams['axes.formatter.use_locale'] = True\n",
    "# Bildgröße setzen (16 x 9)\n",
    "sns.set(rc={'figure.figsize':(8, 4.5)})\n",
    "# Weißes Gitter setzen\n",
    "sns.set_style('whitegrid')"
   ]
  },
  {
   "cell_type": "code",
   "execution_count": 8,
   "metadata": {},
   "outputs": [
    {
     "data": {
      "text/html": [
       "<div>\n",
       "<style scoped>\n",
       "    .dataframe tbody tr th:only-of-type {\n",
       "        vertical-align: middle;\n",
       "    }\n",
       "\n",
       "    .dataframe tbody tr th {\n",
       "        vertical-align: top;\n",
       "    }\n",
       "\n",
       "    .dataframe thead th {\n",
       "        text-align: right;\n",
       "    }\n",
       "</style>\n",
       "<table border=\"1\" class=\"dataframe\">\n",
       "  <thead>\n",
       "    <tr style=\"text-align: right;\">\n",
       "      <th></th>\n",
       "      <th>Survived</th>\n",
       "      <th>Pclass</th>\n",
       "      <th>Sex</th>\n",
       "      <th>Embarked</th>\n",
       "      <th>KnownCabin</th>\n",
       "      <th>Child</th>\n",
       "      <th>Title</th>\n",
       "      <th>FamilySizeBinned</th>\n",
       "      <th>FareBinned</th>\n",
       "    </tr>\n",
       "  </thead>\n",
       "  <tbody>\n",
       "    <tr>\n",
       "      <th>0</th>\n",
       "      <td>0</td>\n",
       "      <td>3</td>\n",
       "      <td>male</td>\n",
       "      <td>S</td>\n",
       "      <td>0</td>\n",
       "      <td>0</td>\n",
       "      <td>Mr</td>\n",
       "      <td>Small</td>\n",
       "      <td>Low</td>\n",
       "    </tr>\n",
       "    <tr>\n",
       "      <th>1</th>\n",
       "      <td>1</td>\n",
       "      <td>1</td>\n",
       "      <td>female</td>\n",
       "      <td>C</td>\n",
       "      <td>1</td>\n",
       "      <td>0</td>\n",
       "      <td>Mrs</td>\n",
       "      <td>Small</td>\n",
       "      <td>VeryHigh</td>\n",
       "    </tr>\n",
       "    <tr>\n",
       "      <th>2</th>\n",
       "      <td>1</td>\n",
       "      <td>3</td>\n",
       "      <td>female</td>\n",
       "      <td>S</td>\n",
       "      <td>0</td>\n",
       "      <td>0</td>\n",
       "      <td>Miss</td>\n",
       "      <td>No</td>\n",
       "      <td>Low</td>\n",
       "    </tr>\n",
       "    <tr>\n",
       "      <th>3</th>\n",
       "      <td>1</td>\n",
       "      <td>1</td>\n",
       "      <td>female</td>\n",
       "      <td>S</td>\n",
       "      <td>1</td>\n",
       "      <td>0</td>\n",
       "      <td>Mrs</td>\n",
       "      <td>Small</td>\n",
       "      <td>VeryHigh</td>\n",
       "    </tr>\n",
       "    <tr>\n",
       "      <th>4</th>\n",
       "      <td>0</td>\n",
       "      <td>3</td>\n",
       "      <td>male</td>\n",
       "      <td>S</td>\n",
       "      <td>0</td>\n",
       "      <td>0</td>\n",
       "      <td>Mr</td>\n",
       "      <td>No</td>\n",
       "      <td>Medium</td>\n",
       "    </tr>\n",
       "    <tr>\n",
       "      <th>...</th>\n",
       "      <td>...</td>\n",
       "      <td>...</td>\n",
       "      <td>...</td>\n",
       "      <td>...</td>\n",
       "      <td>...</td>\n",
       "      <td>...</td>\n",
       "      <td>...</td>\n",
       "      <td>...</td>\n",
       "      <td>...</td>\n",
       "    </tr>\n",
       "    <tr>\n",
       "      <th>886</th>\n",
       "      <td>0</td>\n",
       "      <td>2</td>\n",
       "      <td>male</td>\n",
       "      <td>S</td>\n",
       "      <td>0</td>\n",
       "      <td>0</td>\n",
       "      <td>Rare</td>\n",
       "      <td>No</td>\n",
       "      <td>Medium</td>\n",
       "    </tr>\n",
       "    <tr>\n",
       "      <th>887</th>\n",
       "      <td>1</td>\n",
       "      <td>1</td>\n",
       "      <td>female</td>\n",
       "      <td>S</td>\n",
       "      <td>1</td>\n",
       "      <td>0</td>\n",
       "      <td>Miss</td>\n",
       "      <td>No</td>\n",
       "      <td>High</td>\n",
       "    </tr>\n",
       "    <tr>\n",
       "      <th>888</th>\n",
       "      <td>0</td>\n",
       "      <td>3</td>\n",
       "      <td>female</td>\n",
       "      <td>S</td>\n",
       "      <td>0</td>\n",
       "      <td>0</td>\n",
       "      <td>Miss</td>\n",
       "      <td>Small</td>\n",
       "      <td>High</td>\n",
       "    </tr>\n",
       "    <tr>\n",
       "      <th>889</th>\n",
       "      <td>1</td>\n",
       "      <td>1</td>\n",
       "      <td>male</td>\n",
       "      <td>C</td>\n",
       "      <td>1</td>\n",
       "      <td>0</td>\n",
       "      <td>Mr</td>\n",
       "      <td>No</td>\n",
       "      <td>High</td>\n",
       "    </tr>\n",
       "    <tr>\n",
       "      <th>890</th>\n",
       "      <td>0</td>\n",
       "      <td>3</td>\n",
       "      <td>male</td>\n",
       "      <td>Q</td>\n",
       "      <td>0</td>\n",
       "      <td>0</td>\n",
       "      <td>Mr</td>\n",
       "      <td>No</td>\n",
       "      <td>Low</td>\n",
       "    </tr>\n",
       "  </tbody>\n",
       "</table>\n",
       "<p>891 rows × 9 columns</p>\n",
       "</div>"
      ],
      "text/plain": [
       "     Survived  Pclass     Sex Embarked  KnownCabin  Child Title  \\\n",
       "0           0       3    male        S           0      0    Mr   \n",
       "1           1       1  female        C           1      0   Mrs   \n",
       "2           1       3  female        S           0      0  Miss   \n",
       "3           1       1  female        S           1      0   Mrs   \n",
       "4           0       3    male        S           0      0    Mr   \n",
       "..        ...     ...     ...      ...         ...    ...   ...   \n",
       "886         0       2    male        S           0      0  Rare   \n",
       "887         1       1  female        S           1      0  Miss   \n",
       "888         0       3  female        S           0      0  Miss   \n",
       "889         1       1    male        C           1      0    Mr   \n",
       "890         0       3    male        Q           0      0    Mr   \n",
       "\n",
       "    FamilySizeBinned FareBinned  \n",
       "0              Small        Low  \n",
       "1              Small   VeryHigh  \n",
       "2                 No        Low  \n",
       "3              Small   VeryHigh  \n",
       "4                 No     Medium  \n",
       "..               ...        ...  \n",
       "886               No     Medium  \n",
       "887               No       High  \n",
       "888            Small       High  \n",
       "889               No       High  \n",
       "890               No        Low  \n",
       "\n",
       "[891 rows x 9 columns]"
      ]
     },
     "metadata": {},
     "output_type": "display_data"
    }
   ],
   "source": [
    "display(df_train)"
   ]
  },
  {
   "cell_type": "code",
   "execution_count": 9,
   "metadata": {},
   "outputs": [
    {
     "data": {
      "image/png": "[encoded data removed]",
      "text/plain": [
       "<Figure size 400.05x150 with 1 Axes>"
      ]
     },
     "metadata": {},
     "output_type": "display_data"
    }
   ],
   "source": [
    "# (1a) Barplot zu KnownCabin: Überlebenswahrscheinlichkeit\n",
    "sns.catplot(data=df_train, x='Survived', y='KnownCabin', kind='bar', palette='Blues', height=1.5, aspect=2.667, orient='h', hue='KnownCabin', legend=False)\n",
    "\n",
    "# Achsen beschriften\n",
    "plt.xlabel('Überlebenswahrscheinlichkeit')\n",
    "plt.ylabel('KnownCabin')\n",
    "\n",
    "# Grafik speichern\n",
    "plt.savefig('../../figures/svg/Bar_KnownCabin_1.svg', format='svg', dpi=1200, transparent=True)"
   ]
  },
  {
   "cell_type": "code",
   "execution_count": 10,
   "metadata": {},
   "outputs": [
    {
     "data": {
      "image/png": "[encoded data removed]",
      "text/plain": [
       "<Figure size 400.05x150 with 1 Axes>"
      ]
     },
     "metadata": {},
     "output_type": "display_data"
    }
   ],
   "source": [
    "# (1b) Barplot zu KnownCabin: Absolute Häufigkeiten\n",
    "sns.catplot(data=df_train, y='KnownCabin', kind='count', palette='Blues', height=1.5, aspect=2.667, hue='KnownCabin', legend=False)\n",
    "\n",
    "# Achsen beschriften\n",
    "plt.xlabel('Häufigkeit')\n",
    "plt.ylabel('KnownCabin')\n",
    "\n",
    "# Grafik speichern\n",
    "plt.savefig('../../figures/svg/Bar_KnownCabin_2.svg', format='svg', dpi=1200, transparent=True)"
   ]
  },
  {
   "cell_type": "code",
   "execution_count": 11,
   "metadata": {},
   "outputs": [
    {
     "data": {
      "text/html": [
       "<div>\n",
       "<style scoped>\n",
       "    .dataframe tbody tr th:only-of-type {\n",
       "        vertical-align: middle;\n",
       "    }\n",
       "\n",
       "    .dataframe tbody tr th {\n",
       "        vertical-align: top;\n",
       "    }\n",
       "\n",
       "    .dataframe thead th {\n",
       "        text-align: right;\n",
       "    }\n",
       "</style>\n",
       "<table border=\"1\" class=\"dataframe\">\n",
       "  <thead>\n",
       "    <tr style=\"text-align: right;\">\n",
       "      <th></th>\n",
       "      <th>KnownCabin</th>\n",
       "      <th>Survived</th>\n",
       "    </tr>\n",
       "  </thead>\n",
       "  <tbody>\n",
       "    <tr>\n",
       "      <th>0</th>\n",
       "      <td>0</td>\n",
       "      <td>0.299419</td>\n",
       "    </tr>\n",
       "    <tr>\n",
       "      <th>1</th>\n",
       "      <td>1</td>\n",
       "      <td>0.669951</td>\n",
       "    </tr>\n",
       "  </tbody>\n",
       "</table>\n",
       "</div>"
      ],
      "text/plain": [
       "   KnownCabin  Survived\n",
       "0           0  0.299419\n",
       "1           1  0.669951"
      ]
     },
     "metadata": {},
     "output_type": "display_data"
    }
   ],
   "source": [
    "# (1c) Tabelle zu KnownCabin: Überlebenswahrscheinlichkeit\n",
    "probs = df_train.groupby(['KnownCabin'], as_index=False, observed=False)['Survived'].mean()\n",
    "display(probs)"
   ]
  },
  {
   "cell_type": "code",
   "execution_count": 12,
   "metadata": {},
   "outputs": [
    {
     "data": {
      "image/png": "[encoded data removed]",
      "text/plain": [
       "<Figure size 400.05x150 with 1 Axes>"
      ]
     },
     "metadata": {},
     "output_type": "display_data"
    }
   ],
   "source": [
    "# (2a) Barplot zu Child: Überlebenswahrscheinlichkeit\n",
    "sns.catplot(data=df_train, x='Survived', y='Child', kind='bar', palette='Blues', height=1.5, aspect=2.667, orient='h', hue='Child', legend=False)\n",
    "\n",
    "# Achsen beschriften\n",
    "plt.xlabel('Überlebenswahrscheinlichkeit')\n",
    "plt.ylabel('Child')\n",
    "\n",
    "# Grafik speichern\n",
    "plt.savefig('../../figures/svg/Bar_Child_1.svg', format='svg', dpi=1200, transparent=True)"
   ]
  },
  {
   "cell_type": "code",
   "execution_count": 13,
   "metadata": {},
   "outputs": [
    {
     "data": {
      "image/png": "[encoded data removed]",
      "text/plain": [
       "<Figure size 400.05x150 with 1 Axes>"
      ]
     },
     "metadata": {},
     "output_type": "display_data"
    }
   ],
   "source": [
    "# (2b) Barplot zu Child: Absolute Häufigkeiten\n",
    "sns.catplot(data=df_train, y='Child', kind='count', palette='Blues', height=1.5, aspect=2.667, hue='Child', legend=False)\n",
    "\n",
    "# Achsen beschriften\n",
    "plt.xlabel('Häufigkeit')\n",
    "plt.ylabel('Child')\n",
    "\n",
    "# Grafik speichern\n",
    "plt.savefig('../../figures/svg/Bar_Child_2.svg', format='svg', dpi=1200, transparent=True)"
   ]
  },
  {
   "cell_type": "code",
   "execution_count": 14,
   "metadata": {},
   "outputs": [
    {
     "data": {
      "text/html": [
       "<div>\n",
       "<style scoped>\n",
       "    .dataframe tbody tr th:only-of-type {\n",
       "        vertical-align: middle;\n",
       "    }\n",
       "\n",
       "    .dataframe tbody tr th {\n",
       "        vertical-align: top;\n",
       "    }\n",
       "\n",
       "    .dataframe thead th {\n",
       "        text-align: right;\n",
       "    }\n",
       "</style>\n",
       "<table border=\"1\" class=\"dataframe\">\n",
       "  <thead>\n",
       "    <tr style=\"text-align: right;\">\n",
       "      <th></th>\n",
       "      <th>Child</th>\n",
       "      <th>Survived</th>\n",
       "    </tr>\n",
       "  </thead>\n",
       "  <tbody>\n",
       "    <tr>\n",
       "      <th>0</th>\n",
       "      <td>0</td>\n",
       "      <td>0.368165</td>\n",
       "    </tr>\n",
       "    <tr>\n",
       "      <th>1</th>\n",
       "      <td>1</td>\n",
       "      <td>0.573529</td>\n",
       "    </tr>\n",
       "  </tbody>\n",
       "</table>\n",
       "</div>"
      ],
      "text/plain": [
       "   Child  Survived\n",
       "0      0  0.368165\n",
       "1      1  0.573529"
      ]
     },
     "metadata": {},
     "output_type": "display_data"
    }
   ],
   "source": [
    "# (2c) Tabelle zu Child: Überlebenswahrscheinlichkeit\n",
    "probs = df_train.groupby(['Child'], as_index=False, observed=False)['Survived'].mean()\n",
    "display(probs)"
   ]
  },
  {
   "cell_type": "code",
   "execution_count": 15,
   "metadata": {},
   "outputs": [],
   "source": [
    "# (3) Daten vorbereiten: Title (Sortierung !)\n",
    "#labels = ['No', 'Small', 'Large']\n",
    "#df_train['FamilySizeBinned'] = pd.Categorical(df_train['FamilySizeBinned'], labels)"
   ]
  },
  {
   "cell_type": "code",
   "execution_count": 16,
   "metadata": {},
   "outputs": [
    {
     "data": {
      "image/png": "[encoded data removed]",
      "text/plain": [
       "<Figure size 400x250 with 1 Axes>"
      ]
     },
     "metadata": {},
     "output_type": "display_data"
    }
   ],
   "source": [
    "# (3a) Barplot zu Title: Überlebenswahrscheinlichkeit\n",
    "sns.catplot(data=df_train, x='Survived', y='Title', kind='bar', palette='Blues', height=2.5, aspect=1.6, orient='h', hue='Title', legend=False)\n",
    "\n",
    "# Achsen beschriften\n",
    "plt.xlabel('Überlebenswahrscheinlichkeit')\n",
    "plt.ylabel('Title')\n",
    "\n",
    "# Grafik speichern\n",
    "plt.savefig('../../figures/svg/Bar_Title_1.svg', format='svg', dpi=1200, transparent=True)"
   ]
  },
  {
   "cell_type": "code",
   "execution_count": 17,
   "metadata": {},
   "outputs": [
    {
     "data": {
      "image/png": "[encoded data removed]",
      "text/plain": [
       "<Figure size 400x250 with 1 Axes>"
      ]
     },
     "metadata": {},
     "output_type": "display_data"
    }
   ],
   "source": [
    "# (3b) Barplot zu Title: Absolute Häufigkeiten\n",
    "sns.catplot(data=df_train, y='Title', kind='count', palette='Blues', height=2.5, aspect=1.6, hue='Title', legend=False)\n",
    "\n",
    "# Achsen beschriften\n",
    "plt.xlabel('Häufigkeit')\n",
    "plt.ylabel('Title')\n",
    "\n",
    "# Grafik speichern\n",
    "plt.savefig('../../figures/svg/Bar_Title_2.svg', format='svg', dpi=1200, transparent=True)"
   ]
  },
  {
   "cell_type": "code",
   "execution_count": 18,
   "metadata": {},
   "outputs": [
    {
     "data": {
      "text/html": [
       "<div>\n",
       "<style scoped>\n",
       "    .dataframe tbody tr th:only-of-type {\n",
       "        vertical-align: middle;\n",
       "    }\n",
       "\n",
       "    .dataframe tbody tr th {\n",
       "        vertical-align: top;\n",
       "    }\n",
       "\n",
       "    .dataframe thead th {\n",
       "        text-align: right;\n",
       "    }\n",
       "</style>\n",
       "<table border=\"1\" class=\"dataframe\">\n",
       "  <thead>\n",
       "    <tr style=\"text-align: right;\">\n",
       "      <th></th>\n",
       "      <th>Title</th>\n",
       "      <th>Survived</th>\n",
       "    </tr>\n",
       "  </thead>\n",
       "  <tbody>\n",
       "    <tr>\n",
       "      <th>0</th>\n",
       "      <td>Master</td>\n",
       "      <td>0.575</td>\n",
       "    </tr>\n",
       "    <tr>\n",
       "      <th>1</th>\n",
       "      <td>Miss</td>\n",
       "      <td>0.702703</td>\n",
       "    </tr>\n",
       "    <tr>\n",
       "      <th>2</th>\n",
       "      <td>Mr</td>\n",
       "      <td>0.156673</td>\n",
       "    </tr>\n",
       "    <tr>\n",
       "      <th>3</th>\n",
       "      <td>Mrs</td>\n",
       "      <td>0.796875</td>\n",
       "    </tr>\n",
       "    <tr>\n",
       "      <th>4</th>\n",
       "      <td>Rare</td>\n",
       "      <td>0.285714</td>\n",
       "    </tr>\n",
       "  </tbody>\n",
       "</table>\n",
       "</div>"
      ],
      "text/plain": [
       "    Title  Survived\n",
       "0  Master     0.575\n",
       "1    Miss  0.702703\n",
       "2      Mr  0.156673\n",
       "3     Mrs  0.796875\n",
       "4    Rare  0.285714"
      ]
     },
     "metadata": {},
     "output_type": "display_data"
    }
   ],
   "source": [
    "# (3c) Tabelle zu Title: Überlebenswahrscheinlichkeit\n",
    "probs = df_train.groupby(['Title'], as_index=False, observed=False)['Survived'].mean()\n",
    "display(probs)"
   ]
  },
  {
   "cell_type": "code",
   "execution_count": 19,
   "metadata": {},
   "outputs": [],
   "source": [
    "# (4) Daten vorbereiten: FamilySizeBinned (Sortierung !)\n",
    "labels = ['No', 'Small', 'Large']\n",
    "df_train['FamilySizeBinned'] = pd.Categorical(df_train['FamilySizeBinned'], labels)"
   ]
  },
  {
   "cell_type": "code",
   "execution_count": 20,
   "metadata": {},
   "outputs": [
    {
     "data": {
      "image/png": "[encoded data removed]",
      "text/plain": [
       "<Figure size 400x200 with 1 Axes>"
      ]
     },
     "metadata": {},
     "output_type": "display_data"
    }
   ],
   "source": [
    "# (4a) Barplot zu FamilySizeBinned: Überlebenswahrscheinlichkeit\n",
    "sns.catplot(data=df_train, x='Survived', y='FamilySizeBinned', kind='bar', palette='Blues', height=2, aspect=2, orient='h', hue='FamilySizeBinned', legend=False)\n",
    "\n",
    "# Achsen beschriften\n",
    "plt.xlabel('Überlebenswahrscheinlichkeit')\n",
    "plt.ylabel('FamilySizeBinned')\n",
    "\n",
    "# Grafik speichern\n",
    "plt.savefig('../../figures/svg/Bar_FamilySizeBinned_1.svg', format='svg', dpi=1200, transparent=True)"
   ]
  },
  {
   "cell_type": "code",
   "execution_count": 21,
   "metadata": {},
   "outputs": [
    {
     "data": {
      "image/png": "[encoded data removed]",
      "text/plain": [
       "<Figure size 400x200 with 1 Axes>"
      ]
     },
     "metadata": {},
     "output_type": "display_data"
    }
   ],
   "source": [
    "# (4b) Barplot zu FamilySizeBinned: Absolute Häufigkeiten\n",
    "sns.catplot(data=df_train, y='FamilySizeBinned', kind='count', palette='Blues', height=2, aspect=2, hue='FamilySizeBinned', legend=False)\n",
    "\n",
    "# Achsen beschriften\n",
    "plt.xlabel('Häufigkeit')\n",
    "plt.ylabel('FamilySizeBinned')\n",
    "\n",
    "# Grafik speichern\n",
    "plt.savefig('../../figures/svg/Bar_FamilySizeBinned_2.svg', format='svg', dpi=1200, transparent=True)"
   ]
  },
  {
   "cell_type": "code",
   "execution_count": 22,
   "metadata": {},
   "outputs": [
    {
     "data": {
      "text/html": [
       "<div>\n",
       "<style scoped>\n",
       "    .dataframe tbody tr th:only-of-type {\n",
       "        vertical-align: middle;\n",
       "    }\n",
       "\n",
       "    .dataframe tbody tr th {\n",
       "        vertical-align: top;\n",
       "    }\n",
       "\n",
       "    .dataframe thead th {\n",
       "        text-align: right;\n",
       "    }\n",
       "</style>\n",
       "<table border=\"1\" class=\"dataframe\">\n",
       "  <thead>\n",
       "    <tr style=\"text-align: right;\">\n",
       "      <th></th>\n",
       "      <th>FamilySizeBinned</th>\n",
       "      <th>Survived</th>\n",
       "    </tr>\n",
       "  </thead>\n",
       "  <tbody>\n",
       "    <tr>\n",
       "      <th>0</th>\n",
       "      <td>No</td>\n",
       "      <td>0.303538</td>\n",
       "    </tr>\n",
       "    <tr>\n",
       "      <th>1</th>\n",
       "      <td>Small</td>\n",
       "      <td>0.578767</td>\n",
       "    </tr>\n",
       "    <tr>\n",
       "      <th>2</th>\n",
       "      <td>Large</td>\n",
       "      <td>0.16129</td>\n",
       "    </tr>\n",
       "  </tbody>\n",
       "</table>\n",
       "</div>"
      ],
      "text/plain": [
       "  FamilySizeBinned  Survived\n",
       "0               No  0.303538\n",
       "1            Small  0.578767\n",
       "2            Large   0.16129"
      ]
     },
     "metadata": {},
     "output_type": "display_data"
    }
   ],
   "source": [
    "# (4c) Tabelle zu FamilySizeBinned: Überlebenswahrscheinlichkeit\n",
    "probs = df_train.groupby(['FamilySizeBinned'], as_index=False, observed=False)['Survived'].mean()\n",
    "display(probs)"
   ]
  },
  {
   "cell_type": "code",
   "execution_count": 23,
   "metadata": {},
   "outputs": [],
   "source": [
    "# (5) Daten vorbereiten: FareBinned (Sortierung !)\n",
    "labels = ['Low', 'Medium', 'High', 'VeryHigh']\n",
    "df_train['FareBinned'] = pd.Categorical(df_train['FareBinned'], labels)"
   ]
  },
  {
   "cell_type": "code",
   "execution_count": 24,
   "metadata": {},
   "outputs": [
    {
     "data": {
      "image/png": "[encoded data removed]",
      "text/plain": [
       "<Figure size 400.4x220 with 1 Axes>"
      ]
     },
     "metadata": {},
     "output_type": "display_data"
    }
   ],
   "source": [
    "# (5a) Barplot zu FareBinned: Überlebenswahrscheinlichkeit\n",
    "sns.catplot(data=df_train, x='Survived', y='FareBinned', kind='bar', palette='Blues', height=2.2, aspect=1.82, orient='h', hue='FareBinned', legend=False)\n",
    "\n",
    "# Achsen beschriften\n",
    "plt.xlabel('Überlebenswahrscheinlichkeit')\n",
    "plt.ylabel('FareBinned')\n",
    "\n",
    "# Grafik speichern\n",
    "plt.savefig('../../figures/svg/Bar_FareBinned_1.svg', format='svg', dpi=1200, transparent=True)"
   ]
  },
  {
   "cell_type": "code",
   "execution_count": 25,
   "metadata": {},
   "outputs": [
    {
     "data": {
      "image/png": "[encoded data removed]",
      "text/plain": [
       "<Figure size 400.4x220 with 1 Axes>"
      ]
     },
     "metadata": {},
     "output_type": "display_data"
    }
   ],
   "source": [
    "# (5b) Barplot zu FareBinned: Absolute Häufigkeiten\n",
    "sns.catplot(data=df_train, y='FareBinned', kind='count', palette='Blues', height=2.2, aspect=1.82, hue='FareBinned', legend=False)\n",
    "\n",
    "# Achsen beschriften\n",
    "plt.xlabel('Häufigkeit')\n",
    "plt.ylabel('FareBinned')\n",
    "\n",
    "# Grafik speichern\n",
    "plt.savefig('../../figures/svg/Bar_FareBinned_2.svg', format='svg', dpi=1200, transparent=True)"
   ]
  },
  {
   "cell_type": "code",
   "execution_count": 26,
   "metadata": {},
   "outputs": [
    {
     "data": {
      "text/html": [
       "<div>\n",
       "<style scoped>\n",
       "    .dataframe tbody tr th:only-of-type {\n",
       "        vertical-align: middle;\n",
       "    }\n",
       "\n",
       "    .dataframe tbody tr th {\n",
       "        vertical-align: top;\n",
       "    }\n",
       "\n",
       "    .dataframe thead th {\n",
       "        text-align: right;\n",
       "    }\n",
       "</style>\n",
       "<table border=\"1\" class=\"dataframe\">\n",
       "  <thead>\n",
       "    <tr style=\"text-align: right;\">\n",
       "      <th></th>\n",
       "      <th>FareBinned</th>\n",
       "      <th>Survived</th>\n",
       "    </tr>\n",
       "  </thead>\n",
       "  <tbody>\n",
       "    <tr>\n",
       "      <th>0</th>\n",
       "      <td>Low</td>\n",
       "      <td>0.215768</td>\n",
       "    </tr>\n",
       "    <tr>\n",
       "      <th>1</th>\n",
       "      <td>Medium</td>\n",
       "      <td>0.308642</td>\n",
       "    </tr>\n",
       "    <tr>\n",
       "      <th>2</th>\n",
       "      <td>High</td>\n",
       "      <td>0.454082</td>\n",
       "    </tr>\n",
       "    <tr>\n",
       "      <th>3</th>\n",
       "      <td>VeryHigh</td>\n",
       "      <td>0.597156</td>\n",
       "    </tr>\n",
       "  </tbody>\n",
       "</table>\n",
       "</div>"
      ],
      "text/plain": [
       "  FareBinned  Survived\n",
       "0        Low  0.215768\n",
       "1     Medium  0.308642\n",
       "2       High  0.454082\n",
       "3   VeryHigh  0.597156"
      ]
     },
     "metadata": {},
     "output_type": "display_data"
    }
   ],
   "source": [
    "# (5c) Tabelle zu FareBinned: Überlebenswahrscheinlichkeit\n",
    "probs = df_train.groupby(['FareBinned'], as_index=False, observed=False)['Survived'].mean()\n",
    "display(probs)"
   ]
  }
 ],
 "metadata": {
  "kernelspec": {
   "display_name": "Python 3 (ipykernel)",
   "language": "python",
   "name": "python3"
  },
  "language_info": {
   "codemirror_mode": {
    "name": "ipython",
    "version": 3
   },
   "file_extension": ".py",
   "mimetype": "text/x-python",
   "name": "python",
   "nbconvert_exporter": "python",
   "pygments_lexer": "ipython3",
   "version": "3.12.4"
  }
 },
 "nbformat": 4,
 "nbformat_minor": 4
}
