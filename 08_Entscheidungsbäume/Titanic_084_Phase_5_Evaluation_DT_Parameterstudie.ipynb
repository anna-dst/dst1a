{
 "cells": [
  {
   "cell_type": "markdown",
   "metadata": {},
   "source": [
    "## Phase 5 (Evaluation): Decision Tree -- Parameterstudie"
   ]
  },
  {
   "cell_type": "markdown",
   "metadata": {},
   "source": [
    "* Autorin: Anna (i3-Versicherung)\n",
    "* Webseite: [Data Science Training - Kapitel 8](https://data-science.training/kapitel-8/)\n",
    "* Datum: 23.03.2023"
   ]
  },
  {
   "cell_type": "markdown",
   "metadata": {},
   "source": [
    "Versionen 5 opt 1 und 2"
   ]
  },
  {
   "cell_type": "code",
   "execution_count": 4,
   "metadata": {},
   "outputs": [],
   "source": [
    "# Pandas Paket (Package) importieren\n",
    "#  Datenstrukturen und Datenanalyse, I/O\n",
    "#  https://pandas.pydata.org/pandas-docs/stable/\n",
    "import pandas as pd\n",
    "# Pickle Paket (Package) importieren\n",
    "#  Objekte serialisieren\n",
    "#  https://docs.python.org/3/library/pickle.html\n",
    "import pickle as pk"
   ]
  },
  {
   "cell_type": "code",
   "execution_count": 5,
   "metadata": {},
   "outputs": [],
   "source": [
    "# Datenversion festlegen: 5\n",
    "version  = 5\n",
    "# Modell-Abkürzung festlegen: dt = Decision Tree\n",
    "shortcut = 'dt'\n",
    "# Parameterstudie festlegen: 1 oder 2\n",
    "attempt  = 2"
   ]
  },
  {
   "cell_type": "code",
   "execution_count": 6,
   "metadata": {},
   "outputs": [],
   "source": [
    "# Testdaten als Pandas Data Frame (df) aus Excel-Datei laden\n",
    "#  (KNIME: \"Excel Reader\")\n",
    "filename = '../../data/titanic/new/test_v' + str(version) + '.xlsx'\n",
    "df_test  = pd.read_excel(filename)"
   ]
  },
  {
   "cell_type": "code",
   "execution_count": 7,
   "metadata": {},
   "outputs": [],
   "source": [
    "# Modell laden\n",
    "#  (KNIME: \"PMML Reader\")\n",
    "filename = '../../models/titanic/new/' + shortcut + '_v' + str(version) + '_opt_' + str(attempt)\n",
    "model = pk.load(open(filename, 'rb'))"
   ]
  },
  {
   "cell_type": "code",
   "execution_count": 8,
   "metadata": {},
   "outputs": [],
   "source": [
    "# Testdaten: Daten ohne PassengerId extrahieren\n",
    "X_test = df_test.iloc[:,1:].values"
   ]
  },
  {
   "cell_type": "code",
   "execution_count": 9,
   "metadata": {},
   "outputs": [],
   "source": [
    "# Prognosen und Wahrscheinlichkeiten bestimmen\n",
    "#  (KNIME: \"XYZ Predictor\")\n",
    "y_pred = model.predict(X_test)\n",
    "y_prob = model.predict_proba(X_test)"
   ]
  },
  {
   "cell_type": "code",
   "execution_count": 10,
   "metadata": {},
   "outputs": [],
   "source": [
    "# Ergebnisse in das Data Frame kopieren\n",
    "df_test['Survived'] = y_pred\n",
    "df_test['ProbN']    = y_prob[:,0]\n",
    "df_test['ProbP']    = y_prob[:,1]"
   ]
  },
  {
   "cell_type": "code",
   "execution_count": 11,
   "metadata": {},
   "outputs": [],
   "source": [
    "# Relevante Ergebnisse filtern\n",
    "#  (KNIME: \"Column Filter\")\n",
    "df_res = df_test.filter(['PassengerId', 'Survived', 'ProbN', 'ProbP'])"
   ]
  },
  {
   "cell_type": "code",
   "execution_count": 12,
   "metadata": {},
   "outputs": [],
   "source": [
    "# Ergebnisse als CSV-Datei speichern\n",
    "#  (KNIME: \"CSV Writer\")\n",
    "filename = '../../data/titanic/submission/' + shortcut + '_v' + str(version) + '_opt_' + str(attempt) + '.csv'\n",
    "df_res.to_csv(filename, index=False)"
   ]
  },
  {
   "cell_type": "code",
   "execution_count": 13,
   "metadata": {},
   "outputs": [],
   "source": [
    "# Ergebnis-Datei auf Webseite hochladen\n",
    "# https://data-science.training/upload/"
   ]
  },
  {
   "cell_type": "markdown",
   "metadata": {},
   "source": [
    "### Ergebnisse (Gütemaße)\n",
    "\n",
    "#### Version 5 (Float) Optimiertes Modell 1\n",
    "\n",
    "* Genauigkeit \t(Accuracy) \t: \t77,27 \t%\n",
    "* Spezifität \t(Specificity) \t: \t81,92 \t%\n",
    "* Sensitivität \t(Sensitivity) \t: \t69,62 \t%\n",
    "* Präzision \t(Precision) \t: \t70,06 \t%\n",
    "* Recall \t(Recall) \t: \t69,62 \t%\n",
    "* F-Maß \t(F1 Score) \t: \t69,84 \t%\n",
    "* AURC \t(AURC) \t: \t81,39 \t%\n",
    "* LogLoss \t(LogLoss) \t: \t0,814 \t \n",
    "\n",
    "#### Version 5 (Float) Optimiertes Modell 2\n",
    "\n",
    "* Genauigkeit \t(Accuracy) \t: \t77,51 \t%\n",
    "* Spezifität \t(Specificity) \t: \t83,08 \t%\n",
    "* Sensitivität \t(Sensitivity) \t: \t68,35 \t%\n",
    "* Präzision \t(Precision) \t: \t71,05 \t%\n",
    "* Recall \t(Recall) \t: \t68,35 \t%\n",
    "* F-Maß \t(F1 Score) \t: \t69,68 \t%\n",
    "* AURC \t(AURC) \t: \t81,54 \t%\n",
    "* LogLoss \t(LogLoss) \t: \t0,652 \t \n"
   ]
  }
 ],
 "metadata": {
  "kernelspec": {
   "display_name": "Python 3 (ipykernel)",
   "language": "python",
   "name": "python3"
  },
  "language_info": {
   "codemirror_mode": {
    "name": "ipython",
    "version": 3
   },
   "file_extension": ".py",
   "mimetype": "text/x-python",
   "name": "python",
   "nbconvert_exporter": "python",
   "pygments_lexer": "ipython3",
   "version": "3.12.4"
  }
 },
 "nbformat": 4,
 "nbformat_minor": 4
}
