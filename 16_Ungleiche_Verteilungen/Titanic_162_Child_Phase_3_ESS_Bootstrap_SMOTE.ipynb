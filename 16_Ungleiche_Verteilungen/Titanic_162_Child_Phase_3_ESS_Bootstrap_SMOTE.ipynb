{
 "cells": [
  {
   "cell_type": "markdown",
   "id": "78b06bb7",
   "metadata": {},
   "source": [
    "## Child Phase 3 (Data Preparation): Equal Size Sampling, Bootstrap, SMOTE "
   ]
  },
  {
   "cell_type": "markdown",
   "id": "30c62f85",
   "metadata": {},
   "source": [
    "* Autorin: Anna (i3-Versicherung)\n",
    "* Webseite: [Data Science Training - Kapitel 16](https://data-science.training/kapitel-16/)\n",
    "* Datum: 23.03.2023"
   ]
  },
  {
   "cell_type": "markdown",
   "id": "d33a78ac",
   "metadata": {},
   "source": [
    "Wir erstellen neue Datenversionen, um der ungleichen Verteilung entgegenzuwirken.\n",
    "\n",
    "* Version 4: Equal Size Sampling bzw. Random Under Sampling\n",
    "* Version 5: Bootstrap bzw. Random Over Sampling\n",
    "* Version 6: SMOTE"
   ]
  },
  {
   "cell_type": "code",
   "execution_count": 4,
   "id": "f5e30046",
   "metadata": {},
   "outputs": [],
   "source": [
    "# imbalanced-learn (0.10.1 => 0.11.0)\n",
    "#!pip install --upgrade imbalanced-learn\n",
    "# ...\n",
    "# Successfully installed imbalanced-learn-0.11.0"
   ]
  },
  {
   "cell_type": "code",
   "execution_count": 5,
   "id": "3441e37b",
   "metadata": {},
   "outputs": [],
   "source": [
    "# Pandas Paket (Package) importieren\n",
    "#  Datenstrukturen und Datenanalyse, I/O\n",
    "#  https://pandas.pydata.org/pandas-docs/stable/\n",
    "import pandas as pd\n",
    "# NumPy Paket (Package) importieren\n",
    "#  Mehrdimensionale Datenstrukturen (Vektoren, Matrizen, Tensoren, Arrays), Lineare Algebra\n",
    "#  https://numpy.org/doc/\n",
    "import numpy as np\n",
    "# Klassen der imbalanced-learn Module importieren\n",
    "#  Umgang mit ungleichen Datenverteilungen\n",
    "#  https://imbalanced-learn.org/stable/introduction.html\n",
    "from imblearn.under_sampling import RandomUnderSampler\n",
    "from imblearn.over_sampling import RandomOverSampler, SMOTE"
   ]
  },
  {
   "cell_type": "code",
   "execution_count": 6,
   "id": "f196f167",
   "metadata": {},
   "outputs": [],
   "source": [
    "# Training-, Test-, und Anwendungsdaten als Pandas Data Frame (df) aus Excel-Dateien laden\n",
    "#  (KNIME: \"Excel Reader\")\n",
    "df_train = pd.read_excel('../../data/titanic/age/training_v3.xlsx')\n",
    "df_test  = pd.read_excel('../../data/titanic/age/test_v3.xlsx')\n",
    "df_app   = pd.read_excel('../../data/titanic/age/application_v3.xlsx')"
   ]
  },
  {
   "cell_type": "code",
   "execution_count": 7,
   "id": "405e12e9",
   "metadata": {},
   "outputs": [
    {
     "name": "stdout",
     "output_type": "stream",
     "text": [
      "Child\n",
      "0    762\n",
      "1     74\n",
      "Name: count, dtype: int64\n"
     ]
    }
   ],
   "source": [
    "count_class = df_train['Child'].value_counts()\n",
    "print(count_class)"
   ]
  },
  {
   "cell_type": "code",
   "execution_count": 8,
   "id": "51af02ea",
   "metadata": {},
   "outputs": [
    {
     "name": "stdout",
     "output_type": "stream",
     "text": [
      "<class 'pandas.core.frame.DataFrame'>\n",
      "RangeIndex: 836 entries, 0 to 835\n",
      "Data columns (total 16 columns):\n",
      " #   Column            Non-Null Count  Dtype  \n",
      "---  ------            --------------  -----  \n",
      " 0   SibSp             836 non-null    int64  \n",
      " 1   Parch             836 non-null    int64  \n",
      " 2   Fare              836 non-null    float64\n",
      " 3   TicketCount       836 non-null    int64  \n",
      " 4   LogFare           836 non-null    float64\n",
      " 5   FirstnameMeanAge  836 non-null    float64\n",
      " 6   Pclass_2          836 non-null    int64  \n",
      " 7   Pclass_3          836 non-null    int64  \n",
      " 8   Sex_male          836 non-null    int64  \n",
      " 9   Embarked_Q        836 non-null    int64  \n",
      " 10  Embarked_S        836 non-null    int64  \n",
      " 11  Title_Master      836 non-null    int64  \n",
      " 12  Title_Miss        836 non-null    int64  \n",
      " 13  Title_Mrs         836 non-null    int64  \n",
      " 14  Title_Rare        836 non-null    int64  \n",
      " 15  Child             836 non-null    int64  \n",
      "dtypes: float64(3), int64(13)\n",
      "memory usage: 104.6 KB\n"
     ]
    }
   ],
   "source": [
    "# Informationen anzeigen\n",
    "df_train.info()"
   ]
  },
  {
   "cell_type": "code",
   "execution_count": 9,
   "id": "3f5f0d24",
   "metadata": {},
   "outputs": [],
   "source": [
    "# Beschreibende Attribute extrahieren (ohne Child)\n",
    "X = df_train.iloc[:,0:15].values\n",
    "# Klassenattribut (Child) extrahieren\n",
    "y = df_train.iloc[:,15].values"
   ]
  },
  {
   "cell_type": "code",
   "execution_count": 10,
   "id": "26cba204",
   "metadata": {},
   "outputs": [],
   "source": [
    "#display(X)\n",
    "#display(y)"
   ]
  },
  {
   "cell_type": "code",
   "execution_count": 11,
   "id": "33bcd1ec",
   "metadata": {},
   "outputs": [
    {
     "name": "stdout",
     "output_type": "stream",
     "text": [
      "Child\n",
      "0    74\n",
      "1    74\n",
      "Name: count, dtype: int64\n"
     ]
    }
   ],
   "source": [
    "# v4: Random Under Sampling\n",
    "#  (KNIME: \"Equal Size Sampling\")\n",
    "#\n",
    "rus = RandomUnderSampler(random_state=0)\n",
    "X_res, y_res = rus.fit_resample(X, y)\n",
    "#\n",
    "Xy = np.append(X_res, y_res.reshape(-1,1), axis=1)\n",
    "df_train_v4 = pd.DataFrame(data=Xy, columns=df_train.columns)\n",
    "#\n",
    "df_train_v4['Child'] = df_train_v4['Child'].astype('int') \n",
    "#display(df_train_v4)\n",
    "#\n",
    "count_class = df_train_v4['Child'].value_counts()\n",
    "print(count_class)"
   ]
  },
  {
   "cell_type": "code",
   "execution_count": 12,
   "id": "ac9bd54c",
   "metadata": {},
   "outputs": [
    {
     "name": "stdout",
     "output_type": "stream",
     "text": [
      "Child\n",
      "0    762\n",
      "1    762\n",
      "Name: count, dtype: int64\n"
     ]
    }
   ],
   "source": [
    "# v5: Random Over Sampler\n",
    "#  (KNIME: \"Boostrap Sampling\")\n",
    "#\n",
    "ros = RandomOverSampler(random_state=0)\n",
    "X_res, y_res = ros.fit_resample(X, y)\n",
    "#\n",
    "Xy = np.append(X_res, y_res.reshape(-1,1), axis=1)\n",
    "df_train_v5 = pd.DataFrame(data=Xy, columns=df_train.columns)\n",
    "#\n",
    "df_train_v5['Child'] = df_train_v5['Child'].astype('int')\n",
    "#display(df_train_v5)\n",
    "#\n",
    "count_class = df_train_v5['Child'].value_counts()\n",
    "print(count_class)"
   ]
  },
  {
   "cell_type": "code",
   "execution_count": 13,
   "id": "80e7f9d0",
   "metadata": {},
   "outputs": [
    {
     "name": "stdout",
     "output_type": "stream",
     "text": [
      "Child\n",
      "0    762\n",
      "1    762\n",
      "Name: count, dtype: int64\n"
     ]
    }
   ],
   "source": [
    "# v6: SMOTE\n",
    "#  (KNIME: \"SMOTE\")\n",
    "#\n",
    "sm = SMOTE(random_state=0)\n",
    "X_res, y_res = sm.fit_resample(X, y)\n",
    "#\n",
    "Xy = np.append(X_res, y_res.reshape(-1,1), axis=1)\n",
    "df_train_v6 = pd.DataFrame(data=Xy, columns=df_train.columns)\n",
    "#\n",
    "df_train_v6['Child'] = df_train_v6['Child'].astype('int')\n",
    "#display(df_train_v6)\n",
    "#\n",
    "count_class = df_train_v6['Child'].value_counts()\n",
    "print(count_class)"
   ]
  },
  {
   "cell_type": "code",
   "execution_count": 14,
   "id": "8c601984",
   "metadata": {},
   "outputs": [],
   "source": [
    "# Daten als Excel-Dateien speichern\n",
    "#  (KNIME: \"Excel Writer\")\n",
    "# v4\n",
    "df_train_v4.to_excel('../../data/titanic/age/training_v4.xlsx', index=False)\n",
    "df_test.to_excel('../../data/titanic/age/test_v4.xlsx', index=False)\n",
    "df_app.to_excel('../../data/titanic/age/application_v4.xlsx', index=False)\n",
    "# v5\n",
    "df_train_v5.to_excel('../../data/titanic/age/training_v5.xlsx', index=False)\n",
    "df_test.to_excel('../../data/titanic/age/test_v5.xlsx', index=False)\n",
    "df_app.to_excel('../../data/titanic/age/application_v5.xlsx', index=False)\n",
    "# v6\n",
    "df_train_v6.to_excel('../../data/titanic/age/training_v6.xlsx', index=False)\n",
    "df_test.to_excel('../../data/titanic/age/test_v6.xlsx', index=False)\n",
    "df_app.to_excel('../../data/titanic/age/application_v6.xlsx', index=False)"
   ]
  }
 ],
 "metadata": {
  "kernelspec": {
   "display_name": "Python 3 (ipykernel)",
   "language": "python",
   "name": "python3"
  },
  "language_info": {
   "codemirror_mode": {
    "name": "ipython",
    "version": 3
   },
   "file_extension": ".py",
   "mimetype": "text/x-python",
   "name": "python",
   "nbconvert_exporter": "python",
   "pygments_lexer": "ipython3",
   "version": "3.12.4"
  }
 },
 "nbformat": 4,
 "nbformat_minor": 5
}
