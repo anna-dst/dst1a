{
 "cells": [
  {
   "cell_type": "markdown",
   "metadata": {},
   "source": [
    "## Phase 2 (Data Understanding): Korrelationsanalyse"
   ]
  },
  {
   "cell_type": "markdown",
   "metadata": {},
   "source": [
    "* Autorin: Anna (i3-Versicherung)\n",
    "* Webseite: [Data Science Training - Kapitel 2](https://data-science.training/kapitel-2/)\n",
    "* Datum: 23.03.2023"
   ]
  },
  {
   "cell_type": "markdown",
   "metadata": {},
   "source": [
    "Wir analysieren nun die numerischen Attribute und betrachten paarweise lineare Korrelationen zwischen diesen."
   ]
  },
  {
   "cell_type": "code",
   "execution_count": 4,
   "metadata": {},
   "outputs": [],
   "source": [
    "# Pandas Paket (Package) importieren\n",
    "#  Datenstrukturen und Datenanalyse, I/O\n",
    "#  https://pandas.pydata.org/pandas-docs/stable/\n",
    "import pandas as pd\n",
    "# NumPy Paket (Package) importieren\n",
    "#  Mehrdimensionale Datenstrukturen (Vektoren, Matrizen, Tensoren, Arrays), Lineare Algebra\n",
    "#  https://numpy.org/doc/\n",
    "import numpy as np\n",
    "# Pyplot Modul der Matplot Bibliothek (Library) importieren\n",
    "#  Mathematische grafische Daten-Visualisierungen\n",
    "#  https://matplotlib.org/contents.html\n",
    "import matplotlib.pyplot as plt"
   ]
  },
  {
   "cell_type": "code",
   "execution_count": 5,
   "metadata": {},
   "outputs": [],
   "source": [
    "# Trainings- und Testdaten als Pandas Data Frame (df) aus CSV-Dateien laden\n",
    "#  (KNIME: \"CSV Reader\")\n",
    "df_train = pd.read_csv('../../data/titanic/original/train.csv')\n",
    "df_test  = pd.read_csv('../../data/titanic/original/test.csv')"
   ]
  },
  {
   "cell_type": "code",
   "execution_count": 6,
   "metadata": {},
   "outputs": [],
   "source": [
    "# Datentypen automatisch konvertieren\n",
    "df_train = df_train.convert_dtypes()\n",
    "df_test  = df_test.convert_dtypes()"
   ]
  },
  {
   "cell_type": "code",
   "execution_count": 7,
   "metadata": {},
   "outputs": [],
   "source": [
    "# Korrelationsmatrix mit den linearen Korrelationskoeffizienten nach Pearson und Bravais\n",
    "#  (KNIME: \"Linear Correlation\")\n",
    "def dst_correlation_matrix(df):\n",
    "    # Nur numerische Attribute auswählen\n",
    "    df1 = df.select_dtypes(include=[np.number])\n",
    "    # Korrelationsmatrix berechnen\n",
    "    corr_matrix = df1.corr(method='pearson')\n",
    "    # Rückgabe\n",
    "    return corr_matrix"
   ]
  },
  {
   "cell_type": "code",
   "execution_count": 8,
   "metadata": {},
   "outputs": [],
   "source": [
    "# Heatmap mit Korrelationskoeffizienten anzeigen\n",
    "#  (KNIME: \"Linear Correlation\")\n",
    "def dst_correlation_heatmap(corr_matrix):\n",
    "    # Labels\n",
    "    labels = corr_matrix.keys()\n",
    "    # Größe der Grafik festlegen\n",
    "    plt.figure(figsize=(8,6))\n",
    "    # Korrelationsmaxtrix mit Farbpalette \"Blues\" anzeigen\n",
    "    plt.matshow(corr_matrix, cmap='Blues', fignum=1, aspect='auto')\n",
    "    # Ticks mit Beschriftungen, X-Labels um 45 Grad gedreht \n",
    "    plt.xticks(range(len(labels)), labels, rotation=45)\n",
    "    plt.yticks(range(len(labels)), labels)\n",
    "    # Farbskala anzeigen\n",
    "    plt.colorbar()\n",
    "    # Grafik ausgeben\n",
    "    plt.show()"
   ]
  },
  {
   "cell_type": "code",
   "execution_count": 9,
   "metadata": {},
   "outputs": [],
   "source": [
    "# (Starke) Korrelationskoeffizienten berechnen\n",
    "#  (KNIME: \"Linear Correlation\", \"Correlation Filter\")\n",
    "def dst_correlation_measures_filtered(corr_matrix, treshold=0.75):\n",
    "    # Absolute Werte\n",
    "    corr_matrix = corr_matrix.abs()\n",
    "    # Diagonale löschen (Nullwerte)\n",
    "    corr_matrix[corr_matrix == 1] = 0\n",
    "    # Dreispaltige Tabelle erstellen: Attribut 1, Attribut 2, Koeffizient\n",
    "    corr_measures = corr_matrix.unstack()\n",
    "    # Duplikate entfernen\n",
    "    corr_measures = corr_measures.drop_duplicates()\n",
    "    # Filer anwenden\n",
    "    corr_measures = corr_measures[corr_measures > treshold]\n",
    "    # Absteigende Sortierung\n",
    "    corr_measures = corr_measures.sort_values(ascending=False)\n",
    "    # Kleine Matrix erstellen\n",
    "    #corr_measures = corr_measures.unstack()\n",
    "    # Rückgabe\n",
    "    return corr_measures"
   ]
  },
  {
   "cell_type": "code",
   "execution_count": 10,
   "metadata": {},
   "outputs": [
    {
     "data": {
      "text/html": [
       "<div>\n",
       "<style scoped>\n",
       "    .dataframe tbody tr th:only-of-type {\n",
       "        vertical-align: middle;\n",
       "    }\n",
       "\n",
       "    .dataframe tbody tr th {\n",
       "        vertical-align: top;\n",
       "    }\n",
       "\n",
       "    .dataframe thead th {\n",
       "        text-align: right;\n",
       "    }\n",
       "</style>\n",
       "<table border=\"1\" class=\"dataframe\">\n",
       "  <thead>\n",
       "    <tr style=\"text-align: right;\">\n",
       "      <th></th>\n",
       "      <th>PassengerId</th>\n",
       "      <th>Survived</th>\n",
       "      <th>Pclass</th>\n",
       "      <th>Age</th>\n",
       "      <th>SibSp</th>\n",
       "      <th>Parch</th>\n",
       "      <th>Fare</th>\n",
       "    </tr>\n",
       "  </thead>\n",
       "  <tbody>\n",
       "    <tr>\n",
       "      <th>PassengerId</th>\n",
       "      <td>1.000000</td>\n",
       "      <td>-0.005007</td>\n",
       "      <td>-0.035144</td>\n",
       "      <td>0.036847</td>\n",
       "      <td>-0.057527</td>\n",
       "      <td>-0.001652</td>\n",
       "      <td>0.012658</td>\n",
       "    </tr>\n",
       "    <tr>\n",
       "      <th>Survived</th>\n",
       "      <td>-0.005007</td>\n",
       "      <td>1.000000</td>\n",
       "      <td>-0.338481</td>\n",
       "      <td>-0.077221</td>\n",
       "      <td>-0.035322</td>\n",
       "      <td>0.081629</td>\n",
       "      <td>0.257307</td>\n",
       "    </tr>\n",
       "    <tr>\n",
       "      <th>Pclass</th>\n",
       "      <td>-0.035144</td>\n",
       "      <td>-0.338481</td>\n",
       "      <td>1.000000</td>\n",
       "      <td>-0.369226</td>\n",
       "      <td>0.083081</td>\n",
       "      <td>0.018443</td>\n",
       "      <td>-0.549500</td>\n",
       "    </tr>\n",
       "    <tr>\n",
       "      <th>Age</th>\n",
       "      <td>0.036847</td>\n",
       "      <td>-0.077221</td>\n",
       "      <td>-0.369226</td>\n",
       "      <td>1.000000</td>\n",
       "      <td>-0.308247</td>\n",
       "      <td>-0.189119</td>\n",
       "      <td>0.096067</td>\n",
       "    </tr>\n",
       "    <tr>\n",
       "      <th>SibSp</th>\n",
       "      <td>-0.057527</td>\n",
       "      <td>-0.035322</td>\n",
       "      <td>0.083081</td>\n",
       "      <td>-0.308247</td>\n",
       "      <td>1.000000</td>\n",
       "      <td>0.414838</td>\n",
       "      <td>0.159651</td>\n",
       "    </tr>\n",
       "    <tr>\n",
       "      <th>Parch</th>\n",
       "      <td>-0.001652</td>\n",
       "      <td>0.081629</td>\n",
       "      <td>0.018443</td>\n",
       "      <td>-0.189119</td>\n",
       "      <td>0.414838</td>\n",
       "      <td>1.000000</td>\n",
       "      <td>0.216225</td>\n",
       "    </tr>\n",
       "    <tr>\n",
       "      <th>Fare</th>\n",
       "      <td>0.012658</td>\n",
       "      <td>0.257307</td>\n",
       "      <td>-0.549500</td>\n",
       "      <td>0.096067</td>\n",
       "      <td>0.159651</td>\n",
       "      <td>0.216225</td>\n",
       "      <td>1.000000</td>\n",
       "    </tr>\n",
       "  </tbody>\n",
       "</table>\n",
       "</div>"
      ],
      "text/plain": [
       "             PassengerId  Survived    Pclass       Age     SibSp     Parch  \\\n",
       "PassengerId     1.000000 -0.005007 -0.035144  0.036847 -0.057527 -0.001652   \n",
       "Survived       -0.005007  1.000000 -0.338481 -0.077221 -0.035322  0.081629   \n",
       "Pclass         -0.035144 -0.338481  1.000000 -0.369226  0.083081  0.018443   \n",
       "Age             0.036847 -0.077221 -0.369226  1.000000 -0.308247 -0.189119   \n",
       "SibSp          -0.057527 -0.035322  0.083081 -0.308247  1.000000  0.414838   \n",
       "Parch          -0.001652  0.081629  0.018443 -0.189119  0.414838  1.000000   \n",
       "Fare            0.012658  0.257307 -0.549500  0.096067  0.159651  0.216225   \n",
       "\n",
       "                 Fare  \n",
       "PassengerId  0.012658  \n",
       "Survived     0.257307  \n",
       "Pclass      -0.549500  \n",
       "Age          0.096067  \n",
       "SibSp        0.159651  \n",
       "Parch        0.216225  \n",
       "Fare         1.000000  "
      ]
     },
     "metadata": {},
     "output_type": "display_data"
    },
    {
     "data": {
      "image/png": "[encoded data removed]",
      "text/plain": [
       "<Figure size 800x600 with 2 Axes>"
      ]
     },
     "metadata": {},
     "output_type": "display_data"
    },
    {
     "name": "stdout",
     "output_type": "stream",
     "text": [
      "(Starke) Korrelationen (ohne Vorzeichen)\n"
     ]
    },
    {
     "data": {
      "text/plain": [
       "Pclass  Fare    0.5495\n",
       "dtype: float64"
      ]
     },
     "metadata": {},
     "output_type": "display_data"
    }
   ],
   "source": [
    "# Korrelationsmatrix der Trainingsdaten berechnen und anzeigen\n",
    "corr_matrix = dst_correlation_matrix(df_train)\n",
    "display(corr_matrix)\n",
    "# Korrelationsheatmap der Trainingsdaten anzeigen\n",
    "dst_correlation_heatmap(corr_matrix)\n",
    "# (Starke) Korrelationskoeffizienten berechnen und anzeigen\n",
    "print('(Starke) Korrelationen (ohne Vorzeichen)')\n",
    "corr_measures = dst_correlation_measures_filtered(corr_matrix, 0.5)\n",
    "display(corr_measures)"
   ]
  },
  {
   "cell_type": "markdown",
   "metadata": {},
   "source": [
    "### Ergebnisse der Korrelationsanalyse der 891 Trainingsdatensätze\n",
    "\n",
    "Zwischen den Attributen gibt es keine sehr starken Korrelationen.\n",
    "\n",
    "Korrelationen mit dem Klassenattribut Survived:\n",
    "* Pclass zeigt die höchste Korrelation: -0,338\n",
    "   (Negative Korrelation: Passagiere der ersten Klasse haben höhere Überlebenswahrscheinlichkeiten als die der zweiten oder dritten Klasse.)\n",
    "* Fare zeigt die zweithöchste Korrelation: +0,257\n",
    "   (Positive Korrelation: Mit steigendem Ticketpreis steigt auch die Überlebenswahrscheinlichkeit.)\n",
    "\n",
    "Korrelationen der anderen Attribute untereinander:\n",
    "* Pclass und Fare: -0,549\n",
    "   (Je besser die Klasse, desto teurer das Ticket. Die erste Klasse ist teurer als die zweite und dritte Klasse.)\n",
    "* Sibsp und Parch: +0,415\n",
    "   (Wenn bereits Ehepartner und/oder Geschwister mitreisen, dann sind oft auch Eltern und/oder Kinder mit dabei - und umgekehrt.)\n",
    "* Pclass und Age: -0,369\n",
    "   (Je älter der Passagier, desto besser die Klasse. Ältere Passagiere sind vermögender und/oder möchten komfortabler reisen.)"
   ]
  },
  {
   "cell_type": "code",
   "execution_count": 12,
   "metadata": {},
   "outputs": [
    {
     "data": {
      "text/html": [
       "<div>\n",
       "<style scoped>\n",
       "    .dataframe tbody tr th:only-of-type {\n",
       "        vertical-align: middle;\n",
       "    }\n",
       "\n",
       "    .dataframe tbody tr th {\n",
       "        vertical-align: top;\n",
       "    }\n",
       "\n",
       "    .dataframe thead th {\n",
       "        text-align: right;\n",
       "    }\n",
       "</style>\n",
       "<table border=\"1\" class=\"dataframe\">\n",
       "  <thead>\n",
       "    <tr style=\"text-align: right;\">\n",
       "      <th></th>\n",
       "      <th>PassengerId</th>\n",
       "      <th>Pclass</th>\n",
       "      <th>Age</th>\n",
       "      <th>SibSp</th>\n",
       "      <th>Parch</th>\n",
       "      <th>Fare</th>\n",
       "    </tr>\n",
       "  </thead>\n",
       "  <tbody>\n",
       "    <tr>\n",
       "      <th>PassengerId</th>\n",
       "      <td>1.000000</td>\n",
       "      <td>-0.026751</td>\n",
       "      <td>-0.034102</td>\n",
       "      <td>0.003818</td>\n",
       "      <td>0.043080</td>\n",
       "      <td>0.008211</td>\n",
       "    </tr>\n",
       "    <tr>\n",
       "      <th>Pclass</th>\n",
       "      <td>-0.026751</td>\n",
       "      <td>1.000000</td>\n",
       "      <td>-0.492143</td>\n",
       "      <td>0.001087</td>\n",
       "      <td>0.018721</td>\n",
       "      <td>-0.577147</td>\n",
       "    </tr>\n",
       "    <tr>\n",
       "      <th>Age</th>\n",
       "      <td>-0.034102</td>\n",
       "      <td>-0.492143</td>\n",
       "      <td>1.000000</td>\n",
       "      <td>-0.091587</td>\n",
       "      <td>-0.061249</td>\n",
       "      <td>0.337932</td>\n",
       "    </tr>\n",
       "    <tr>\n",
       "      <th>SibSp</th>\n",
       "      <td>0.003818</td>\n",
       "      <td>0.001087</td>\n",
       "      <td>-0.091587</td>\n",
       "      <td>1.000000</td>\n",
       "      <td>0.306895</td>\n",
       "      <td>0.171539</td>\n",
       "    </tr>\n",
       "    <tr>\n",
       "      <th>Parch</th>\n",
       "      <td>0.043080</td>\n",
       "      <td>0.018721</td>\n",
       "      <td>-0.061249</td>\n",
       "      <td>0.306895</td>\n",
       "      <td>1.000000</td>\n",
       "      <td>0.230046</td>\n",
       "    </tr>\n",
       "    <tr>\n",
       "      <th>Fare</th>\n",
       "      <td>0.008211</td>\n",
       "      <td>-0.577147</td>\n",
       "      <td>0.337932</td>\n",
       "      <td>0.171539</td>\n",
       "      <td>0.230046</td>\n",
       "      <td>1.000000</td>\n",
       "    </tr>\n",
       "  </tbody>\n",
       "</table>\n",
       "</div>"
      ],
      "text/plain": [
       "             PassengerId    Pclass       Age     SibSp     Parch      Fare\n",
       "PassengerId     1.000000 -0.026751 -0.034102  0.003818  0.043080  0.008211\n",
       "Pclass         -0.026751  1.000000 -0.492143  0.001087  0.018721 -0.577147\n",
       "Age            -0.034102 -0.492143  1.000000 -0.091587 -0.061249  0.337932\n",
       "SibSp           0.003818  0.001087 -0.091587  1.000000  0.306895  0.171539\n",
       "Parch           0.043080  0.018721 -0.061249  0.306895  1.000000  0.230046\n",
       "Fare            0.008211 -0.577147  0.337932  0.171539  0.230046  1.000000"
      ]
     },
     "metadata": {},
     "output_type": "display_data"
    },
    {
     "data": {
      "image/png": "[encoded data removed]",
      "text/plain": [
       "<Figure size 800x600 with 2 Axes>"
      ]
     },
     "metadata": {},
     "output_type": "display_data"
    },
    {
     "name": "stdout",
     "output_type": "stream",
     "text": [
      "(Starke) Korrelationen (ohne Vorzeichen)\n"
     ]
    },
    {
     "data": {
      "text/plain": [
       "Pclass  Fare    0.577147\n",
       "dtype: float64"
      ]
     },
     "metadata": {},
     "output_type": "display_data"
    }
   ],
   "source": [
    "# Korrelationsmatrix der Testdaten berechnen und anzeigen\n",
    "corr_matrix = dst_correlation_matrix(df_test)\n",
    "display(corr_matrix)\n",
    "# Korrelationsheatmap der Testdaten anzeigen\n",
    "dst_correlation_heatmap(corr_matrix)\n",
    "# (Starke) Korrelationskoeffizienten der Testdaten berechnen und anzeigen\n",
    "print('(Starke) Korrelationen (ohne Vorzeichen)')\n",
    "corr_measures = dst_correlation_measures_filtered(corr_matrix, 0.5)\n",
    "display(corr_measures)"
   ]
  },
  {
   "cell_type": "markdown",
   "metadata": {},
   "source": [
    "### Ergebnisse der Korrelationsanalyse der 418 Testdatensätze\n",
    "\n",
    "Überprüfung, ob ähnliche Korrelationen der Attribute untereinander vorliegen wie in den Trainingsdaten (s.o.):\n",
    "* Pclass und Fare: -0,577 (Vergleich: -0,549)\n",
    "* Sibsp und Parch: +0,307 (Vergleich +0,415)\n",
    "* Pclass und Age: -0,492 (Vergleich -0,369)\n",
    "\n",
    "Ergebnisse:\n",
    "* Der Zusammenhang zwischen der Passagierklasse und dem Ticketpreis ist ähnlich.\n",
    "* Der Zusammenhang zwischen der Anzahl von Mitreisenden verschiedener Generationen ist in den Testdaten schwächer ausgeprägt als in den Trainingsdaten.\n",
    "* Der Zusammenhang zwischen der Passagierklasse und dem Alter ist in den Testdaten stärker ausgeprägt als in den Trainingsdaten."
   ]
  }
 ],
 "metadata": {
  "kernelspec": {
   "display_name": "Python 3 (ipykernel)",
   "language": "python",
   "name": "python3"
  },
  "language_info": {
   "codemirror_mode": {
    "name": "ipython",
    "version": 3
   },
   "file_extension": ".py",
   "mimetype": "text/x-python",
   "name": "python",
   "nbconvert_exporter": "python",
   "pygments_lexer": "ipython3",
   "version": "3.12.4"
  }
 },
 "nbformat": 4,
 "nbformat_minor": 4
}
