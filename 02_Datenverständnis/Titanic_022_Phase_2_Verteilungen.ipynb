{
 "cells": [
  {
   "cell_type": "markdown",
   "metadata": {},
   "source": [
    "## Phase 2 (Data Understanding): Verteilungen"
   ]
  },
  {
   "cell_type": "markdown",
   "metadata": {},
   "source": [
    "* Autorin: Anna (i3-Versicherung)\n",
    "* Webseite: [Data Science Training - Kapitel 2](https://data-science.training/kapitel-2/)\n",
    "* Datum: 23.03.2023"
   ]
  },
  {
   "cell_type": "markdown",
   "metadata": {},
   "source": [
    "Wir berechnen die Verteilung der Klassen auf Basis der Trainingsdaten."
   ]
  },
  {
   "cell_type": "code",
   "execution_count": 4,
   "metadata": {},
   "outputs": [],
   "source": [
    "# Pandas Paket (Package) importieren\n",
    "#  Datenstrukturen und Datenanalyse, I/O\n",
    "#  https://pandas.pydata.org/pandas-docs/stable/\n",
    "import pandas as pd\n",
    "# Pyplot Modul der Matplot Bibliothek (Library) importieren\n",
    "#  Mathematische grafische Daten-Visualisierungen\n",
    "#  https://matplotlib.org/contents.html\n",
    "import matplotlib.pyplot as plt"
   ]
  },
  {
   "cell_type": "code",
   "execution_count": 5,
   "metadata": {},
   "outputs": [],
   "source": [
    "# Trainingsdaten als Pandas Data Frame (df) aus CSV-Datei laden\n",
    "#  (KNIME: \"CSV Reader\")\n",
    "df_train = pd.read_csv('../../data/titanic/original/train.csv')"
   ]
  },
  {
   "cell_type": "code",
   "execution_count": 6,
   "metadata": {},
   "outputs": [],
   "source": [
    "# Datentypen automatisch konvertieren\n",
    "df_train = df_train.convert_dtypes()"
   ]
  },
  {
   "cell_type": "code",
   "execution_count": 7,
   "metadata": {},
   "outputs": [
    {
     "name": "stdout",
     "output_type": "stream",
     "text": [
      "Survived\n",
      "0    549\n",
      "1    342\n",
      "Name: count, dtype: Int64\n"
     ]
    }
   ],
   "source": [
    "# Verteilung der Werte prüfen und ausgeben\n",
    "#  (KNIME: \"Value Counter\")\n",
    "count_class = df_train['Survived'].value_counts()\n",
    "print(count_class)"
   ]
  },
  {
   "cell_type": "code",
   "execution_count": 8,
   "metadata": {},
   "outputs": [
    {
     "data": {
      "text/plain": [
       "<Axes: ylabel='count'>"
      ]
     },
     "execution_count": 8,
     "metadata": {},
     "output_type": "execute_result"
    },
    {
     "data": {
      "image/png": "[encoded data removed]",
      "text/plain": [
       "<Figure size 640x480 with 1 Axes>"
      ]
     },
     "metadata": {},
     "output_type": "display_data"
    }
   ],
   "source": [
    "# Kuchendiagramm (Pie Chart) erstellen\n",
    "#  (KNIME: \"Pie chart\")\n",
    "count_class.plot(kind='pie', autopct='%6.2f %%')"
   ]
  },
  {
   "cell_type": "markdown",
   "metadata": {},
   "source": [
    "### Ergebnis der Klassenverteilung der 891 Trainingsdatensätze:\n",
    "\n",
    "* Survived = 0: 549 Datensätze (61,62 %)\n",
    "* Survived = 1: 342 Datensätze (38,38 %)\n",
    "\n",
    "Wir haben keine Gleichverteilung (50 % vs. 50 %) zwischen den Klassen.\n",
    "Andererseits ist diese Verteilung auch nicht extrem ungleich."
   ]
  }
 ],
 "metadata": {
  "kernelspec": {
   "display_name": "Python 3 (ipykernel)",
   "language": "python",
   "name": "python3"
  },
  "language_info": {
   "codemirror_mode": {
    "name": "ipython",
    "version": 3
   },
   "file_extension": ".py",
   "mimetype": "text/x-python",
   "name": "python",
   "nbconvert_exporter": "python",
   "pygments_lexer": "ipython3",
   "version": "3.12.4"
  }
 },
 "nbformat": 4,
 "nbformat_minor": 4
}
