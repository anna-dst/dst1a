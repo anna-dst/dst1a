{
 "cells": [
  {
   "cell_type": "markdown",
   "metadata": {},
   "source": [
    "## Age Phase 2 (Data Understanding): Korrelationsanalyse"
   ]
  },
  {
   "cell_type": "markdown",
   "metadata": {},
   "source": [
    "* Autorin: Anna (i3-Versicherung)\n",
    "* Webseite: [Data Science Training - Kapitel 12](https://data-science.training/kapitel-12/)\n",
    "* Datum: 23.03.2023"
   ]
  },
  {
   "cell_type": "markdown",
   "metadata": {},
   "source": [
    "Hier analysieren wir die numerischen Attribute und betrachten paarweise lineare Korrelationen."
   ]
  },
  {
   "cell_type": "code",
   "execution_count": 4,
   "metadata": {},
   "outputs": [],
   "source": [
    "# Pandas Paket (Package) importieren\n",
    "#  Datenstrukturen und Datenanalyse, I/O\n",
    "#  https://pandas.pydata.org/pandas-docs/stable/\n",
    "import pandas as pd\n",
    "# NumPy Paket (Package) importieren\n",
    "#  Mehrdimensionale Datenstrukturen (Vektoren, Matrizen, Tensoren, Arrays), Lineare Algebra\n",
    "#  https://numpy.org/doc/\n",
    "import numpy as np"
   ]
  },
  {
   "cell_type": "code",
   "execution_count": 5,
   "metadata": {},
   "outputs": [],
   "source": [
    "# Trainings- und Testdaten als Pandas Data Frame (df) aus CSV-Dateien laden\n",
    "#  (KNIME: \"CSV Reader\")\n",
    "df_train = pd.read_csv('../../data/titanic/original/train.csv')\n",
    "df_test  = pd.read_csv('../../data/titanic/original/test.csv')"
   ]
  },
  {
   "cell_type": "code",
   "execution_count": 6,
   "metadata": {},
   "outputs": [],
   "source": [
    "# Trainings- und Testdaten zusammenführen\n",
    "#  (KNIME \"Concatenate\")\n",
    "df = pd.concat([df_train, df_test], ignore_index=True)"
   ]
  },
  {
   "cell_type": "code",
   "execution_count": 7,
   "metadata": {},
   "outputs": [],
   "source": [
    "# Datentypen automatisch konvertieren\n",
    "df = df.convert_dtypes()"
   ]
  },
  {
   "cell_type": "code",
   "execution_count": 8,
   "metadata": {},
   "outputs": [],
   "source": [
    "# Korrelationsmatrix mit den linearen Korrelationskoeffizienten nach Pearson\n",
    "#  (KNIME: \"Linear Correlation\")\n",
    "def dst_correlation_matrix(df):\n",
    "    # Nur numerische Attribute auswählen\n",
    "    df1 = df.select_dtypes(include=[np.number])\n",
    "    # Korrelationsmatrix berechnen\n",
    "    corr_matrix = df1.corr(method='pearson')\n",
    "    # Rückgabe\n",
    "    return corr_matrix"
   ]
  },
  {
   "cell_type": "code",
   "execution_count": 9,
   "metadata": {},
   "outputs": [
    {
     "data": {
      "text/plain": [
       "Pclass        -0.408106\n",
       "SibSp         -0.243699\n",
       "Parch         -0.150917\n",
       "Survived      -0.077221\n",
       "PassengerId    0.028814\n",
       "Fare           0.178740\n",
       "Age            1.000000\n",
       "Name: Age, dtype: float64"
      ]
     },
     "metadata": {},
     "output_type": "display_data"
    }
   ],
   "source": [
    "# Korrelationsmatrix berechnen und anzeigen\n",
    "corr_matrix = dst_correlation_matrix(df)['Age'].sort_values()\n",
    "display(corr_matrix)"
   ]
  },
  {
   "cell_type": "markdown",
   "metadata": {},
   "source": [
    "### Ergebnisse der Korrelationsanalyse zum Attribut Age\n",
    "\n",
    "Generell kann man sagen, dass es keine sehr starken Korrelationen zwischen Age und den anderen Attributen gibt.\n",
    "\n",
    "Korrelationen mit dem Attribut Age:\n",
    "* Pclass zeigt noch die höchste (negative) Korrelation: -0,408\n",
    "   (Negative Korrelation: Passagiere der ersten Klasse sind eher älter, während Passagiere der dritten Klasse eher jünger sind.)\n",
    "* SibSp zeigt die zweithöchste (negative) Korrelation: -0,244\n",
    "   (SibSp beschreibe die Anzahl der Mitreisenden der gleichen Generation [Geschwister, Ehepartner]. Eine Interpretation fällt schwer. Wenn der Wert von SibSp groß ist, es also viele Mitreisenden der gleichen Generation gibt, dann ist das Alter des betrachteten Passagiers eher klein.)\n",
    "* Fare zeigt die dritthöchste (positive) Korrelation: +0,179\n",
    "   (Je teurer das Ticket desto älter der Passagier und umgekehrt.)"
   ]
  }
 ],
 "metadata": {
  "kernelspec": {
   "display_name": "Python 3 (ipykernel)",
   "language": "python",
   "name": "python3"
  },
  "language_info": {
   "codemirror_mode": {
    "name": "ipython",
    "version": 3
   },
   "file_extension": ".py",
   "mimetype": "text/x-python",
   "name": "python",
   "nbconvert_exporter": "python",
   "pygments_lexer": "ipython3",
   "version": "3.12.4"
  }
 },
 "nbformat": 4,
 "nbformat_minor": 4
}
