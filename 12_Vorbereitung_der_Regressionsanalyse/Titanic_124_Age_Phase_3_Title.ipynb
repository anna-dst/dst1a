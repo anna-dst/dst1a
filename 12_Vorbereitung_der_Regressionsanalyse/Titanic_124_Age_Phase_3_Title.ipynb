{
 "cells": [
  {
   "cell_type": "markdown",
   "metadata": {},
   "source": [
    "## Age Phase 3 (Data Preparation): Title"
   ]
  },
  {
   "cell_type": "markdown",
   "metadata": {},
   "source": [
    "* Autorin: Anna (i3-Versicherung)\n",
    "* Webseite: [Data Science Training - Kapitel 12](https://data-science.training/kapitel-12/)\n",
    "* Datum: 23.03.2023"
   ]
  },
  {
   "cell_type": "markdown",
   "metadata": {},
   "source": [
    "Wir betrachten das nominalskalierte Attribut Name, genauer gesagt einen Teil davon, nämlich das Feature Title und führen hierzu das One Hote Encoding durch, um Dummy-Variablen zu bekommen. Diese Features analysieren wir dann in Bezug auf lineare Korrelationen zum Attribut Age."
   ]
  },
  {
   "cell_type": "code",
   "execution_count": 4,
   "metadata": {},
   "outputs": [],
   "source": [
    "# Pandas Paket (Package) importieren\n",
    "#  Datenstrukturen und Datenanalyse, I/O\n",
    "#  https://pandas.pydata.org/pandas-docs/stable/\n",
    "import pandas as pd\n",
    "# NumPy Paket (Package) importieren\n",
    "#  Mehrdimensionale Datenstrukturen (Vektoren, Matrizen, Tensoren, Arrays), Lineare Algebra\n",
    "#  https://numpy.org/doc/\n",
    "import numpy as np"
   ]
  },
  {
   "cell_type": "code",
   "execution_count": 5,
   "metadata": {},
   "outputs": [],
   "source": [
    "# Trainings- und Testdaten als Pandas Data Frame (df) aus CSV-Dateien laden\n",
    "#  (KNIME: \"CSV Reader\")\n",
    "df_train = pd.read_csv('../../data/titanic/original/train.csv')\n",
    "df_test  = pd.read_csv('../../data/titanic/original/test.csv')"
   ]
  },
  {
   "cell_type": "code",
   "execution_count": 6,
   "metadata": {},
   "outputs": [],
   "source": [
    "# Trainings- und Testdaten zusammenführen\n",
    "#  (KNIME \"Concatenate\")\n",
    "df = pd.concat([df_train, df_test], ignore_index=True)"
   ]
  },
  {
   "cell_type": "code",
   "execution_count": 7,
   "metadata": {},
   "outputs": [],
   "source": [
    "# Datentypen automatisch konvertieren\n",
    "df = df.convert_dtypes()"
   ]
  },
  {
   "cell_type": "code",
   "execution_count": 8,
   "metadata": {},
   "outputs": [
    {
     "data": {
      "text/html": [
       "<div>\n",
       "<style scoped>\n",
       "    .dataframe tbody tr th:only-of-type {\n",
       "        vertical-align: middle;\n",
       "    }\n",
       "\n",
       "    .dataframe tbody tr th {\n",
       "        vertical-align: top;\n",
       "    }\n",
       "\n",
       "    .dataframe thead th {\n",
       "        text-align: right;\n",
       "    }\n",
       "</style>\n",
       "<table border=\"1\" class=\"dataframe\">\n",
       "  <thead>\n",
       "    <tr style=\"text-align: right;\">\n",
       "      <th></th>\n",
       "      <th>PassengerId</th>\n",
       "      <th>Survived</th>\n",
       "      <th>Pclass</th>\n",
       "      <th>Name</th>\n",
       "      <th>Sex</th>\n",
       "      <th>Age</th>\n",
       "      <th>SibSp</th>\n",
       "      <th>Parch</th>\n",
       "      <th>Ticket</th>\n",
       "      <th>Fare</th>\n",
       "      <th>Cabin</th>\n",
       "      <th>Embarked</th>\n",
       "    </tr>\n",
       "  </thead>\n",
       "  <tbody>\n",
       "    <tr>\n",
       "      <th>1043</th>\n",
       "      <td>1044</td>\n",
       "      <td>&lt;NA&gt;</td>\n",
       "      <td>3</td>\n",
       "      <td>Storey, Mr. Thomas</td>\n",
       "      <td>male</td>\n",
       "      <td>60.5</td>\n",
       "      <td>0</td>\n",
       "      <td>0</td>\n",
       "      <td>3701</td>\n",
       "      <td>&lt;NA&gt;</td>\n",
       "      <td>&lt;NA&gt;</td>\n",
       "      <td>S</td>\n",
       "    </tr>\n",
       "  </tbody>\n",
       "</table>\n",
       "</div>"
      ],
      "text/plain": [
       "      PassengerId  Survived  Pclass                Name   Sex   Age  SibSp  \\\n",
       "1043         1044      <NA>       3  Storey, Mr. Thomas  male  60.5      0   \n",
       "\n",
       "      Parch Ticket  Fare Cabin Embarked  \n",
       "1043      0   3701  <NA>  <NA>        S  "
      ]
     },
     "metadata": {},
     "output_type": "display_data"
    },
    {
     "data": {
      "text/html": [
       "<div>\n",
       "<style scoped>\n",
       "    .dataframe tbody tr th:only-of-type {\n",
       "        vertical-align: middle;\n",
       "    }\n",
       "\n",
       "    .dataframe tbody tr th {\n",
       "        vertical-align: top;\n",
       "    }\n",
       "\n",
       "    .dataframe thead th {\n",
       "        text-align: right;\n",
       "    }\n",
       "</style>\n",
       "<table border=\"1\" class=\"dataframe\">\n",
       "  <thead>\n",
       "    <tr style=\"text-align: right;\">\n",
       "      <th></th>\n",
       "      <th>PassengerId</th>\n",
       "      <th>Survived</th>\n",
       "      <th>Pclass</th>\n",
       "      <th>Name</th>\n",
       "      <th>Sex</th>\n",
       "      <th>Age</th>\n",
       "      <th>SibSp</th>\n",
       "      <th>Parch</th>\n",
       "      <th>Ticket</th>\n",
       "      <th>Fare</th>\n",
       "      <th>Cabin</th>\n",
       "      <th>Embarked</th>\n",
       "    </tr>\n",
       "  </thead>\n",
       "  <tbody>\n",
       "    <tr>\n",
       "      <th>1043</th>\n",
       "      <td>1044</td>\n",
       "      <td>&lt;NA&gt;</td>\n",
       "      <td>3</td>\n",
       "      <td>Storey, Mr. Thomas</td>\n",
       "      <td>male</td>\n",
       "      <td>60.5</td>\n",
       "      <td>0</td>\n",
       "      <td>0</td>\n",
       "      <td>3701</td>\n",
       "      <td>7.896</td>\n",
       "      <td>&lt;NA&gt;</td>\n",
       "      <td>S</td>\n",
       "    </tr>\n",
       "  </tbody>\n",
       "</table>\n",
       "</div>"
      ],
      "text/plain": [
       "      PassengerId  Survived  Pclass                Name   Sex   Age  SibSp  \\\n",
       "1043         1044      <NA>       3  Storey, Mr. Thomas  male  60.5      0   \n",
       "\n",
       "      Parch Ticket   Fare Cabin Embarked  \n",
       "1043      0   3701  7.896  <NA>        S  "
      ]
     },
     "metadata": {},
     "output_type": "display_data"
    }
   ],
   "source": [
    "# Fehlende Werte behandeln (d.h. schätzen)\n",
    "#  (KNIME: \"Missing Values\")\n",
    "# Fare (Kardinalskala): 1 fehlender Wert => Benutze den konstanten Wert 7,896\n",
    "#df['Fare'] = df['Fare'].fillna(7.896)\n",
    "display(df[df['Fare'].isna()])\n",
    "df.loc[1043, 'Fare'] = 7.896\n",
    "display(df[df['PassengerId'] == 1044])"
   ]
  },
  {
   "cell_type": "code",
   "execution_count": 9,
   "metadata": {},
   "outputs": [],
   "source": [
    "# Neues Feature Title\n",
    "#  (KNIME: \"Cell Splitter\", \"Column Rename\", \"Table Creator\", \"Cell Replacer\")\n",
    "df['Title'] = df['Name'].str.split(', ', expand=True)[1].str.split('.', expand=True)[0]\n",
    "df['Title'] = df['Title'].replace(['Ms', 'Mlle'], 'Miss')\n",
    "df['Title'] = df['Title'].replace(['Mme', 'Lady', 'the Countess', 'Dona'], 'Mrs')\n",
    "df['Title'] = df['Title'].replace(['Dr', 'Col', 'Major', 'Jonkheer', 'Capt', 'Sir', 'Don', 'Rev'], 'Rare')"
   ]
  },
  {
   "cell_type": "code",
   "execution_count": 10,
   "metadata": {},
   "outputs": [
    {
     "name": "stdout",
     "output_type": "stream",
     "text": [
      "<class 'pandas.core.frame.DataFrame'>\n",
      "RangeIndex: 1309 entries, 0 to 1308\n",
      "Data columns (total 17 columns):\n",
      " #   Column        Non-Null Count  Dtype  \n",
      "---  ------        --------------  -----  \n",
      " 0   PassengerId   1309 non-null   Int64  \n",
      " 1   Survived      891 non-null    Int64  \n",
      " 2   Pclass        1309 non-null   Int64  \n",
      " 3   Name          1309 non-null   string \n",
      " 4   Sex           1309 non-null   string \n",
      " 5   Age           1046 non-null   Float64\n",
      " 6   SibSp         1309 non-null   Int64  \n",
      " 7   Parch         1309 non-null   Int64  \n",
      " 8   Ticket        1309 non-null   string \n",
      " 9   Fare          1309 non-null   Float64\n",
      " 10  Cabin         295 non-null    string \n",
      " 11  Embarked      1307 non-null   string \n",
      " 12  Title_Master  1309 non-null   int32  \n",
      " 13  Title_Miss    1309 non-null   int32  \n",
      " 14  Title_Mr      1309 non-null   int32  \n",
      " 15  Title_Mrs     1309 non-null   int32  \n",
      " 16  Title_Rare    1309 non-null   int32  \n",
      "dtypes: Float64(2), Int64(5), int32(5), string(5)\n",
      "memory usage: 157.4 KB\n"
     ]
    }
   ],
   "source": [
    "# One Hot Encoding => Dummy-Variablen\n",
    "#  (KNIME: \"One To Many\")\n",
    "df = pd.get_dummies(df, columns=['Title'], dtype=int)\n",
    "# Ergebnis anzeigen\n",
    "df.info()"
   ]
  },
  {
   "cell_type": "code",
   "execution_count": 11,
   "metadata": {},
   "outputs": [],
   "source": [
    "# Korrelationsmatrix mit den linearen Korrelationskoeffizienten nach Pearson\n",
    "#  (KNIME: \"Linear Correlation\")\n",
    "def dst_correlation_matrix(df):\n",
    "    # Nur numerische Attribute auswählen\n",
    "    df1 = df.select_dtypes(include=[np.number])\n",
    "    # Korrelationsmatrix berechnen\n",
    "    corr_matrix = df1.corr(method='pearson')\n",
    "    # Rückgabe\n",
    "    return corr_matrix"
   ]
  },
  {
   "cell_type": "code",
   "execution_count": 12,
   "metadata": {},
   "outputs": [
    {
     "data": {
      "text/plain": [
       "Pclass         -0.408106\n",
       "Title_Master   -0.391259\n",
       "Title_Miss     -0.282792\n",
       "SibSp          -0.243699\n",
       "Parch          -0.150917\n",
       "Survived       -0.077221\n",
       "PassengerId     0.028814\n",
       "Title_Rare      0.172905\n",
       "Fare            0.177280\n",
       "Title_Mr        0.183965\n",
       "Title_Mrs       0.219841\n",
       "Age             1.000000\n",
       "Name: Age, dtype: float64"
      ]
     },
     "metadata": {},
     "output_type": "display_data"
    }
   ],
   "source": [
    "# Korrelationsmatrix berechnen und anzeigen\n",
    "corr_matrix = dst_correlation_matrix(df)['Age'].sort_values()\n",
    "display(corr_matrix)"
   ]
  },
  {
   "cell_type": "markdown",
   "metadata": {},
   "source": [
    "### Ergebnisse der Korrelationsanalyse der neuen Features zum Attribut Age\n",
    "\n",
    "| Attribut           | R      |\n",
    "|--------------------|--------|\n",
    "| Title_Mrs          | +0,220 |\n",
    "| Title_Mr           | +0,184 |\n",
    "| Title_Rare         | +0,173 |\n",
    "| Title_Miss         | -0,283 |\n",
    "| Title_Master       | -0,391 |\n",
    "\n",
    "Vereinfacht gesagt: Passagiere mit Titel Master oder Miss sind eher jung, während die anderen Passagiere eher alt sind."
   ]
  }
 ],
 "metadata": {
  "kernelspec": {
   "display_name": "Python 3 (ipykernel)",
   "language": "python",
   "name": "python3"
  },
  "language_info": {
   "codemirror_mode": {
    "name": "ipython",
    "version": 3
   },
   "file_extension": ".py",
   "mimetype": "text/x-python",
   "name": "python",
   "nbconvert_exporter": "python",
   "pygments_lexer": "ipython3",
   "version": "3.12.4"
  }
 },
 "nbformat": 4,
 "nbformat_minor": 4
}
