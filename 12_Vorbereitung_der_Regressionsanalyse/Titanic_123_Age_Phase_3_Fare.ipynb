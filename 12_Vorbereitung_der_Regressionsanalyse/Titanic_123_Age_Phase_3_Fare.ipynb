{
 "cells": [
  {
   "cell_type": "markdown",
   "metadata": {},
   "source": [
    "## Age Phase 3 (Data Preparation): Fare(s)"
   ]
  },
  {
   "cell_type": "markdown",
   "metadata": {},
   "source": [
    "* Autorin: Anna (i3-Versicherung)\n",
    "* Webseite: [Data Science Training - Kapitel 12](https://data-science.training/kapitel-12/)\n",
    "* Datum: 23.03.2023"
   ]
  },
  {
   "cell_type": "markdown",
   "metadata": {},
   "source": [
    "Wir betrachten das kardinalskalierte Attribut Fare und führen hierzu ein Feature Engineering durch. Diese Features analysieren wir dann in Bezug auf lineare Korrelationen zum Attribut Age."
   ]
  },
  {
   "cell_type": "code",
   "execution_count": 4,
   "metadata": {},
   "outputs": [],
   "source": [
    "# Pandas Paket (Package) importieren\n",
    "#  Datenstrukturen und Datenanalyse, I/O\n",
    "#  https://pandas.pydata.org/pandas-docs/stable/\n",
    "import pandas as pd\n",
    "# NumPy Paket (Package) importieren\n",
    "#  Mehrdimensionale Datenstrukturen (Vektoren, Matrizen, Tensoren, Arrays), Lineare Algebra\n",
    "#  https://numpy.org/doc/\n",
    "import numpy as np"
   ]
  },
  {
   "cell_type": "code",
   "execution_count": 5,
   "metadata": {},
   "outputs": [],
   "source": [
    "# Trainings- und Testdaten als Pandas Data Frame (df) aus CSV-Dateien laden\n",
    "#  (KNIME: \"CSV Reader\")\n",
    "df_train = pd.read_csv('../../data/titanic/original/train.csv')\n",
    "df_test  = pd.read_csv('../../data/titanic/original/test.csv')"
   ]
  },
  {
   "cell_type": "code",
   "execution_count": 6,
   "metadata": {},
   "outputs": [],
   "source": [
    "# Trainings- und Testdaten zusammenführen\n",
    "#  (KNIME \"Concatenate\")\n",
    "df = pd.concat([df_train, df_test], ignore_index=True)"
   ]
  },
  {
   "cell_type": "code",
   "execution_count": 7,
   "metadata": {},
   "outputs": [],
   "source": [
    "# Datentypen automatisch konvertieren\n",
    "df = df.convert_dtypes()"
   ]
  },
  {
   "cell_type": "code",
   "execution_count": 8,
   "metadata": {},
   "outputs": [
    {
     "data": {
      "text/html": [
       "<div>\n",
       "<style scoped>\n",
       "    .dataframe tbody tr th:only-of-type {\n",
       "        vertical-align: middle;\n",
       "    }\n",
       "\n",
       "    .dataframe tbody tr th {\n",
       "        vertical-align: top;\n",
       "    }\n",
       "\n",
       "    .dataframe thead th {\n",
       "        text-align: right;\n",
       "    }\n",
       "</style>\n",
       "<table border=\"1\" class=\"dataframe\">\n",
       "  <thead>\n",
       "    <tr style=\"text-align: right;\">\n",
       "      <th></th>\n",
       "      <th>PassengerId</th>\n",
       "      <th>Survived</th>\n",
       "      <th>Pclass</th>\n",
       "      <th>Name</th>\n",
       "      <th>Sex</th>\n",
       "      <th>Age</th>\n",
       "      <th>SibSp</th>\n",
       "      <th>Parch</th>\n",
       "      <th>Ticket</th>\n",
       "      <th>Fare</th>\n",
       "      <th>Cabin</th>\n",
       "      <th>Embarked</th>\n",
       "    </tr>\n",
       "  </thead>\n",
       "  <tbody>\n",
       "    <tr>\n",
       "      <th>1043</th>\n",
       "      <td>1044</td>\n",
       "      <td>&lt;NA&gt;</td>\n",
       "      <td>3</td>\n",
       "      <td>Storey, Mr. Thomas</td>\n",
       "      <td>male</td>\n",
       "      <td>60.5</td>\n",
       "      <td>0</td>\n",
       "      <td>0</td>\n",
       "      <td>3701</td>\n",
       "      <td>&lt;NA&gt;</td>\n",
       "      <td>&lt;NA&gt;</td>\n",
       "      <td>S</td>\n",
       "    </tr>\n",
       "  </tbody>\n",
       "</table>\n",
       "</div>"
      ],
      "text/plain": [
       "      PassengerId  Survived  Pclass                Name   Sex   Age  SibSp  \\\n",
       "1043         1044      <NA>       3  Storey, Mr. Thomas  male  60.5      0   \n",
       "\n",
       "      Parch Ticket  Fare Cabin Embarked  \n",
       "1043      0   3701  <NA>  <NA>        S  "
      ]
     },
     "metadata": {},
     "output_type": "display_data"
    },
    {
     "data": {
      "text/html": [
       "<div>\n",
       "<style scoped>\n",
       "    .dataframe tbody tr th:only-of-type {\n",
       "        vertical-align: middle;\n",
       "    }\n",
       "\n",
       "    .dataframe tbody tr th {\n",
       "        vertical-align: top;\n",
       "    }\n",
       "\n",
       "    .dataframe thead th {\n",
       "        text-align: right;\n",
       "    }\n",
       "</style>\n",
       "<table border=\"1\" class=\"dataframe\">\n",
       "  <thead>\n",
       "    <tr style=\"text-align: right;\">\n",
       "      <th></th>\n",
       "      <th>PassengerId</th>\n",
       "      <th>Survived</th>\n",
       "      <th>Pclass</th>\n",
       "      <th>Name</th>\n",
       "      <th>Sex</th>\n",
       "      <th>Age</th>\n",
       "      <th>SibSp</th>\n",
       "      <th>Parch</th>\n",
       "      <th>Ticket</th>\n",
       "      <th>Fare</th>\n",
       "      <th>Cabin</th>\n",
       "      <th>Embarked</th>\n",
       "    </tr>\n",
       "  </thead>\n",
       "  <tbody>\n",
       "    <tr>\n",
       "      <th>1043</th>\n",
       "      <td>1044</td>\n",
       "      <td>&lt;NA&gt;</td>\n",
       "      <td>3</td>\n",
       "      <td>Storey, Mr. Thomas</td>\n",
       "      <td>male</td>\n",
       "      <td>60.5</td>\n",
       "      <td>0</td>\n",
       "      <td>0</td>\n",
       "      <td>3701</td>\n",
       "      <td>7.896</td>\n",
       "      <td>&lt;NA&gt;</td>\n",
       "      <td>S</td>\n",
       "    </tr>\n",
       "  </tbody>\n",
       "</table>\n",
       "</div>"
      ],
      "text/plain": [
       "      PassengerId  Survived  Pclass                Name   Sex   Age  SibSp  \\\n",
       "1043         1044      <NA>       3  Storey, Mr. Thomas  male  60.5      0   \n",
       "\n",
       "      Parch Ticket   Fare Cabin Embarked  \n",
       "1043      0   3701  7.896  <NA>        S  "
      ]
     },
     "metadata": {},
     "output_type": "display_data"
    }
   ],
   "source": [
    "# Fehlende Werte behandeln (d.h. schätzen)\n",
    "#  (KNIME: \"Missing Values\")\n",
    "# Fare (Kardinalskala): 1 fehlender Wert => Benutze den konstanten Wert 7,896\n",
    "#df['Fare'] = df['Fare'].fillna(7.896)\n",
    "display(df[df['Fare'].isna()])\n",
    "df.loc[1043, 'Fare'] = 7.896\n",
    "display(df[df['PassengerId'] == 1044])"
   ]
  },
  {
   "cell_type": "code",
   "execution_count": 9,
   "metadata": {},
   "outputs": [],
   "source": [
    "# Hilfsgröße TicketCount\n",
    "#  (KNIME: \"GroupBy\", \"Joiner\", \"Column Rename\")\n",
    "ticketCount = df.groupby('Ticket', as_index=False)['PassengerId'].count()\n",
    "ticketCount = ticketCount.rename(columns={'PassengerId': 'TicketCount'})\n",
    "df = df.merge(ticketCount, how='left', on='Ticket')"
   ]
  },
  {
   "cell_type": "code",
   "execution_count": 10,
   "metadata": {},
   "outputs": [],
   "source": [
    "# Neues Feature \"FamilySize\"\n",
    "#  (KNIME: \"Math Formula\")\n",
    "df['FamilySize'] = df['SibSp'] + df['Parch'] + 1"
   ]
  },
  {
   "cell_type": "code",
   "execution_count": 11,
   "metadata": {},
   "outputs": [],
   "source": [
    "# Neues Features \"FarePerTicketCount\" und \"FarePerFamilySize\"\n",
    "#  (KNIME: \"Math Formula\")\n",
    "df['FarePerTicketCount'] = df['Fare'] / df['TicketCount']\n",
    "df['FarePerFamilySize']  = df['Fare'] / df['FamilySize']"
   ]
  },
  {
   "cell_type": "code",
   "execution_count": 12,
   "metadata": {},
   "outputs": [],
   "source": [
    "# Neues Features \"LogFare\", \"LogFareTC\" und \"LogFareFS\"\n",
    "#  (KNIME: \"Math Formula\")\n",
    "df['LogFare']   = np.log( 1 + df['Fare']               )\n",
    "df['LogFareTC'] = np.log( 1 + df['FarePerTicketCount'] )\n",
    "df['LogFareFS'] = np.log( 1 + df['FarePerFamilySize']  )"
   ]
  },
  {
   "cell_type": "code",
   "execution_count": 13,
   "metadata": {},
   "outputs": [],
   "source": [
    "# Korrelationsmatrix mit den linearen Korrelationskoeffizienten nach Pearson\n",
    "#  (KNIME: \"Linear Correlation\")\n",
    "def dst_correlation_matrix(df):\n",
    "    # Nur numerische Attribute auswählen\n",
    "    df1 = df.select_dtypes(include=[np.number])\n",
    "    # Korrelationsmatrix berechnen\n",
    "    corr_matrix = df1.corr(method='pearson')\n",
    "    # Rückgabe\n",
    "    return corr_matrix"
   ]
  },
  {
   "cell_type": "code",
   "execution_count": 14,
   "metadata": {},
   "outputs": [
    {
     "data": {
      "text/plain": [
       "Pclass               -0.408106\n",
       "SibSp                -0.243699\n",
       "FamilySize           -0.240229\n",
       "TicketCount          -0.185284\n",
       "Parch                -0.150917\n",
       "Survived             -0.077221\n",
       "PassengerId           0.028814\n",
       "Fare                  0.177280\n",
       "LogFare               0.192259\n",
       "FarePerFamilySize     0.192356\n",
       "LogFareFS             0.342118\n",
       "FarePerTicketCount    0.359813\n",
       "LogFareTC             0.411531\n",
       "Age                   1.000000\n",
       "Name: Age, dtype: float64"
      ]
     },
     "metadata": {},
     "output_type": "display_data"
    }
   ],
   "source": [
    "# Korrelationsmatrix berechnen und anzeigen\n",
    "corr_matrix = dst_correlation_matrix(df)['Age'].sort_values()\n",
    "display(corr_matrix)"
   ]
  },
  {
   "cell_type": "markdown",
   "metadata": {},
   "source": [
    "### Ergebnisse der Korrelationsanalyse der neuen Features zum Attribut Age\n",
    "\n",
    "| Attribut           | R      |\n",
    "|--------------------|--------|\n",
    "| LogFareTC          | +0,412 |\n",
    "| FarePerTicketCount | +0,360 |\n",
    "| LogFareFS          | +0,342 |\n",
    "| FarePerFamilySize  | +0,192 |\n",
    "| LogFare            | +0,192 |\n",
    "| Fare               | +0,177 |\n",
    "\n",
    "Das neue Feature LogFareTC zeigt die stärkste lineare Korrelation zum Attribut Age. Dieses werden wir somit verwenden."
   ]
  }
 ],
 "metadata": {
  "kernelspec": {
   "display_name": "Python 3 (ipykernel)",
   "language": "python",
   "name": "python3"
  },
  "language_info": {
   "codemirror_mode": {
    "name": "ipython",
    "version": 3
   },
   "file_extension": ".py",
   "mimetype": "text/x-python",
   "name": "python",
   "nbconvert_exporter": "python",
   "pygments_lexer": "ipython3",
   "version": "3.12.4"
  }
 },
 "nbformat": 4,
 "nbformat_minor": 4
}
