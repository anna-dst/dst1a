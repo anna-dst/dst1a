{
 "cells": [
  {
   "cell_type": "markdown",
   "metadata": {},
   "source": [
    "## Phase 5 (Evaluation)"
   ]
  },
  {
   "cell_type": "markdown",
   "metadata": {},
   "source": [
    "* Autorin: Anna (i3-Versicherung)\n",
    "* Webseite: [Data Science Training - Kapitel 17](https://data-science.training/kapitel-17/)\n",
    "* Datum: 23.03.2023"
   ]
  },
  {
   "cell_type": "markdown",
   "metadata": {},
   "source": [
    "Versionen 7 und 8"
   ]
  },
  {
   "cell_type": "code",
   "execution_count": 4,
   "metadata": {},
   "outputs": [],
   "source": [
    "# Pandas Paket (Package) importieren\n",
    "#  Datenstrukturen und Datenanalyse, I/O\n",
    "#  https://pandas.pydata.org/pandas-docs/stable/\n",
    "import pandas as pd\n",
    "# Pickle Paket (Package) importieren\n",
    "#  Objekte serialisieren\n",
    "#  https://docs.python.org/3/library/pickle.html\n",
    "import pickle as pk"
   ]
  },
  {
   "cell_type": "code",
   "execution_count": 5,
   "metadata": {},
   "outputs": [],
   "source": [
    "# Datenversion festlegen: 7, 8\n",
    "version  = 8\n",
    "# Modell-Abkürzung festlegen: rf = Random Forest, gb = Gradient Boosting\n",
    "shortcut = 'gb'"
   ]
  },
  {
   "cell_type": "code",
   "execution_count": 6,
   "metadata": {},
   "outputs": [],
   "source": [
    "# Testdaten als Pandas Data Frame (df) aus Excel-Datei laden\n",
    "#  (KNIME: \"Excel Reader\")\n",
    "filename = '../../data/titanic/new/test_v' + str(version) + '.xlsx'\n",
    "df_test  = pd.read_excel(filename)"
   ]
  },
  {
   "cell_type": "code",
   "execution_count": 7,
   "metadata": {},
   "outputs": [],
   "source": [
    "# Modell laden\n",
    "#  (KNIME: \"PMML Reader\")\n",
    "filename = '../../models/titanic/new/' + shortcut + '_v' + str(version)\n",
    "model = pk.load(open(filename, 'rb'))"
   ]
  },
  {
   "cell_type": "code",
   "execution_count": 8,
   "metadata": {},
   "outputs": [],
   "source": [
    "# Testdaten: Daten ohne PassengerId extrahieren\n",
    "X_test = df_test.iloc[:,1:].values"
   ]
  },
  {
   "cell_type": "code",
   "execution_count": 9,
   "metadata": {},
   "outputs": [],
   "source": [
    "# Prognosen und Wahrscheinlichkeiten bestimmen\n",
    "#  (KNIME: \"XYZ Predictor\")\n",
    "y_pred = model.predict(X_test)\n",
    "y_prob = model.predict_proba(X_test)"
   ]
  },
  {
   "cell_type": "code",
   "execution_count": 10,
   "metadata": {},
   "outputs": [],
   "source": [
    "# Ergebnisse in das Data Frame kopieren\n",
    "df_test['Survived'] = y_pred\n",
    "df_test['ProbN']    = y_prob[:,0]\n",
    "df_test['ProbP']    = y_prob[:,1]"
   ]
  },
  {
   "cell_type": "code",
   "execution_count": 11,
   "metadata": {},
   "outputs": [],
   "source": [
    "# Relevante Ergebnisse filtern\n",
    "#  (KNIME: \"Column Filter\")\n",
    "df_res = df_test.filter(['PassengerId', 'Survived', 'ProbN', 'ProbP'])"
   ]
  },
  {
   "cell_type": "code",
   "execution_count": 12,
   "metadata": {},
   "outputs": [],
   "source": [
    "# Ergebnisse als CSV-Datei speichern\n",
    "#  (KNIME: \"CSV Writer\")\n",
    "filename = '../../data/titanic/submission/' + shortcut + '_v' + str(version) + '.csv'\n",
    "df_res.to_csv(filename, index=False)"
   ]
  },
  {
   "cell_type": "code",
   "execution_count": 13,
   "metadata": {},
   "outputs": [],
   "source": [
    "# Ergebnis-Datei auf Webseite hochladen\n",
    "# https://data-science.training/upload/"
   ]
  },
  {
   "cell_type": "markdown",
   "metadata": {},
   "source": [
    "### Ergebnisse (Gütemaße)\n",
    "\n",
    "#### Version 7 (Int) & Random Forest\n",
    "\n",
    "* Genauigkeit \t(Accuracy) \t: \t74,40 \t%\n",
    "* Spezifität \t(Specificity) \t: \t78,46 \t%\n",
    "* Sensitivität \t(Sensitivity) \t: \t67,72 \t%\n",
    "* Präzision \t(Precision) \t: \t65,64 \t%\n",
    "* Recall \t(Recall) \t: \t67,72 \t%\n",
    "* F-Maß \t(F1 Score) \t: \t66,67 \t%\n",
    "* AURC \t(AURC) \t: \t79,14 \t%\n",
    "* LogLoss \t(LogLoss) \t: \t0,892\n",
    "\n",
    "#### Version 8 (Float) & Random Forest\n",
    "\n",
    "* Genauigkeit \t(Accuracy) \t: \t74,40 \t%\n",
    "* Spezifität \t(Specificity) \t: \t79,62 \t%\n",
    "* Sensitivität \t(Sensitivity) \t: \t65,82 \t%\n",
    "* Präzision \t(Precision) \t: \t66,24 \t%\n",
    "* Recall \t(Recall) \t: \t65,82 \t%\n",
    "* F-Maß \t(F1 Score) \t: \t66,03 \t%\n",
    "* AURC \t(AURC) \t: \t80,22 \t%\n",
    "* LogLoss \t(LogLoss) \t: \t0,968\n",
    "\n",
    "#### Version 7 (Int) & Gradient Boosting\n",
    "\n",
    "* Genauigkeit \t(Accuracy) \t: \t75,60 \t%\n",
    "* Spezifität \t(Specificity) \t: \t80,77 \t%\n",
    "* Sensitivität \t(Sensitivity) \t: \t67,09 \t%\n",
    "* Präzision \t(Precision) \t: \t67,95 \t%\n",
    "* Recall \t(Recall) \t: \t67,09 \t%\n",
    "* F-Maß \t(F1 Score) \t: \t67,52 \t%\n",
    "* AURC \t(AURC) \t: \t79,87 \t%\n",
    "* LogLoss \t(LogLoss) \t: \t0,556\n",
    "\n",
    "#### Version 8 (Float) & Gradient Boosting\n",
    "\n",
    "* Genauigkeit \t(Accuracy) \t: \t74,64 \t%\n",
    "* Spezifität \t(Specificity) \t: \t79,62 \t%\n",
    "* Sensitivität \t(Sensitivity) \t: \t66,46 \t%\n",
    "* Präzision \t(Precision) \t: \t66,46 \t%\n",
    "* Recall \t(Recall) \t: \t66,46 \t%\n",
    "* F-Maß \t(F1 Score) \t: \t66,46 \t%\n",
    "* AURC \t(AURC) \t: \t82,03 \t%\n",
    "* LogLoss \t(LogLoss) \t: \t0,528"
   ]
  },
  {
   "cell_type": "markdown",
   "metadata": {},
   "source": [
    "Alle Modelle zeigen keine so guten Ergebnisse."
   ]
  }
 ],
 "metadata": {
  "kernelspec": {
   "display_name": "Python 3 (ipykernel)",
   "language": "python",
   "name": "python3"
  },
  "language_info": {
   "codemirror_mode": {
    "name": "ipython",
    "version": 3
   },
   "file_extension": ".py",
   "mimetype": "text/x-python",
   "name": "python",
   "nbconvert_exporter": "python",
   "pygments_lexer": "ipython3",
   "version": "3.12.4"
  }
 },
 "nbformat": 4,
 "nbformat_minor": 4
}
