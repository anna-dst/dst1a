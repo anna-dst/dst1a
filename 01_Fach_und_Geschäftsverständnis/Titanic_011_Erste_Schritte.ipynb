{
 "cells": [
  {
   "cell_type": "markdown",
   "metadata": {},
   "source": [
    "# Erste Schritte"
   ]
  },
  {
   "cell_type": "markdown",
   "metadata": {},
   "source": [
    "* Autorin: Anna (i3-Versicherung)\n",
    "* Webseite: [Data Science Training - Kapitel 1](https://data-science.training/kapitel-1/)\n",
    "* Datum: 23.03.2023"
   ]
  },
  {
   "cell_type": "markdown",
   "metadata": {},
   "source": [
    "EVA-Prinzip: Eingabe, Verarbeitung, Ausgabe\n",
    "\n",
    "* (E) Wir laden Daten aus einer CSV-Datei.\n",
    "* (V) Wir sehen uns die Daten an und filtern diese.\n",
    "* (A) Wir speichern die gefilterten Daten in einer Excel-Datei.\n",
    "\n",
    "Je nach Betriebssystem müssen die Pfade entsprechend angepasst werden."
   ]
  },
  {
   "cell_type": "code",
   "execution_count": 4,
   "metadata": {},
   "outputs": [],
   "source": [
    "# Pandas Paket (Package) importieren\n",
    "#  Datenstrukturen und Datenanalyse, I/O\n",
    "#  https://pandas.pydata.org/pandas-docs/stable/\n",
    "import pandas as pd\n",
    "# NumPy Paket (Package) importieren\n",
    "#  Mehrdimensionale Datenstrukturen (Vektoren, Matrizen, Tensoren, Arrays), Lineare Algebra\n",
    "#  https://numpy.org/doc/\n",
    "import numpy as np"
   ]
  },
  {
   "cell_type": "code",
   "execution_count": 5,
   "metadata": {},
   "outputs": [],
   "source": [
    "# Trainingsdaten als Pandas Data Frame (df) aus CSV-Datei laden\n",
    "df = pd.read_csv('../../data/titanic/original/train.csv')"
   ]
  },
  {
   "cell_type": "code",
   "execution_count": 6,
   "metadata": {},
   "outputs": [
    {
     "name": "stdout",
     "output_type": "stream",
     "text": [
      "   PassengerId  Survived  Pclass  \\\n",
      "0            1         0       3   \n",
      "1            2         1       1   \n",
      "2            3         1       3   \n",
      "3            4         1       1   \n",
      "4            5         0       3   \n",
      "\n",
      "                                                Name     Sex   Age  SibSp  \\\n",
      "0                            Braund, Mr. Owen Harris    male  22.0      1   \n",
      "1  Cumings, Mrs. John Bradley (Florence Briggs Th...  female  38.0      1   \n",
      "2                             Heikkinen, Miss. Laina  female  26.0      0   \n",
      "3       Futrelle, Mrs. Jacques Heath (Lily May Peel)  female  35.0      1   \n",
      "4                           Allen, Mr. William Henry    male  35.0      0   \n",
      "\n",
      "   Parch            Ticket     Fare Cabin Embarked  \n",
      "0      0         A/5 21171   7.2500   NaN        S  \n",
      "1      0          PC 17599  71.2833   C85        C  \n",
      "2      0  STON/O2. 3101282   7.9250   NaN        S  \n",
      "3      0            113803  53.1000  C123        S  \n",
      "4      0            373450   8.0500   NaN        S  \n"
     ]
    }
   ],
   "source": [
    "# Daten ausgeben -oben- (default: Die ersten 5 Zeilen)\n",
    "print(df.head())\n",
    "#print(df.head(3)) # Die ersten 3 Datenzeilen"
   ]
  },
  {
   "cell_type": "code",
   "execution_count": 7,
   "metadata": {},
   "outputs": [
    {
     "name": "stdout",
     "output_type": "stream",
     "text": [
      "     PassengerId  Survived  Pclass                                      Name  \\\n",
      "886          887         0       2                     Montvila, Rev. Juozas   \n",
      "887          888         1       1              Graham, Miss. Margaret Edith   \n",
      "888          889         0       3  Johnston, Miss. Catherine Helen \"Carrie\"   \n",
      "889          890         1       1                     Behr, Mr. Karl Howell   \n",
      "890          891         0       3                       Dooley, Mr. Patrick   \n",
      "\n",
      "        Sex   Age  SibSp  Parch      Ticket   Fare Cabin Embarked  \n",
      "886    male  27.0      0      0      211536  13.00   NaN        S  \n",
      "887  female  19.0      0      0      112053  30.00   B42        S  \n",
      "888  female   NaN      1      2  W./C. 6607  23.45   NaN        S  \n",
      "889    male  26.0      0      0      111369  30.00  C148        C  \n",
      "890    male  32.0      0      0      370376   7.75   NaN        Q  \n"
     ]
    }
   ],
   "source": [
    "# Daten ausgeben -unten- (default: Die letzten 5 Zeilen)\n",
    "print(df.tail())\n",
    "#print(df.tail(4)) # Die letzen 4 Datenzeilen"
   ]
  },
  {
   "cell_type": "code",
   "execution_count": 8,
   "metadata": {},
   "outputs": [
    {
     "name": "stdout",
     "output_type": "stream",
     "text": [
      "     PassengerId  Survived  Pclass  \\\n",
      "0              1         0       3   \n",
      "1              2         1       1   \n",
      "2              3         1       3   \n",
      "3              4         1       1   \n",
      "4              5         0       3   \n",
      "..           ...       ...     ...   \n",
      "886          887         0       2   \n",
      "887          888         1       1   \n",
      "888          889         0       3   \n",
      "889          890         1       1   \n",
      "890          891         0       3   \n",
      "\n",
      "                                                  Name     Sex   Age  SibSp  \\\n",
      "0                              Braund, Mr. Owen Harris    male  22.0      1   \n",
      "1    Cumings, Mrs. John Bradley (Florence Briggs Th...  female  38.0      1   \n",
      "2                               Heikkinen, Miss. Laina  female  26.0      0   \n",
      "3         Futrelle, Mrs. Jacques Heath (Lily May Peel)  female  35.0      1   \n",
      "4                             Allen, Mr. William Henry    male  35.0      0   \n",
      "..                                                 ...     ...   ...    ...   \n",
      "886                              Montvila, Rev. Juozas    male  27.0      0   \n",
      "887                       Graham, Miss. Margaret Edith  female  19.0      0   \n",
      "888           Johnston, Miss. Catherine Helen \"Carrie\"  female   NaN      1   \n",
      "889                              Behr, Mr. Karl Howell    male  26.0      0   \n",
      "890                                Dooley, Mr. Patrick    male  32.0      0   \n",
      "\n",
      "     Parch            Ticket     Fare Cabin Embarked  \n",
      "0        0         A/5 21171   7.2500   NaN        S  \n",
      "1        0          PC 17599  71.2833   C85        C  \n",
      "2        0  STON/O2. 3101282   7.9250   NaN        S  \n",
      "3        0            113803  53.1000  C123        S  \n",
      "4        0            373450   8.0500   NaN        S  \n",
      "..     ...               ...      ...   ...      ...  \n",
      "886      0            211536  13.0000   NaN        S  \n",
      "887      0            112053  30.0000   B42        S  \n",
      "888      2        W./C. 6607  23.4500   NaN        S  \n",
      "889      0            111369  30.0000  C148        C  \n",
      "890      0            370376   7.7500   NaN        Q  \n",
      "\n",
      "[891 rows x 12 columns]\n"
     ]
    }
   ],
   "source": [
    "# Daten ausgeben (default: die ersten 5 und die letzten 5 Datenzeilen)\n",
    "print(df)"
   ]
  },
  {
   "cell_type": "code",
   "execution_count": 9,
   "metadata": {},
   "outputs": [],
   "source": [
    "# Alle Daten ausgeben\n",
    "#  (Hinweis: Die Ausführung kann ggf. etwas länger dauern. Deshalb ist dieser Aufruf auskommentiert.)\n",
    "#pd.set_option('display.max_rows', None)\n",
    "#display(df)"
   ]
  },
  {
   "cell_type": "code",
   "execution_count": 10,
   "metadata": {},
   "outputs": [
    {
     "name": "stdout",
     "output_type": "stream",
     "text": [
      "['PassengerId' 'Survived' 'Pclass' 'Name' 'Sex' 'Age' 'SibSp' 'Parch'\n",
      " 'Ticket' 'Fare' 'Cabin' 'Embarked']\n"
     ]
    }
   ],
   "source": [
    "# Attributnamen (Spaltenüberschriften) ausgeben: 3 verschiedene Alternativen\n",
    "print(df.columns.values)\n",
    "#print(df.columns)\n",
    "#df.columns"
   ]
  },
  {
   "cell_type": "code",
   "execution_count": 11,
   "metadata": {},
   "outputs": [
    {
     "name": "stdout",
     "output_type": "stream",
     "text": [
      "PassengerId      int64\n",
      "Survived         int64\n",
      "Pclass           int64\n",
      "Name            object\n",
      "Sex             object\n",
      "Age            float64\n",
      "SibSp            int64\n",
      "Parch            int64\n",
      "Ticket          object\n",
      "Fare           float64\n",
      "Cabin           object\n",
      "Embarked        object\n",
      "dtype: object\n"
     ]
    }
   ],
   "source": [
    "# Datentypen zu den Attributen ausgeben\n",
    "print(df.dtypes)"
   ]
  },
  {
   "cell_type": "code",
   "execution_count": 12,
   "metadata": {},
   "outputs": [
    {
     "name": "stdout",
     "output_type": "stream",
     "text": [
      "PassengerId             Int64\n",
      "Survived                Int64\n",
      "Pclass                  Int64\n",
      "Name           string[python]\n",
      "Sex            string[python]\n",
      "Age                   Float64\n",
      "SibSp                   Int64\n",
      "Parch                   Int64\n",
      "Ticket         string[python]\n",
      "Fare                  Float64\n",
      "Cabin          string[python]\n",
      "Embarked       string[python]\n",
      "dtype: object\n"
     ]
    }
   ],
   "source": [
    "# Datentypen bestmöglich automatisch konvertieren: z.B. object => string\n",
    "#  Wir speichern die Änderungen direkt wieder in der gleichen Variablen df (Zuweisungsoperator =).\n",
    "#  Der Inhalt von df wird also überschrieben. Wir sagen auch: df wird überschrieben.\n",
    "df = df.convert_dtypes()\n",
    "print(df.dtypes)"
   ]
  },
  {
   "cell_type": "code",
   "execution_count": 13,
   "metadata": {},
   "outputs": [
    {
     "name": "stdout",
     "output_type": "stream",
     "text": [
      "(891, 12)\n"
     ]
    }
   ],
   "source": [
    "# Dimensionen (Zeilen, Spalten) anzeigen\n",
    "print(df.shape)"
   ]
  },
  {
   "cell_type": "code",
   "execution_count": 14,
   "metadata": {},
   "outputs": [
    {
     "name": "stdout",
     "output_type": "stream",
     "text": [
      "<class 'pandas.core.frame.DataFrame'>\n",
      "RangeIndex: 891 entries, 0 to 890\n",
      "Data columns (total 12 columns):\n",
      " #   Column       Non-Null Count  Dtype  \n",
      "---  ------       --------------  -----  \n",
      " 0   PassengerId  891 non-null    Int64  \n",
      " 1   Survived     891 non-null    Int64  \n",
      " 2   Pclass       891 non-null    Int64  \n",
      " 3   Name         891 non-null    string \n",
      " 4   Sex          891 non-null    string \n",
      " 5   Age          714 non-null    Float64\n",
      " 6   SibSp        891 non-null    Int64  \n",
      " 7   Parch        891 non-null    Int64  \n",
      " 8   Ticket       891 non-null    string \n",
      " 9   Fare         891 non-null    Float64\n",
      " 10  Cabin        204 non-null    string \n",
      " 11  Embarked     889 non-null    string \n",
      "dtypes: Float64(2), Int64(5), string(5)\n",
      "memory usage: 89.8 KB\n"
     ]
    }
   ],
   "source": [
    "# Allgemeine Informationen zum Data Frame ausgeben\n",
    "#  Tabelle: Attributname, Anzahl Werte (nicht NULL), Datentyp\n",
    "df.info()"
   ]
  },
  {
   "cell_type": "code",
   "execution_count": 15,
   "metadata": {},
   "outputs": [
    {
     "name": "stdout",
     "output_type": "stream",
     "text": [
      "(314, 12)\n"
     ]
    }
   ],
   "source": [
    "# Attributwerte auswählen\n",
    "#  hier z.B. nur Frauen (und Mädchen)\n",
    "#\n",
    "# Schritt 1: df['Sex']\n",
    "#  Mit diesem Ausdruck extrahieren wir die Spalte Sex extrahiert.\n",
    "#  Damit schneiden wir aus der Tabelle (2-D) einen Vektor (1-D: eine Spalte) heraus.\n",
    "#  Dieser Vektor hat die Länge 891 und enthält die Werte \"male\" und \"female\".\n",
    "#\n",
    "# Schritt 2: df['Sex'] == 'female'\n",
    "#  Mit diesem Ausdruck erzeugen wir einen Vektor der Länge 891, der jetzt die Werte True und False enthält:\n",
    "#  True falls der Attributwert \"female\" ist, ansonsten (also bei \"male\") False.\n",
    "#  (Vergleichsoperator ==)\n",
    "#\n",
    "# Schritt 3: df[df['Sex'] == 'female']\n",
    "#  Mit diesem Ausdruck erzeugen wir eine Tabelle, genauer ein Data Frame.\n",
    "#  Diese Tabelle enthält nur noch die Datenzeilen (Datensätze) mit den Frauen und Mädchen.\n",
    "#  \n",
    "# Schritt 4: df = df[df[\"Sex\"] == \"female\"]\n",
    "#  Schließlich speichern wir die neue Tabelle als Ergebnis wieder in der Variablen df.\n",
    "#  df ist nun jedoch um einige Datensätze (Zeilen) reduziert (ursprünglich 891 Zeilen, jetzt 314 Zeilen).\n",
    "#\n",
    "df = df[df['Sex'] == 'female']\n",
    "# Ausgabe der Dimensionen\n",
    "print(df.shape)"
   ]
  },
  {
   "cell_type": "code",
   "execution_count": 16,
   "metadata": {},
   "outputs": [
    {
     "name": "stdout",
     "output_type": "stream",
     "text": [
      "v1: ['PassengerId' 'Survived' 'Pclass' 'Age' 'SibSp' 'Parch' 'Fare']\n",
      "v2: ['PassengerId' 'Survived' 'Pclass' 'Age' 'SibSp' 'Parch' 'Fare']\n",
      "v3: ['PassengerId' 'Survived' 'Pclass' 'Age' 'SibSp' 'Parch' 'Fare']\n",
      "v4: ['PassengerId' 'Survived' 'Pclass' 'Age' 'SibSp' 'Parch' 'Fare']\n"
     ]
    }
   ],
   "source": [
    "# Attribute auswählen\n",
    "#  hier z.B. numerische Attribute behalten und Texte (Datentyp string) herausfiltern\n",
    "#  Zum Testen verschiedener Alternativen speichern wir die Ergebnisse in vier neue Variablen df1 bis df4\n",
    "#\n",
    "# Alternative 1: Filtern aufgrund des Datentyps (INCLUDE)\n",
    "df1 = df.select_dtypes(include=[np.number])\n",
    "# Ausgabe der Spaltennamen\n",
    "print('v1:', df1.columns.values)\n",
    "#\n",
    "# Alternative 2: Filtern aufgrund des Datentyps (EXCLUDE)\n",
    "df2 = df.select_dtypes(exclude='string')\n",
    "# Ausgabe der Spaltennamen\n",
    "print('v2:', df2.columns.values)\n",
    "#\n",
    "# Alternative 3: Filtern beliebiger Spalten aufgrund des Spaltennamens (INCLUDE)\n",
    "#  Hierzu benutzen wir eine Liste mit den Namen der Spalten, die wir behalten möchten\n",
    "columns = ['PassengerId', 'Survived', 'Pclass', 'Age', 'SibSp', 'Parch', 'Fare']\n",
    "df3 = df.filter(columns)\n",
    "# Ausgabe der Spaltennamen\n",
    "print('v3:', df3.columns.values)\n",
    "#\n",
    "# Alternative 4: Löschen beliebiger Spalten aufgrund des Spaltennamens (EXCLUDE)\n",
    "#  Hierzu benutzen wir eine Liste mit den Namen der Spalten, die wir nicht behalten möchten\n",
    "columns = ['Name', 'Sex', 'Ticket', 'Cabin', 'Embarked']\n",
    "df4 = df.drop(columns, axis=1)\n",
    "# Ausgabe der Spaltennamen\n",
    "print('v4:', df4.columns.values)\n",
    "#\n",
    "# Eine dieser Alternativen benutzen wir nun für df\n",
    "df = df4"
   ]
  },
  {
   "cell_type": "code",
   "execution_count": 17,
   "metadata": {},
   "outputs": [],
   "source": [
    "# Daten als Excel-Datei speichern\n",
    "df.to_excel('../../data/titanic/temp/output_1.xlsx', index=False) # Den Index selbst speichern wir nicht"
   ]
  },
  {
   "cell_type": "code",
   "execution_count": 18,
   "metadata": {},
   "outputs": [
    {
     "data": {
      "text/html": [
       "<div>\n",
       "<style scoped>\n",
       "    .dataframe tbody tr th:only-of-type {\n",
       "        vertical-align: middle;\n",
       "    }\n",
       "\n",
       "    .dataframe tbody tr th {\n",
       "        vertical-align: top;\n",
       "    }\n",
       "\n",
       "    .dataframe thead th {\n",
       "        text-align: right;\n",
       "    }\n",
       "</style>\n",
       "<table border=\"1\" class=\"dataframe\">\n",
       "  <thead>\n",
       "    <tr style=\"text-align: right;\">\n",
       "      <th></th>\n",
       "      <th>PassengerId</th>\n",
       "      <th>Survived</th>\n",
       "      <th>Pclass</th>\n",
       "      <th>Age</th>\n",
       "      <th>SibSp</th>\n",
       "      <th>Parch</th>\n",
       "      <th>Fare</th>\n",
       "    </tr>\n",
       "  </thead>\n",
       "  <tbody>\n",
       "    <tr>\n",
       "      <th>1</th>\n",
       "      <td>2</td>\n",
       "      <td>1</td>\n",
       "      <td>1</td>\n",
       "      <td>38.0</td>\n",
       "      <td>1</td>\n",
       "      <td>0</td>\n",
       "      <td>71.2833</td>\n",
       "    </tr>\n",
       "    <tr>\n",
       "      <th>2</th>\n",
       "      <td>3</td>\n",
       "      <td>1</td>\n",
       "      <td>3</td>\n",
       "      <td>26.0</td>\n",
       "      <td>0</td>\n",
       "      <td>0</td>\n",
       "      <td>7.925</td>\n",
       "    </tr>\n",
       "    <tr>\n",
       "      <th>3</th>\n",
       "      <td>4</td>\n",
       "      <td>1</td>\n",
       "      <td>1</td>\n",
       "      <td>35.0</td>\n",
       "      <td>1</td>\n",
       "      <td>0</td>\n",
       "      <td>53.1</td>\n",
       "    </tr>\n",
       "    <tr>\n",
       "      <th>8</th>\n",
       "      <td>9</td>\n",
       "      <td>1</td>\n",
       "      <td>3</td>\n",
       "      <td>27.0</td>\n",
       "      <td>0</td>\n",
       "      <td>2</td>\n",
       "      <td>11.1333</td>\n",
       "    </tr>\n",
       "    <tr>\n",
       "      <th>9</th>\n",
       "      <td>10</td>\n",
       "      <td>1</td>\n",
       "      <td>2</td>\n",
       "      <td>14.0</td>\n",
       "      <td>1</td>\n",
       "      <td>0</td>\n",
       "      <td>30.0708</td>\n",
       "    </tr>\n",
       "    <tr>\n",
       "      <th>...</th>\n",
       "      <td>...</td>\n",
       "      <td>...</td>\n",
       "      <td>...</td>\n",
       "      <td>...</td>\n",
       "      <td>...</td>\n",
       "      <td>...</td>\n",
       "      <td>...</td>\n",
       "    </tr>\n",
       "    <tr>\n",
       "      <th>880</th>\n",
       "      <td>881</td>\n",
       "      <td>1</td>\n",
       "      <td>2</td>\n",
       "      <td>25.0</td>\n",
       "      <td>0</td>\n",
       "      <td>1</td>\n",
       "      <td>26.0</td>\n",
       "    </tr>\n",
       "    <tr>\n",
       "      <th>882</th>\n",
       "      <td>883</td>\n",
       "      <td>0</td>\n",
       "      <td>3</td>\n",
       "      <td>22.0</td>\n",
       "      <td>0</td>\n",
       "      <td>0</td>\n",
       "      <td>10.5167</td>\n",
       "    </tr>\n",
       "    <tr>\n",
       "      <th>885</th>\n",
       "      <td>886</td>\n",
       "      <td>0</td>\n",
       "      <td>3</td>\n",
       "      <td>39.0</td>\n",
       "      <td>0</td>\n",
       "      <td>5</td>\n",
       "      <td>29.125</td>\n",
       "    </tr>\n",
       "    <tr>\n",
       "      <th>887</th>\n",
       "      <td>888</td>\n",
       "      <td>1</td>\n",
       "      <td>1</td>\n",
       "      <td>19.0</td>\n",
       "      <td>0</td>\n",
       "      <td>0</td>\n",
       "      <td>30.0</td>\n",
       "    </tr>\n",
       "    <tr>\n",
       "      <th>888</th>\n",
       "      <td>889</td>\n",
       "      <td>0</td>\n",
       "      <td>3</td>\n",
       "      <td>&lt;NA&gt;</td>\n",
       "      <td>1</td>\n",
       "      <td>2</td>\n",
       "      <td>23.45</td>\n",
       "    </tr>\n",
       "  </tbody>\n",
       "</table>\n",
       "<p>314 rows × 7 columns</p>\n",
       "</div>"
      ],
      "text/plain": [
       "     PassengerId  Survived  Pclass   Age  SibSp  Parch     Fare\n",
       "1              2         1       1  38.0      1      0  71.2833\n",
       "2              3         1       3  26.0      0      0    7.925\n",
       "3              4         1       1  35.0      1      0     53.1\n",
       "8              9         1       3  27.0      0      2  11.1333\n",
       "9             10         1       2  14.0      1      0  30.0708\n",
       "..           ...       ...     ...   ...    ...    ...      ...\n",
       "880          881         1       2  25.0      0      1     26.0\n",
       "882          883         0       3  22.0      0      0  10.5167\n",
       "885          886         0       3  39.0      0      5   29.125\n",
       "887          888         1       1  19.0      0      0     30.0\n",
       "888          889         0       3  <NA>      1      2    23.45\n",
       "\n",
       "[314 rows x 7 columns]"
      ]
     },
     "metadata": {},
     "output_type": "display_data"
    }
   ],
   "source": [
    "# Daten ausgeben\n",
    "display(df)"
   ]
  }
 ],
 "metadata": {
  "kernelspec": {
   "display_name": "Python 3 (ipykernel)",
   "language": "python",
   "name": "python3"
  },
  "language_info": {
   "codemirror_mode": {
    "name": "ipython",
    "version": 3
   },
   "file_extension": ".py",
   "mimetype": "text/x-python",
   "name": "python",
   "nbconvert_exporter": "python",
   "pygments_lexer": "ipython3",
   "version": "3.12.4"
  }
 },
 "nbformat": 4,
 "nbformat_minor": 4
}
